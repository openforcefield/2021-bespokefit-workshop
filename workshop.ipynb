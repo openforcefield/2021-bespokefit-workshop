{
 "cells": [
  {
   "cell_type": "markdown",
   "id": "e78e8c00",
   "metadata": {},
   "source": [
    "# Bespokefit workshop live session\n",
    "\n",
    "## Learning objectives\n",
    "\n",
    "By the end of this workshop you will be able to:\n",
    "\n",
    "1. Build, configure and save a general BespokeFit optimization workflow\n",
    "2. Build molecule specific optimization schemas from the general workflow\n",
    "3. Load QCArchive computed data using OpenFF-QCSubmit as a fitting reference\n",
    "4. Optimize some bespoke torsion parameters\n",
    "5. Analyse the results from ForceBalance \n",
    "6. Generate reference data locally using xTB on the fly"
   ]
  },
  {
   "cell_type": "code",
   "execution_count": 1,
   "id": "f26d7ec4",
   "metadata": {},
   "outputs": [],
   "source": [
    "from openff.qcsubmit.results import TorsionDriveResultCollection\n",
    "from openff.bespokefit.workflows import BespokeWorkflowFactory\n",
    "from openff.bespokefit.schema.optimizers import ForceBalanceSchema\n",
    "from openff.bespokefit.schema.targets import TorsionProfileTargetSchema\n",
    "from openff.bespokefit.fragmentation import WBOFragmenter\n",
    "from openff.bespokefit.schema.smirnoff import ProperTorsionSettings, SmirksType\n",
    "from openff.bespokefit.bespoke import Executor, deserialize_results, serialize_results\n",
    "from openff.bespokefit.schema.data import BespokeQCData\n",
    "from openff.qcsubmit.common_structures import QCSpec\n",
    "from openff.toolkit.topology import Molecule\n",
    "from qcportal import FractalClient\n",
    "from pprint import pprint\n",
    "from rdkit import Chem\n",
    "from rdkit.Chem.Draw import rdDepictor"
   ]
  },
  {
   "cell_type": "markdown",
   "id": "128479ce",
   "metadata": {},
   "source": [
    "## 1. Building the general workflow\n",
    "\n",
    "BespokeFit aims to provide a reproducible parameter optimization workflow for SMIRNOFF based force fields. As such normal BespokeFit execution starts with a general fitting workflow. This captures every process in the workflow along with any adjustable settings such as how the reference data should be generated. The default workflow is designed to optimize bespoke torsion parameters at the same level of theory as that used in the mainline openff force fields.\n",
    "\n",
    "Here however we will be starting with a blank workflow and building it up as we go. First, we start with our optimization engine, which is currently only `ForceBalance`. Let's start by creating the ForceBalance optimization schema."
   ]
  },
  {
   "cell_type": "code",
   "execution_count": 2,
   "id": "b3f611b6",
   "metadata": {},
   "outputs": [
    {
     "name": "stdout",
     "output_type": "stream",
     "text": [
      "{'adaptive_damping': 1.0,\n",
      " 'adaptive_factor': 0.2,\n",
      " 'eigenvalue_lower_bound': 0.01,\n",
      " 'error_tolerance': 1.0,\n",
      " 'extras': {},\n",
      " 'finite_difference_h': 0.01,\n",
      " 'gradient_convergence_threshold': 0.01,\n",
      " 'initial_trust_radius': -0.25,\n",
      " 'job_type': 'optimize',\n",
      " 'max_iterations': 10,\n",
      " 'minimum_trust_radius': 0.05,\n",
      " 'n_criteria': 2,\n",
      " 'normalize_weights': False,\n",
      " 'objective_convergence_threshold': 0.01,\n",
      " 'penalty_additive': 1.0,\n",
      " 'penalty_type': 'L2',\n",
      " 'step_convergence_threshold': 0.01,\n",
      " 'type': 'ForceBalance'}\n"
     ]
    }
   ],
   "source": [
    "fb = ForceBalanceSchema()\n",
    "pprint(fb.dict())"
   ]
  },
  {
   "cell_type": "markdown",
   "id": "a200df28",
   "metadata": {},
   "source": [
    "There are many options here and in some cases, it might not be clear what a valid input is. For example, what other penalty types could we use? \n",
    "\n",
    "As we use [pydantic](https://github.com/samuelcolvin/pydantic) to define our models we can check the schema which will give a short description for each of the properties and information on the acceptable inputs. This should also help catch errors ahead of run time as the schema is validated when new parameters are assigned."
   ]
  },
  {
   "cell_type": "code",
   "execution_count": 3,
   "id": "d466716d",
   "metadata": {},
   "outputs": [
    {
     "name": "stdout",
     "output_type": "stream",
     "text": [
      "{'description': 'A class containing the main ForceBalance optimizer settings '\n",
      "                'to use during an\\n'\n",
      "                'optimization.\\n'\n",
      "                '\\n'\n",
      "                'Priors and target definitions are stored separately as part '\n",
      "                'of an\\n'\n",
      "                '``OptimizationSchema``.',\n",
      " 'properties': {'adaptive_damping': {'default': 1.0,\n",
      "                                     'description': 'A damping factor that '\n",
      "                                                    'restraints the trust '\n",
      "                                                    'radius to trust0.',\n",
      "                                     'exclusiveMinimum': 0,\n",
      "                                     'title': 'Adaptive Damping',\n",
      "                                     'type': 'number'},\n",
      "                'adaptive_factor': {'default': 0.2,\n",
      "                                    'description': 'The amount to change the '\n",
      "                                                   'step size by in the event '\n",
      "                                                   'of a good / bad step.',\n",
      "                                    'exclusiveMinimum': 0,\n",
      "                                    'title': 'Adaptive Factor',\n",
      "                                    'type': 'number'},\n",
      "                'eigenvalue_lower_bound': {'default': 0.01,\n",
      "                                           'description': 'The minimum '\n",
      "                                                          'eigenvalue for '\n",
      "                                                          'applying steepest '\n",
      "                                                          'descent correction.',\n",
      "                                           'exclusiveMinimum': 0,\n",
      "                                           'title': 'Eigenvalue Lower Bound',\n",
      "                                           'type': 'number'},\n",
      "                'error_tolerance': {'default': 1.0,\n",
      "                                    'description': 'Steps that increase the '\n",
      "                                                   'objective function by more '\n",
      "                                                   'than this will be '\n",
      "                                                   'rejected.',\n",
      "                                    'exclusiveMinimum': 0,\n",
      "                                    'title': 'Error Tolerance',\n",
      "                                    'type': 'number'},\n",
      "                'extras': {'additionalProperties': {'type': 'string'},\n",
      "                           'default': {},\n",
      "                           'description': 'Extra settings (mostly logging '\n",
      "                                          'settings) to include in the '\n",
      "                                          'ForceBalance input file.',\n",
      "                           'title': 'Extras',\n",
      "                           'type': 'object'},\n",
      "                'finite_difference_h': {'default': 0.01,\n",
      "                                        'description': 'The step size for '\n",
      "                                                       'finite difference '\n",
      "                                                       'derivatives in many '\n",
      "                                                       'functions.',\n",
      "                                        'exclusiveMinimum': 0,\n",
      "                                        'title': 'Finite Difference H',\n",
      "                                        'type': 'number'},\n",
      "                'gradient_convergence_threshold': {'default': 0.01,\n",
      "                                                   'description': 'The '\n",
      "                                                                  'gradient '\n",
      "                                                                  'norm '\n",
      "                                                                  'convergence '\n",
      "                                                                  'criterion.',\n",
      "                                                   'exclusiveMinimum': 0,\n",
      "                                                   'title': 'Gradient '\n",
      "                                                            'Convergence '\n",
      "                                                            'Threshold',\n",
      "                                                   'type': 'number'},\n",
      "                'initial_trust_radius': {'default': -0.25,\n",
      "                                         'description': 'The initial value of '\n",
      "                                                        'the optimizers '\n",
      "                                                        'adaptive trust radius '\n",
      "                                                        \"which 'adapts' (i.e. \"\n",
      "                                                        'increases or '\n",
      "                                                        'decreases) based on '\n",
      "                                                        'whether the last step '\n",
      "                                                        'was a good or bad '\n",
      "                                                        'step.',\n",
      "                                         'title': 'Initial Trust Radius',\n",
      "                                         'type': 'number'},\n",
      "                'job_type': {'default': 'optimize',\n",
      "                             'description': 'The mode to run force balance in.',\n",
      "                             'enum': ['optimize'],\n",
      "                             'title': 'Job Type',\n",
      "                             'type': 'string'},\n",
      "                'max_iterations': {'default': 10,\n",
      "                                   'description': 'The maximum number of '\n",
      "                                                  'optimization iterations to '\n",
      "                                                  'perform.',\n",
      "                                   'exclusiveMinimum': 0,\n",
      "                                   'title': 'Max Iterations',\n",
      "                                   'type': 'integer'},\n",
      "                'minimum_trust_radius': {'default': 0.05,\n",
      "                                         'description': 'The minimum value of '\n",
      "                                                        'the optimizers '\n",
      "                                                        'adaptive trust '\n",
      "                                                        'radius.',\n",
      "                                         'title': 'Minimum Trust Radius',\n",
      "                                         'type': 'number'},\n",
      "                'n_criteria': {'default': 2,\n",
      "                               'description': 'The number of convergence '\n",
      "                                              'thresholds that must be met for '\n",
      "                                              'convergence.',\n",
      "                               'exclusiveMinimum': 0,\n",
      "                               'title': 'N Criteria',\n",
      "                               'type': 'integer'},\n",
      "                'normalize_weights': {'default': False,\n",
      "                                      'description': 'Whether to normalize the '\n",
      "                                                     'weights for the fitting '\n",
      "                                                     'targets',\n",
      "                                      'title': 'Normalize Weights',\n",
      "                                      'type': 'boolean'},\n",
      "                'objective_convergence_threshold': {'default': 0.01,\n",
      "                                                    'description': 'The '\n",
      "                                                                   'objective '\n",
      "                                                                   'function '\n",
      "                                                                   'convergence '\n",
      "                                                                   'criterion.',\n",
      "                                                    'exclusiveMinimum': 0,\n",
      "                                                    'title': 'Objective '\n",
      "                                                             'Convergence '\n",
      "                                                             'Threshold',\n",
      "                                                    'type': 'number'},\n",
      "                'penalty_additive': {'default': 1.0,\n",
      "                                     'description': 'The factor for the '\n",
      "                                                    'multiplicative penalty '\n",
      "                                                    'function in the objective '\n",
      "                                                    'function.',\n",
      "                                     'exclusiveMinimum': 0,\n",
      "                                     'title': 'Penalty Additive',\n",
      "                                     'type': 'number'},\n",
      "                'penalty_type': {'default': 'L2',\n",
      "                                 'description': 'The penalty type.',\n",
      "                                 'enum': ['L1', 'L2'],\n",
      "                                 'title': 'Penalty Type',\n",
      "                                 'type': 'string'},\n",
      "                'step_convergence_threshold': {'default': 0.01,\n",
      "                                               'description': 'The step size '\n",
      "                                                              'convergence '\n",
      "                                                              'criterion.',\n",
      "                                               'exclusiveMinimum': 0,\n",
      "                                               'title': 'Step Convergence '\n",
      "                                                        'Threshold',\n",
      "                                               'type': 'number'},\n",
      "                'type': {'default': 'ForceBalance',\n",
      "                         'enum': ['ForceBalance'],\n",
      "                         'title': 'Type',\n",
      "                         'type': 'string'}},\n",
      " 'title': 'ForceBalanceSchema',\n",
      " 'type': 'object'}\n"
     ]
    }
   ],
   "source": [
    "pprint(fb.schema())"
   ]
  },
  {
   "cell_type": "markdown",
   "id": "6e92375d",
   "metadata": {},
   "source": [
    "We can now see that `penalty_type` only accepts the values `L2` and `L1` so lets try something else and see what happens."
   ]
  },
  {
   "cell_type": "code",
   "execution_count": 4,
   "id": "9423f15c",
   "metadata": {},
   "outputs": [
    {
     "ename": "ValidationError",
     "evalue": "1 validation error for ForceBalanceSchema\npenalty_type\n  unexpected value; permitted: 'L1', 'L2' (type=value_error.const; given=L3; permitted=('L1', 'L2'))",
     "output_type": "error",
     "traceback": [
      "\u001b[0;31m---------------------------------------------------------------------------\u001b[0m",
      "\u001b[0;31mValidationError\u001b[0m                           Traceback (most recent call last)",
      "\u001b[0;32m/var/folders/d_/z5tlw23x34l91fhcx8j2vl640000gp/T/ipykernel_20033/1577149853.py\u001b[0m in \u001b[0;36m<module>\u001b[0;34m\u001b[0m\n\u001b[0;32m----> 1\u001b[0;31m \u001b[0mfb\u001b[0m\u001b[0;34m.\u001b[0m\u001b[0mpenalty_type\u001b[0m \u001b[0;34m=\u001b[0m \u001b[0;34m\"L3\"\u001b[0m\u001b[0;34m\u001b[0m\u001b[0;34m\u001b[0m\u001b[0m\n\u001b[0m",
      "\u001b[0;32m~/miniconda3/envs/bespoke/lib/python3.9/site-packages/pydantic/main.cpython-39-darwin.so\u001b[0m in \u001b[0;36mpydantic.main.BaseModel.__setattr__\u001b[0;34m()\u001b[0m\n",
      "\u001b[0;31mValidationError\u001b[0m: 1 validation error for ForceBalanceSchema\npenalty_type\n  unexpected value; permitted: 'L1', 'L2' (type=value_error.const; given=L3; permitted=('L1', 'L2'))"
     ]
    }
   ],
   "source": [
    "fb.penalty_type = \"L3\""
   ]
  },
  {
   "cell_type": "markdown",
   "id": "67365d9d",
   "metadata": {},
   "source": [
    "We get an informative error message before even running the workflow, now we set it to `L1`."
   ]
  },
  {
   "cell_type": "code",
   "execution_count": 5,
   "id": "088baec2",
   "metadata": {},
   "outputs": [],
   "source": [
    "fb.penalty_type = \"L1\""
   ]
  },
  {
   "cell_type": "markdown",
   "id": "88a1ad65",
   "metadata": {},
   "source": [
    "Now we can start to build up our workflow and see what other pieces we might need. Note by default the workflow is set up for torsion drives so here we remove the defaults and pass in our new ForceBalance optimizer schema."
   ]
  },
  {
   "cell_type": "code",
   "execution_count": 6,
   "id": "dc3644b2",
   "metadata": {},
   "outputs": [
    {
     "name": "stdout",
     "output_type": "stream",
     "text": [
      "{'expand_torsion_terms': True,\n",
      " 'fragmentation_engine': None,\n",
      " 'generate_bespoke_terms': True,\n",
      " 'initial_force_field': 'openff_unconstrained-1.3.0.offxml',\n",
      " 'optimizer': {'adaptive_damping': 1.0,\n",
      "               'adaptive_factor': 0.2,\n",
      "               'eigenvalue_lower_bound': 0.01,\n",
      "               'error_tolerance': 1.0,\n",
      "               'extras': {},\n",
      "               'finite_difference_h': 0.01,\n",
      "               'gradient_convergence_threshold': 0.01,\n",
      "               'initial_trust_radius': -0.25,\n",
      "               'job_type': 'optimize',\n",
      "               'max_iterations': 10,\n",
      "               'minimum_trust_radius': 0.05,\n",
      "               'n_criteria': 2,\n",
      "               'normalize_weights': False,\n",
      "               'objective_convergence_threshold': 0.01,\n",
      "               'penalty_additive': 1.0,\n",
      "               'penalty_type': 'L1',\n",
      "               'step_convergence_threshold': 0.01,\n",
      "               'type': 'ForceBalance'},\n",
      " 'parameter_settings': [],\n",
      " 'target_smirks': [],\n",
      " 'target_templates': []}\n"
     ]
    }
   ],
   "source": [
    "workflow = BespokeWorkflowFactory(fragmentation_engine=None, optimizer=fb, parameter_settings=[], target_smirks=[], target_templates=[])\n",
    "pprint(workflow.dict())"
   ]
  },
  {
   "cell_type": "markdown",
   "id": "35662d78",
   "metadata": {},
   "source": [
    "Bespokefit makes extensive use of the fantastic [openff-fragmenter](https://github.com/openforcefield/openff-fragmenter) package where possible to reduce the cost of QM torsion drives as they can quickly become very expensive for large drug-like molecules. Here we will add the `WBO` based fragmentation scheme to the pipeline."
   ]
  },
  {
   "cell_type": "code",
   "execution_count": 7,
   "id": "2d9f3976",
   "metadata": {},
   "outputs": [
    {
     "name": "stdout",
     "output_type": "stream",
     "text": [
      "{'keep_non_rotor_ring_substituents': True,\n",
      " 'target_bond_smarts': None,\n",
      " 'type': 'WBOFragmenter',\n",
      " 'wbo_threshold': 0.03}\n"
     ]
    }
   ],
   "source": [
    "fragmenter = WBOFragmenter()\n",
    "workflow.fragmentation_engine = fragmenter\n",
    "pprint(fragmenter.dict())"
   ]
  },
  {
   "cell_type": "markdown",
   "id": "28f6cfa8",
   "metadata": {},
   "source": [
    "We also need a target template, these describe which targets we would like to fit against and are unique to the chosen optimizer. In this case, we want to optimize torsion parameters to torsion drives so we want the `TorsionProfileTargetSchema` we can also change some target specific settings related to the optimization here."
   ]
  },
  {
   "cell_type": "code",
   "execution_count": 8,
   "id": "ba79cf97",
   "metadata": {},
   "outputs": [
    {
     "name": "stdout",
     "output_type": "stream",
     "text": [
      "{'attenuate_weights': True,\n",
      " 'energy_cutoff': 10.0,\n",
      " 'energy_denominator': 1.0,\n",
      " 'extras': {},\n",
      " 'reference_data': None,\n",
      " 'type': 'TorsionProfile',\n",
      " 'weight': 1.0}\n"
     ]
    }
   ],
   "source": [
    "target = TorsionProfileTargetSchema()\n",
    "workflow.target_templates = [target, ]\n",
    "pprint(target.dict())"
   ]
  },
  {
   "cell_type": "markdown",
   "id": "1f340b14",
   "metadata": {},
   "source": [
    "The last two parts to add to the workflow describe which general types of parameters such as bonds or angles should be targeted and which component of the parameter class should be optimised. This could be the force constant or equilibrium value and how they should be restrained during fitting."
   ]
  },
  {
   "cell_type": "code",
   "execution_count": 9,
   "id": "e4565fbe",
   "metadata": {},
   "outputs": [
    {
     "name": "stdout",
     "output_type": "stream",
     "text": [
      "{'expand_torsion_terms': True,\n",
      " 'fragmentation_engine': {'keep_non_rotor_ring_substituents': True,\n",
      "                          'target_bond_smarts': None,\n",
      "                          'type': 'WBOFragmenter',\n",
      "                          'wbo_threshold': 0.03},\n",
      " 'generate_bespoke_terms': True,\n",
      " 'initial_force_field': 'openff_unconstrained-1.3.0.offxml',\n",
      " 'optimizer': {'adaptive_damping': 1.0,\n",
      "               'adaptive_factor': 0.2,\n",
      "               'eigenvalue_lower_bound': 0.01,\n",
      "               'error_tolerance': 1.0,\n",
      "               'extras': {},\n",
      "               'finite_difference_h': 0.01,\n",
      "               'gradient_convergence_threshold': 0.01,\n",
      "               'initial_trust_radius': -0.25,\n",
      "               'job_type': 'optimize',\n",
      "               'max_iterations': 10,\n",
      "               'minimum_trust_radius': 0.05,\n",
      "               'n_criteria': 2,\n",
      "               'normalize_weights': False,\n",
      "               'objective_convergence_threshold': 0.01,\n",
      "               'penalty_additive': 1.0,\n",
      "               'penalty_type': 'L1',\n",
      "               'step_convergence_threshold': 0.01,\n",
      "               'type': 'ForceBalance'},\n",
      " 'parameter_settings': [{'parameter_subtype': 'Proper',\n",
      "                         'parameter_type': <SmirksType.ProperTorsions: 'ProperTorsions'>,\n",
      "                         'prior': 6.0,\n",
      "                         'target': 'k'}],\n",
      " 'target_smirks': [<SmirksType.ProperTorsions: 'ProperTorsions'>],\n",
      " 'target_templates': [{'attenuate_weights': True,\n",
      "                       'energy_cutoff': 10.0,\n",
      "                       'energy_denominator': 1.0,\n",
      "                       'extras': {},\n",
      "                       'reference_data': None,\n",
      "                       'type': 'TorsionProfile',\n",
      "                       'weight': 1.0}]}\n"
     ]
    }
   ],
   "source": [
    "# let the workflow know we want to optimize the proper torsion parameters\n",
    "workflow.target_smirks = [SmirksType.ProperTorsions]\n",
    "# add the optimization options for these parameters\n",
    "options = ProperTorsionSettings()\n",
    "workflow.parameter_settings = [options, ]\n",
    "pprint(workflow.dict())"
   ]
  },
  {
   "cell_type": "markdown",
   "id": "723b8172",
   "metadata": {},
   "source": [
    "Now we can save our workflow to file to use again later or save for provenance."
   ]
  },
  {
   "cell_type": "code",
   "execution_count": 10,
   "id": "1d8fcd93",
   "metadata": {},
   "outputs": [],
   "source": [
    "workflow.export_workflow(\"workflow.yaml\")"
   ]
  },
  {
   "cell_type": "markdown",
   "id": "ac32ed0c",
   "metadata": {},
   "source": [
    "# 2. Build molecule specific schema\n",
    "\n",
    "Now we can use our general fitting schema to build a molecule specific optimization schema. This schema fully defines the optimization protocol that should be applied to the molecule including information about the reference data generation tasks which are related to the target templates in the general workflow.\n",
    "\n",
    "Let's load up an SDF file with a congeneric series of ligands from the BACE benchmark system of the Schrodinger JACS study, and select our target molecule."
   ]
  },
  {
   "cell_type": "code",
   "execution_count": 11,
   "id": "6ce0d3ba",
   "metadata": {},
   "outputs": [
    {
     "data": {
      "application/vnd.jupyter.widget-view+json": {
       "model_id": "62cf0b6f27a64727a771fcb3619ae4e8",
       "version_major": 2,
       "version_minor": 0
      },
      "text/plain": []
     },
     "metadata": {},
     "output_type": "display_data"
    },
    {
     "data": {
      "application/vnd.jupyter.widget-view+json": {
       "model_id": "743fa12cd9ee45a8b2ea9a8516a24c87",
       "version_major": 2,
       "version_minor": 0
      },
      "text/plain": [
       "NGLWidget()"
      ]
     },
     "metadata": {},
     "output_type": "display_data"
    }
   ],
   "source": [
    "# load the molecules\n",
    "ligands = Molecule.from_file(\"data/bace.sdf\")\n",
    "target_molecule = ligands[7]\n",
    "target_molecule"
   ]
  },
  {
   "cell_type": "markdown",
   "id": "131895f6",
   "metadata": {},
   "source": [
    "We can now use the workflow to build the schema. Note that the workflow can accept a list of molecules and produce a corresponding list of bespoke optimization tasks."
   ]
  },
  {
   "cell_type": "code",
   "execution_count": 12,
   "id": "ec3d81e8",
   "metadata": {},
   "outputs": [],
   "source": [
    "schema = workflow.optimization_schema_from_molecule(target_molecule)"
   ]
  },
  {
   "cell_type": "markdown",
   "id": "4ac209af",
   "metadata": {},
   "source": [
    "We can now inspect the specific schema starting with the fragments produced."
   ]
  },
  {
   "cell_type": "code",
   "execution_count": 13,
   "id": "867ab675",
   "metadata": {},
   "outputs": [
    {
     "data": {
      "image/png": "[encoded data removed]",
      "text/plain": [
       "<IPython.core.display.Image object>"
      ]
     },
     "execution_count": 13,
     "metadata": {},
     "output_type": "execute_result"
    }
   ],
   "source": [
    "fragments = schema.target_molecule.fragments\n",
    "rd_fragments = [fragment.to_rdkit() for fragment in fragments]\n",
    "for rdmol in rd_fragments:\n",
    "    rdDepictor.Compute2DCoords(rdmol)\n",
    "Chem.Draw.MolsToGridImage(rd_fragments)"
   ]
  },
  {
   "cell_type": "markdown",
   "id": "8ea230d8",
   "metadata": {},
   "source": [
    "We can also inspect the bespoke SMIRKS that were automatically generated for this molecule by BespokeFit and check that they hit the intended atoms in both the parent and fragment. Note the SMIRKS are editable but this can cause inaccuracies during fitting if they do not transfer correctly."
   ]
  },
  {
   "cell_type": "code",
   "execution_count": 14,
   "id": "68f2a974",
   "metadata": {},
   "outputs": [
    {
     "data": {
      "image/png": "[encoded data removed]",
      "text/plain": [
       "<IPython.core.display.Image object>"
      ]
     },
     "execution_count": 14,
     "metadata": {},
     "output_type": "execute_result"
    }
   ],
   "source": [
    "parameters = schema.target_smirks\n",
    "parameter = parameters[2]\n",
    "parent = schema.target_molecule.molecule\n",
    "fragment0 = schema.target_molecule.fragment_data[0].molecule\n",
    "fragment1 = schema.target_molecule.fragment_data[1].molecule\n",
    "\n",
    "# get the smirks matches on parent and fragment\n",
    "parent_matches = parent.chemical_environment_matches(parameter.smirks)\n",
    "fragment1_matches = fragment1.chemical_environment_matches(parameter.smirks)\n",
    "fragment0_matches = fragment0.chemical_environment_matches(parameter.smirks)\n",
    "parent_matches = [atom for match in parent_matches for atom in match]\n",
    "fragment1_matches = [atom for match in fragment1_matches for atom in match]\n",
    "fragment0_matches = [atom for match in fragment0_matches for atom in match]\n",
    "\n",
    "rd_mols = [parent.to_rdkit(), fragment1.to_rdkit(), fragment0.to_rdkit()]\n",
    "for rdmol in rd_mols:\n",
    "    rdDepictor.Compute2DCoords(rdmol)\n",
    "\n",
    "Chem.Draw.MolsToGridImage(rd_mols, highlightAtomLists=[parent_matches, fragment1_matches, fragment0_matches])"
   ]
  },
  {
   "cell_type": "markdown",
   "id": "e45ce0b2",
   "metadata": {},
   "source": [
    "We can also check the QC specification used to compute the reference data to ensure it is compatible with the OpenFF default."
   ]
  },
  {
   "cell_type": "code",
   "execution_count": 15,
   "id": "e58a580a",
   "metadata": {},
   "outputs": [
    {
     "data": {
      "text/plain": [
       "{'type': 'bespoke',\n",
       " 'qc_spec': {'method': 'B3LYP-D3BJ',\n",
       "  'basis': 'DZVP',\n",
       "  'program': 'psi4',\n",
       "  'spec_name': 'default',\n",
       "  'spec_description': 'Standard OpenFF optimization quantum chemistry specification.',\n",
       "  'store_wavefunction': 'none',\n",
       "  'implicit_solvent': None,\n",
       "  'keywords': None},\n",
       " 'target_conformers': 4}"
      ]
     },
     "execution_count": 15,
     "metadata": {},
     "output_type": "execute_result"
    }
   ],
   "source": [
    "schema.targets[0].reference_data.dict(exclude={\"tasks\"})"
   ]
  },
  {
   "cell_type": "markdown",
   "id": "a5853811",
   "metadata": {},
   "source": [
    "# 3. Loading data from QCArchive\n",
    "\n",
    "BespokeFit was built with QCFractal/QCArchive integration in mind, allowing for the reuse of computed reference data stored in a QCArchive instance. Here we will load a torsion drive dataset from the public QCArchive that contains JACS fragments including our target molecule. \n",
    "\n",
    "First, we connect to the public client and list all of the available torsion drive datasets."
   ]
  },
  {
   "cell_type": "code",
   "execution_count": 16,
   "id": "1c096f07",
   "metadata": {},
   "outputs": [
    {
     "data": {
      "text/html": [
       "<div>\n",
       "<style scoped>\n",
       "    .dataframe tbody tr th:only-of-type {\n",
       "        vertical-align: middle;\n",
       "    }\n",
       "\n",
       "    .dataframe tbody tr th {\n",
       "        vertical-align: top;\n",
       "    }\n",
       "\n",
       "    .dataframe thead th {\n",
       "        text-align: right;\n",
       "    }\n",
       "</style>\n",
       "<table border=\"1\" class=\"dataframe\">\n",
       "  <thead>\n",
       "    <tr style=\"text-align: right;\">\n",
       "      <th></th>\n",
       "      <th></th>\n",
       "      <th>tagline</th>\n",
       "    </tr>\n",
       "    <tr>\n",
       "      <th>collection</th>\n",
       "      <th>name</th>\n",
       "      <th></th>\n",
       "    </tr>\n",
       "  </thead>\n",
       "  <tbody>\n",
       "    <tr>\n",
       "      <th rowspan=\"43\" valign=\"top\">TorsionDriveDataset</th>\n",
       "      <th>Fragment Stability Benchmark</th>\n",
       "      <td>None</td>\n",
       "    </tr>\n",
       "    <tr>\n",
       "      <th>Fragmenter paper</th>\n",
       "      <td>None</td>\n",
       "    </tr>\n",
       "    <tr>\n",
       "      <th>OpenFF Amide Torsion Set v1.0</th>\n",
       "      <td>Amides, thioamides and amidines diversely func...</td>\n",
       "    </tr>\n",
       "    <tr>\n",
       "      <th>OpenFF Aniline 2D Impropers v1.0</th>\n",
       "      <td>Substituted aniline derivatives with various e...</td>\n",
       "    </tr>\n",
       "    <tr>\n",
       "      <th>OpenFF DANCE 1 eMolecules t142 v1.0</th>\n",
       "      <td>None</td>\n",
       "    </tr>\n",
       "    <tr>\n",
       "      <th>OpenFF Fragmenter Validation 1.0</th>\n",
       "      <td>None</td>\n",
       "    </tr>\n",
       "    <tr>\n",
       "      <th>OpenFF Full TorsionDrive Benchmark 1</th>\n",
       "      <td>None</td>\n",
       "    </tr>\n",
       "    <tr>\n",
       "      <th>OpenFF Gen 2 Torsion Set 1 Roche</th>\n",
       "      <td>None</td>\n",
       "    </tr>\n",
       "    <tr>\n",
       "      <th>OpenFF Gen 2 Torsion Set 1 Roche 2</th>\n",
       "      <td>None</td>\n",
       "    </tr>\n",
       "    <tr>\n",
       "      <th>OpenFF Gen 2 Torsion Set 2 Coverage</th>\n",
       "      <td>None</td>\n",
       "    </tr>\n",
       "    <tr>\n",
       "      <th>OpenFF Gen 2 Torsion Set 2 Coverage 2</th>\n",
       "      <td>None</td>\n",
       "    </tr>\n",
       "    <tr>\n",
       "      <th>OpenFF Gen 2 Torsion Set 3 Pfizer Discrepancy</th>\n",
       "      <td>None</td>\n",
       "    </tr>\n",
       "    <tr>\n",
       "      <th>OpenFF Gen 2 Torsion Set 3 Pfizer Discrepancy 2</th>\n",
       "      <td>None</td>\n",
       "    </tr>\n",
       "    <tr>\n",
       "      <th>OpenFF Gen 2 Torsion Set 4 eMolecules Discrepancy</th>\n",
       "      <td>None</td>\n",
       "    </tr>\n",
       "    <tr>\n",
       "      <th>OpenFF Gen 2 Torsion Set 4 eMolecules Discrepancy 2</th>\n",
       "      <td>None</td>\n",
       "    </tr>\n",
       "    <tr>\n",
       "      <th>OpenFF Gen 2 Torsion Set 5 Bayer</th>\n",
       "      <td>None</td>\n",
       "    </tr>\n",
       "    <tr>\n",
       "      <th>OpenFF Gen 2 Torsion Set 5 Bayer 2</th>\n",
       "      <td>None</td>\n",
       "    </tr>\n",
       "    <tr>\n",
       "      <th>OpenFF Gen 2 Torsion Set 6 Supplemental</th>\n",
       "      <td>None</td>\n",
       "    </tr>\n",
       "    <tr>\n",
       "      <th>OpenFF Gen 2 Torsion Set 6 Supplemental 2</th>\n",
       "      <td>None</td>\n",
       "    </tr>\n",
       "    <tr>\n",
       "      <th>OpenFF Gen3 Torsion Set v1.0</th>\n",
       "      <td>OpenFF Gen3 Torsion Set v1.0</td>\n",
       "    </tr>\n",
       "    <tr>\n",
       "      <th>OpenFF Group1 Torsions</th>\n",
       "      <td>None</td>\n",
       "    </tr>\n",
       "    <tr>\n",
       "      <th>OpenFF Group1 Torsions 2</th>\n",
       "      <td>None</td>\n",
       "    </tr>\n",
       "    <tr>\n",
       "      <th>OpenFF Group1 Torsions 3</th>\n",
       "      <td>None</td>\n",
       "    </tr>\n",
       "    <tr>\n",
       "      <th>OpenFF Primary Benchmark 1 Torsion Set</th>\n",
       "      <td>None</td>\n",
       "    </tr>\n",
       "    <tr>\n",
       "      <th>OpenFF Primary Benchmark 2 Torsion Set</th>\n",
       "      <td>None</td>\n",
       "    </tr>\n",
       "    <tr>\n",
       "      <th>OpenFF Primary TorsionDrive Benchmark 1</th>\n",
       "      <td>None</td>\n",
       "    </tr>\n",
       "    <tr>\n",
       "      <th>OpenFF Protein Fragments TorsionDrives v1.0</th>\n",
       "      <td>Torsiondrives for selected dihedrals of variou...</td>\n",
       "    </tr>\n",
       "    <tr>\n",
       "      <th>OpenFF Rowley Biaryl v1.0</th>\n",
       "      <td>Torsiondrives of biaryl molecules.</td>\n",
       "    </tr>\n",
       "    <tr>\n",
       "      <th>OpenFF Substituted Phenyl Set 1</th>\n",
       "      <td>None</td>\n",
       "    </tr>\n",
       "    <tr>\n",
       "      <th>OpenFF Substituted Phenyl Set 1 v2.0</th>\n",
       "      <td>Torsiondrives for selected dihedrals of variou...</td>\n",
       "    </tr>\n",
       "    <tr>\n",
       "      <th>OpenFF Theory Benchmarking Set B3LYP-D3BJ 6-31+Gss</th>\n",
       "      <td>Torsiondrives for benchmarking B3LYP-D3BJ/6-31...</td>\n",
       "    </tr>\n",
       "    <tr>\n",
       "      <th>OpenFF Theory Benchmarking Set B3LYP-D3BJ DZVP v1.0</th>\n",
       "      <td>Torsiondrives for benchmarking B3LYP-D3BJ/DZVP</td>\n",
       "    </tr>\n",
       "    <tr>\n",
       "      <th>OpenFF Theory Benchmarking Set B3LYP-D3BJ def2-TZVP v1.0</th>\n",
       "      <td>Torsiondrives for benchmarking B3LYP-D3BJ/def2...</td>\n",
       "    </tr>\n",
       "    <tr>\n",
       "      <th>OpenFF Theory Benchmarking Set B3LYP-D3BJ def2-TZVPD v1.0</th>\n",
       "      <td>Torsiondrives for benchmarking B3LYP-D3BJ/def2...</td>\n",
       "    </tr>\n",
       "    <tr>\n",
       "      <th>OpenFF Theory Benchmarking Set B3LYP-D3BJ def2-TZVPP v1.0</th>\n",
       "      <td>Torsiondrives for benchmarking B3LYP-D3BJ/def2...</td>\n",
       "    </tr>\n",
       "    <tr>\n",
       "      <th>OpenFF Theory Benchmarking Set B3LYP-D3BJ def2-TZVPPD</th>\n",
       "      <td>Torsiondrives for benchmarking B3LYP-D3BJ/def2...</td>\n",
       "    </tr>\n",
       "    <tr>\n",
       "      <th>OpenFF Theory Benchmarking Set v1.0</th>\n",
       "      <td>Torsiondrives for theory benchmarking</td>\n",
       "    </tr>\n",
       "    <tr>\n",
       "      <th>OpenFF WBO Conjugated Series v1.0</th>\n",
       "      <td>A functional series of molecules with varying ...</td>\n",
       "    </tr>\n",
       "    <tr>\n",
       "      <th>OpenFF-benchmark-ligand-fragments-v1.0</th>\n",
       "      <td>Fragmented torsiondrives of JACS benchmark inh...</td>\n",
       "    </tr>\n",
       "    <tr>\n",
       "      <th>Pfizer Discrepancy Torsion Dataset 1</th>\n",
       "      <td>None</td>\n",
       "    </tr>\n",
       "    <tr>\n",
       "      <th>SMIRNOFF Coverage Torsion Set 1</th>\n",
       "      <td>None</td>\n",
       "    </tr>\n",
       "    <tr>\n",
       "      <th>SiliconTX Torsion Benchmark Set 1</th>\n",
       "      <td>None</td>\n",
       "    </tr>\n",
       "    <tr>\n",
       "      <th>TorsionDrive Paper</th>\n",
       "      <td>None</td>\n",
       "    </tr>\n",
       "  </tbody>\n",
       "</table>\n",
       "</div>"
      ],
      "text/plain": [
       "                                                                                                                  tagline\n",
       "collection          name                                                                                                 \n",
       "TorsionDriveDataset Fragment Stability Benchmark                                                                     None\n",
       "                    Fragmenter paper                                                                                 None\n",
       "                    OpenFF Amide Torsion Set v1.0                       Amides, thioamides and amidines diversely func...\n",
       "                    OpenFF Aniline 2D Impropers v1.0                    Substituted aniline derivatives with various e...\n",
       "                    OpenFF DANCE 1 eMolecules t142 v1.0                                                              None\n",
       "                    OpenFF Fragmenter Validation 1.0                                                                 None\n",
       "                    OpenFF Full TorsionDrive Benchmark 1                                                             None\n",
       "                    OpenFF Gen 2 Torsion Set 1 Roche                                                                 None\n",
       "                    OpenFF Gen 2 Torsion Set 1 Roche 2                                                               None\n",
       "                    OpenFF Gen 2 Torsion Set 2 Coverage                                                              None\n",
       "                    OpenFF Gen 2 Torsion Set 2 Coverage 2                                                            None\n",
       "                    OpenFF Gen 2 Torsion Set 3 Pfizer Discrepancy                                                    None\n",
       "                    OpenFF Gen 2 Torsion Set 3 Pfizer Discrepancy 2                                                  None\n",
       "                    OpenFF Gen 2 Torsion Set 4 eMolecules Discrepancy                                                None\n",
       "                    OpenFF Gen 2 Torsion Set 4 eMolecules Discrepan...                                               None\n",
       "                    OpenFF Gen 2 Torsion Set 5 Bayer                                                                 None\n",
       "                    OpenFF Gen 2 Torsion Set 5 Bayer 2                                                               None\n",
       "                    OpenFF Gen 2 Torsion Set 6 Supplemental                                                          None\n",
       "                    OpenFF Gen 2 Torsion Set 6 Supplemental 2                                                        None\n",
       "                    OpenFF Gen3 Torsion Set v1.0                                             OpenFF Gen3 Torsion Set v1.0\n",
       "                    OpenFF Group1 Torsions                                                                           None\n",
       "                    OpenFF Group1 Torsions 2                                                                         None\n",
       "                    OpenFF Group1 Torsions 3                                                                         None\n",
       "                    OpenFF Primary Benchmark 1 Torsion Set                                                           None\n",
       "                    OpenFF Primary Benchmark 2 Torsion Set                                                           None\n",
       "                    OpenFF Primary TorsionDrive Benchmark 1                                                          None\n",
       "                    OpenFF Protein Fragments TorsionDrives v1.0         Torsiondrives for selected dihedrals of variou...\n",
       "                    OpenFF Rowley Biaryl v1.0                                          Torsiondrives of biaryl molecules.\n",
       "                    OpenFF Substituted Phenyl Set 1                                                                  None\n",
       "                    OpenFF Substituted Phenyl Set 1 v2.0                Torsiondrives for selected dihedrals of variou...\n",
       "                    OpenFF Theory Benchmarking Set B3LYP-D3BJ 6-31+Gss  Torsiondrives for benchmarking B3LYP-D3BJ/6-31...\n",
       "                    OpenFF Theory Benchmarking Set B3LYP-D3BJ DZVP ...     Torsiondrives for benchmarking B3LYP-D3BJ/DZVP\n",
       "                    OpenFF Theory Benchmarking Set B3LYP-D3BJ def2-...  Torsiondrives for benchmarking B3LYP-D3BJ/def2...\n",
       "                    OpenFF Theory Benchmarking Set B3LYP-D3BJ def2-...  Torsiondrives for benchmarking B3LYP-D3BJ/def2...\n",
       "                    OpenFF Theory Benchmarking Set B3LYP-D3BJ def2-...  Torsiondrives for benchmarking B3LYP-D3BJ/def2...\n",
       "                    OpenFF Theory Benchmarking Set B3LYP-D3BJ def2-...  Torsiondrives for benchmarking B3LYP-D3BJ/def2...\n",
       "                    OpenFF Theory Benchmarking Set v1.0                             Torsiondrives for theory benchmarking\n",
       "                    OpenFF WBO Conjugated Series v1.0                   A functional series of molecules with varying ...\n",
       "                    OpenFF-benchmark-ligand-fragments-v1.0              Fragmented torsiondrives of JACS benchmark inh...\n",
       "                    Pfizer Discrepancy Torsion Dataset 1                                                             None\n",
       "                    SMIRNOFF Coverage Torsion Set 1                                                                  None\n",
       "                    SiliconTX Torsion Benchmark Set 1                                                                None\n",
       "                    TorsionDrive Paper                                                                               None"
      ]
     },
     "execution_count": 16,
     "metadata": {},
     "output_type": "execute_result"
    }
   ],
   "source": [
    "client = FractalClient()\n",
    "client.list_collections(\"torsiondrivedataset\")"
   ]
  },
  {
   "cell_type": "markdown",
   "id": "c4812a8d",
   "metadata": {},
   "source": [
    "Next, we can use [OpenFF-QCSubmit](https://github.dihe.moe/openforcefield/openff-qcsubmit/) to create a results object from a QCArchive dataset, this just wraps around the data structure and provides an interface to the openff software stack by converting the results to openff-toolkit molecule objects. \n",
    "\n",
    "Here we select the `OpenFF-benchmark-ligand-fragments-v1.0` dataset which we know contains the result we are looking for among many others and we choose all calculations done with the OpenFF `default` spec `B3LYP-D3BJ/DZVP`."
   ]
  },
  {
   "cell_type": "code",
   "execution_count": 17,
   "id": "d486ef13",
   "metadata": {},
   "outputs": [],
   "source": [
    "result = TorsionDriveResultCollection.from_server(client, \"OpenFF-benchmark-ligand-fragments-v1.0\", \"default\")"
   ]
  },
  {
   "cell_type": "markdown",
   "id": "035b8dde",
   "metadata": {},
   "source": [
    "We can now take a look at the dataset and see how many resuls we have collected."
   ]
  },
  {
   "cell_type": "code",
   "execution_count": 18,
   "id": "f55a7f9c",
   "metadata": {},
   "outputs": [
    {
     "name": "stdout",
     "output_type": "stream",
     "text": [
      "Number of uniquie molecules 368\n",
      "Number of torsiondrives 481\n"
     ]
    }
   ],
   "source": [
    "print(f\"Number of uniquie molecules {result.n_molecules}\")\n",
    "print(f\"Number of torsiondrives {result.n_results}\")"
   ]
  },
  {
   "cell_type": "markdown",
   "id": "6252b916",
   "metadata": {},
   "source": [
    "So we have 481 torsion drives across 368 unique molecules, with some molecules have multiple torsion driven. Where all scans are 1D. The dataset object contains references to the data records in the archive to keep it light, inorder to use the results we then need to pull them down and convert them into a usable format."
   ]
  },
  {
   "cell_type": "code",
   "execution_count": 19,
   "id": "36a394aa",
   "metadata": {},
   "outputs": [],
   "source": [
    "records_and_molecules = result.to_records()\n",
    "record, torsion_molecule = records_and_molecules[0]"
   ]
  },
  {
   "cell_type": "markdown",
   "id": "75395d00",
   "metadata": {},
   "source": [
    "This is the raw QCArchive torsiondrive result object."
   ]
  },
  {
   "cell_type": "code",
   "execution_count": 20,
   "id": "38971fea",
   "metadata": {},
   "outputs": [
    {
     "name": "stdout",
     "output_type": "stream",
     "text": [
      "{'created_on': datetime.datetime(2020, 8, 11, 8, 41, 29, 18631),\n",
      " 'error': None,\n",
      " 'extras': {},\n",
      " 'final_energy_dict': {'[-105]': -3640.4638158997955,\n",
      "                       '[-120]': -3640.4647679341156,\n",
      "                       '[-135]': -3640.465163735234,\n",
      "                       '[-150]': -3640.4642715928676,\n",
      "                       '[-15]': -3640.4636147417914,\n",
      "                       '[-165]': -3640.4624015613344,\n",
      "                       '[-30]': -3640.4652715028706,\n",
      "                       '[-45]': -3640.465825944451,\n",
      "                       '[-60]': -3640.4651696332535,\n",
      "                       '[-75]': -3640.464054289657,\n",
      "                       '[-90]': -3640.4633727497303,\n",
      "                       '[0]': -3640.462376071303,\n",
      "                       '[105]': -3640.463816209257,\n",
      "                       '[120]': -3640.4647678395318,\n",
      "                       '[135]': -3640.4651635049663,\n",
      "                       '[150]': -3640.464272242762,\n",
      "                       '[15]': -3640.4636146794787,\n",
      "                       '[165]': -3640.4624028572016,\n",
      "                       '[180]': -3640.461258366971,\n",
      "                       '[30]': -3640.465272003303,\n",
      "                       '[45]': -3640.46582617854,\n",
      "                       '[60]': -3640.465168726225,\n",
      "                       '[75]': -3640.4640544792005,\n",
      "                       '[90]': -3640.4633727360174},\n",
      " 'hash_index': 'a6e900a05c49928512be7c3bc2add6c887ebfae4',\n",
      " 'id': '21540278',\n",
      " 'initial_molecule': ['15026098',\n",
      "                      '15026099',\n",
      "                      '15026100',\n",
      "                      '15026101',\n",
      "                      '15026102',\n",
      "                      '15026103'],\n",
      " 'keywords': {'dihedral_ranges': None,\n",
      "              'dihedrals': [(1, 5, 9, 15)],\n",
      "              'energy_decrease_thresh': None,\n",
      "              'energy_upper_limit': 0.05,\n",
      "              'grid_spacing': [15]},\n",
      " 'manager_name': None,\n",
      " 'minimum_positions': {'[-105]': 1,\n",
      "                       '[-120]': 0,\n",
      "                       '[-135]': 2,\n",
      "                       '[-150]': 3,\n",
      "                       '[-15]': 1,\n",
      "                       '[-165]': 2,\n",
      "                       '[-30]': 2,\n",
      "                       '[-45]': 0,\n",
      "                       '[-60]': 1,\n",
      "                       '[-75]': 0,\n",
      "                       '[-90]': 1,\n",
      "                       '[0]': 3,\n",
      "                       '[105]': 1,\n",
      "                       '[120]': 0,\n",
      "                       '[135]': 1,\n",
      "                       '[150]': 2,\n",
      "                       '[15]': 4,\n",
      "                       '[165]': 1,\n",
      "                       '[180]': 3,\n",
      "                       '[30]': 4,\n",
      "                       '[45]': 1,\n",
      "                       '[60]': 2,\n",
      "                       '[75]': 0,\n",
      "                       '[90]': 1},\n",
      " 'modified_on': datetime.datetime(2020, 8, 11, 8, 41, 29, 18629),\n",
      " 'optimization_history': {'[-105]': ['22869594', '22891514'],\n",
      "                          '[-120]': ['22871761', '22871762', '22920765'],\n",
      "                          '[-135]': ['22869593', '22891513', '23659981'],\n",
      "                          '[-150]': ['21540650',\n",
      "                                     '22871759',\n",
      "                                     '22871760',\n",
      "                                     '22920747',\n",
      "                                     '23694082'],\n",
      "                          '[-15]': ['22891517', '23659983', '23816554'],\n",
      "                          '[-165]': ['22869592',\n",
      "                                     '22891512',\n",
      "                                     '23659980',\n",
      "                                     '23816553'],\n",
      "                          '[-30]': ['22920767', '22920768', '23694083'],\n",
      "                          '[-45]': ['22891516', '23659982'],\n",
      "                          '[-60]': ['22871765', '22920766'],\n",
      "                          '[-75]': ['22869595', '22891515'],\n",
      "                          '[-90]': ['21540656',\n",
      "                                    '21540663',\n",
      "                                    '22871763',\n",
      "                                    '22871764'],\n",
      "                          '[0]': ['22871766',\n",
      "                                  '22920769',\n",
      "                                  '23694084',\n",
      "                                  '23694085'],\n",
      "                          '[105]': ['22869599', '22891521'],\n",
      "                          '[120]': ['22871773', '22920772'],\n",
      "                          '[135]': ['22891522', '23659986'],\n",
      "                          '[150]': ['22920773', '22920774', '23694087'],\n",
      "                          '[15]': ['22869596',\n",
      "                                   '22891518',\n",
      "                                   '23659984',\n",
      "                                   '23816555',\n",
      "                                   '23816556'],\n",
      "                          '[165]': ['22891523', '23659987', '23816558'],\n",
      "                          '[180]': ['22871774',\n",
      "                                    '22920775',\n",
      "                                    '23694088',\n",
      "                                    '23694089'],\n",
      "                          '[30]': ['21540669',\n",
      "                                   '22871767',\n",
      "                                   '22871768',\n",
      "                                   '22920770',\n",
      "                                   '23694086'],\n",
      "                          '[45]': ['22869597',\n",
      "                                   '22891519',\n",
      "                                   '23659985',\n",
      "                                   '23816557'],\n",
      "                          '[60]': ['22871769', '22871770', '22920771'],\n",
      "                          '[75]': ['22869598', '22891520'],\n",
      "                          '[90]': ['21540675',\n",
      "                                   '21540681',\n",
      "                                   '22871771',\n",
      "                                   '22871772']},\n",
      " 'optimization_spec': {'keywords': {'check': 0,\n",
      "                                    'convergence_set': 'gau',\n",
      "                                    'coordsys': 'tric',\n",
      "                                    'enforce': 0.1,\n",
      "                                    'epsilon': 0,\n",
      "                                    'maxiter': 300,\n",
      "                                    'molcnv': False,\n",
      "                                    'qccnv': True,\n",
      "                                    'reset': True,\n",
      "                                    'tmax': 0.3,\n",
      "                                    'trust': 0.1},\n",
      "                       'program': 'geometric'},\n",
      " 'procedure': 'torsiondrive',\n",
      " 'program': 'torsiondrive',\n",
      " 'protocols': None,\n",
      " 'provenance': {'creator': 'torsiondrive',\n",
      "                'routine': 'torsiondrive.td_api',\n",
      "                'version': 'v0.9.8.1'},\n",
      " 'qc_spec': {'basis': 'dzvp',\n",
      "             'driver': <DriverEnum.gradient: 'gradient'>,\n",
      "             'keywords': '2',\n",
      "             'method': 'b3lyp-d3bj',\n",
      "             'program': 'psi4',\n",
      "             'protocols': {'wavefunction': <WavefunctionProtocolEnum.none: 'none'>}},\n",
      " 'status': <RecordStatusEnum.complete: 'COMPLETE'>,\n",
      " 'stderr': None,\n",
      " 'stdout': None,\n",
      " 'version': 1}\n"
     ]
    }
   ],
   "source": [
    "pprint(record.dict())"
   ]
  },
  {
   "cell_type": "markdown",
   "id": "001b4bce",
   "metadata": {},
   "source": [
    "We can also inspect the openff-tookkit molecule with all of the conformers from the torsiondrive."
   ]
  },
  {
   "cell_type": "code",
   "execution_count": 21,
   "id": "44dd91da",
   "metadata": {},
   "outputs": [
    {
     "data": {
      "application/vnd.jupyter.widget-view+json": {
       "model_id": "005e4cdee4014f4993e55648c4aea9a6",
       "version_major": 2,
       "version_minor": 0
      },
      "text/plain": [
       "NGLWidget(max_frame=23)"
      ]
     },
     "metadata": {},
     "output_type": "display_data"
    }
   ],
   "source": [
    "torsion_molecule"
   ]
  },
  {
   "cell_type": "markdown",
   "id": "1a5c6c0a",
   "metadata": {},
   "source": [
    "BespokeFit can now accept the list of results objects and determine if any of the results can be used as reference data for the molecule specific fitting schema. To do this BespokeFit first determines if the molecules are the same and then works out if the target dihedrals (central bond) are the same regardless of atom ordering. Provided they are and that the reference data is computed at the requested level of theory set out in the schema the results are saved into the optimization schema. \n",
    "\n",
    "Here we will first check that we can not optimize our molecule as we have missing reference data."
   ]
  },
  {
   "cell_type": "code",
   "execution_count": 22,
   "id": "84e41d4b",
   "metadata": {},
   "outputs": [
    {
     "data": {
      "text/plain": [
       "False"
      ]
     },
     "execution_count": 22,
     "metadata": {},
     "output_type": "execute_result"
    }
   ],
   "source": [
    "schema.ready_for_fitting"
   ]
  },
  {
   "cell_type": "markdown",
   "id": "f82111c3",
   "metadata": {},
   "source": [
    "Now we can take a look at a subset of the available data in this dataset."
   ]
  },
  {
   "cell_type": "code",
   "execution_count": 23,
   "id": "5c407185",
   "metadata": {},
   "outputs": [
    {
     "data": {
      "image/png": "[encoded data removed]",
      "text/plain": [
       "<IPython.core.display.Image object>"
      ]
     },
     "execution_count": 23,
     "metadata": {},
     "output_type": "execute_result"
    }
   ],
   "source": [
    "from rdkit import Chem\n",
    "from rdkit.Chem.Draw import rdDepictor\n",
    "\n",
    "n_load = 12\n",
    "rdmols = [entry[1].to_rdkit() for entry in records_and_molecules[:n_load]]\n",
    "dihedrals = [entry[0].keywords.dihedrals[0] for entry in records_and_molecules[:n_load]]\n",
    "for rdmol in rdmols:\n",
    "    rdDepictor.Compute2DCoords(rdmol)\n",
    "Chem.Draw.MolsToGridImage(rdmols, highlightAtomLists=dihedrals, molsPerRow=4)"
   ]
  },
  {
   "cell_type": "markdown",
   "id": "a874b208",
   "metadata": {},
   "source": [
    "We can then use the results to update the schema and check that it is ready for fitting."
   ]
  },
  {
   "cell_type": "code",
   "execution_count": 24,
   "id": "9995884f",
   "metadata": {},
   "outputs": [
    {
     "name": "stdout",
     "output_type": "stream",
     "text": [
      "True\n"
     ]
    }
   ],
   "source": [
    "schema.update_with_results(records_and_molecules)\n",
    "print(schema.ready_for_fitting)"
   ]
  },
  {
   "cell_type": "markdown",
   "id": "0c2889c4",
   "metadata": {},
   "source": [
    "# 4. Optimize the bespoke torsion parameters\n",
    "\n",
    "We can then use BespokeFit to either:\n",
    "- Set up the ForceBalance optimization job for us to run later \n",
    "- Use the `Executor` class to set up and run the optimizations. \n",
    "\n",
    "Note that if we pass an incomplete schema into the `Executor` it will attempt to generate the missing data on the fly using a local QCFractal instance. See section 6 for more information."
   ]
  },
  {
   "cell_type": "code",
   "execution_count": 25,
   "id": "a6314668",
   "metadata": {},
   "outputs": [],
   "source": [
    "executor = Executor()"
   ]
  },
  {
   "cell_type": "code",
   "execution_count": 26,
   "id": "bda67497",
   "metadata": {},
   "outputs": [
    {
     "name": "stderr",
     "output_type": "stream",
     "text": [
      "\r",
      "  0%|          | 0/3 [00:00<?, ?it/s]\r",
      "                                     \r",
      "\r",
      "  0%|          | 0/3 [00:00<?, ?it/s]"
     ]
    },
    {
     "name": "stdout",
     "output_type": "stream",
     "text": [
      "generating target directory for torsion-21540558\n",
      "Note: Failed to import the optional openff.evaluator package. \n",
      "Note: Failed to import the optional openff.recharge package.\n"
     ]
    },
    {
     "name": "stderr",
     "output_type": "stream",
     "text": [
      "100%|██████████| 3/3 [00:00<00:00,  4.52it/s]\n",
      "Killing all workers\n"
     ]
    },
    {
     "name": "stdout",
     "output_type": "stream",
     "text": [
      "generating target directory for torsion-21540571\n",
      "generating target directory for torsion-21540570\n"
     ]
    }
   ],
   "source": [
    "result = executor.execute(schema)"
   ]
  },
  {
   "cell_type": "code",
   "execution_count": 27,
   "id": "5704ec17",
   "metadata": {},
   "outputs": [],
   "source": [
    "# if you could not run the fitting load the result here\n",
    "# result = deserialize_results(\"bace_result.json.xz\")"
   ]
  },
  {
   "cell_type": "markdown",
   "id": "093018c8",
   "metadata": {},
   "source": [
    "# 5.  Analysis of the results\n",
    "\n",
    "Once the torsion optimization is complete a results schema is returned. The schema contains the final optimized SMIRKS parameters that can be used with the [OpenFF-Toolkit](https://github.com/openforcefield/openff-toolkit) in workflows to parameterize molecules and set up systems in [OpenMM](https://github.com/openmm/openmm) to run dynamics. The results schema also contains all provenance information which can help with reproducibility. \n",
    "\n",
    "First, let's look at the final output."
   ]
  },
  {
   "cell_type": "code",
   "execution_count": 28,
   "id": "9e0993fa",
   "metadata": {},
   "outputs": [
    {
     "data": {
      "text/html": [
       "\n",
       "        <iframe\n",
       "            width=\"900\"\n",
       "            height=\"600\"\n",
       "            src=\"bespoke_task_0/optimize.tmp/torsion-21540570/iter_0002/plot_torsion.pdf\"\n",
       "            frameborder=\"0\"\n",
       "            allowfullscreen\n",
       "        ></iframe>\n",
       "        "
      ],
      "text/plain": [
       "<IPython.lib.display.IFrame at 0x196ac3ee0>"
      ]
     },
     "execution_count": 28,
     "metadata": {},
     "output_type": "execute_result"
    }
   ],
   "source": [
    "from IPython.display import IFrame\n",
    "IFrame(\"bespoke_task_0/optimize.tmp/torsion-21540570/iter_0002/plot_torsion.pdf\", width=900, height=600)"
   ]
  },
  {
   "cell_type": "markdown",
   "id": "1b47efa0",
   "metadata": {},
   "source": [
    "BespokeFit has been successful as there is a clear improvement in the PES around this torsion. We can also plot how the parameters have changed during optimization as the result schema stores the initial and final torsion parameters."
   ]
  },
  {
   "cell_type": "code",
   "execution_count": 31,
   "id": "80168a09",
   "metadata": {},
   "outputs": [
    {
     "data": {
      "text/html": [
       "<div>\n",
       "<style scoped>\n",
       "    .dataframe tbody tr th:only-of-type {\n",
       "        vertical-align: middle;\n",
       "    }\n",
       "\n",
       "    .dataframe tbody tr th {\n",
       "        vertical-align: top;\n",
       "    }\n",
       "\n",
       "    .dataframe thead th {\n",
       "        text-align: right;\n",
       "    }\n",
       "</style>\n",
       "<table border=\"1\" class=\"dataframe\">\n",
       "  <thead>\n",
       "    <tr style=\"text-align: right;\">\n",
       "      <th></th>\n",
       "      <th>parameter</th>\n",
       "      <th>before</th>\n",
       "      <th>after</th>\n",
       "      <th>change</th>\n",
       "    </tr>\n",
       "  </thead>\n",
       "  <tbody>\n",
       "    <tr>\n",
       "      <th>0</th>\n",
       "      <td>smirks_0_k1</td>\n",
       "      <td>0.000001</td>\n",
       "      <td>9.806344e-07</td>\n",
       "      <td>-1.936555e-08</td>\n",
       "    </tr>\n",
       "    <tr>\n",
       "      <th>1</th>\n",
       "      <td>smirks_0_k2</td>\n",
       "      <td>1.048715</td>\n",
       "      <td>1.048700e+00</td>\n",
       "      <td>-1.535682e-05</td>\n",
       "    </tr>\n",
       "    <tr>\n",
       "      <th>2</th>\n",
       "      <td>smirks_0_k3</td>\n",
       "      <td>0.000001</td>\n",
       "      <td>9.303023e-07</td>\n",
       "      <td>-6.969771e-08</td>\n",
       "    </tr>\n",
       "    <tr>\n",
       "      <th>3</th>\n",
       "      <td>smirks_0_k4</td>\n",
       "      <td>0.000001</td>\n",
       "      <td>1.706715e-05</td>\n",
       "      <td>1.606715e-05</td>\n",
       "    </tr>\n",
       "    <tr>\n",
       "      <th>4</th>\n",
       "      <td>smirks_1_k1</td>\n",
       "      <td>0.000001</td>\n",
       "      <td>1.016282e-06</td>\n",
       "      <td>1.628199e-08</td>\n",
       "    </tr>\n",
       "    <tr>\n",
       "      <th>5</th>\n",
       "      <td>smirks_1_k2</td>\n",
       "      <td>1.048715</td>\n",
       "      <td>8.485675e-01</td>\n",
       "      <td>-2.001476e-01</td>\n",
       "    </tr>\n",
       "    <tr>\n",
       "      <th>6</th>\n",
       "      <td>smirks_1_k3</td>\n",
       "      <td>0.000001</td>\n",
       "      <td>9.594064e-07</td>\n",
       "      <td>-4.059361e-08</td>\n",
       "    </tr>\n",
       "    <tr>\n",
       "      <th>7</th>\n",
       "      <td>smirks_1_k4</td>\n",
       "      <td>0.000001</td>\n",
       "      <td>2.109176e-02</td>\n",
       "      <td>2.109076e-02</td>\n",
       "    </tr>\n",
       "    <tr>\n",
       "      <th>8</th>\n",
       "      <td>smirks_2_k1</td>\n",
       "      <td>0.000001</td>\n",
       "      <td>9.313379e-07</td>\n",
       "      <td>-6.866208e-08</td>\n",
       "    </tr>\n",
       "    <tr>\n",
       "      <th>9</th>\n",
       "      <td>smirks_2_k2</td>\n",
       "      <td>0.000001</td>\n",
       "      <td>-8.833812e-02</td>\n",
       "      <td>-8.833912e-02</td>\n",
       "    </tr>\n",
       "    <tr>\n",
       "      <th>10</th>\n",
       "      <td>smirks_2_k3</td>\n",
       "      <td>-0.224456</td>\n",
       "      <td>-2.244550e-01</td>\n",
       "      <td>7.824345e-07</td>\n",
       "    </tr>\n",
       "    <tr>\n",
       "      <th>11</th>\n",
       "      <td>smirks_2_k4</td>\n",
       "      <td>0.000001</td>\n",
       "      <td>1.508707e-07</td>\n",
       "      <td>-8.491293e-07</td>\n",
       "    </tr>\n",
       "    <tr>\n",
       "      <th>12</th>\n",
       "      <td>smirks_3_k1</td>\n",
       "      <td>0.000001</td>\n",
       "      <td>1.294097e-06</td>\n",
       "      <td>2.940968e-07</td>\n",
       "    </tr>\n",
       "    <tr>\n",
       "      <th>13</th>\n",
       "      <td>smirks_3_k2</td>\n",
       "      <td>0.000001</td>\n",
       "      <td>3.963728e-01</td>\n",
       "      <td>3.963718e-01</td>\n",
       "    </tr>\n",
       "    <tr>\n",
       "      <th>14</th>\n",
       "      <td>smirks_3_k3</td>\n",
       "      <td>-0.224456</td>\n",
       "      <td>-2.244553e-01</td>\n",
       "      <td>4.464650e-07</td>\n",
       "    </tr>\n",
       "    <tr>\n",
       "      <th>15</th>\n",
       "      <td>smirks_3_k4</td>\n",
       "      <td>0.000001</td>\n",
       "      <td>1.929499e-01</td>\n",
       "      <td>1.929489e-01</td>\n",
       "    </tr>\n",
       "    <tr>\n",
       "      <th>16</th>\n",
       "      <td>smirks_4_k1</td>\n",
       "      <td>0.000001</td>\n",
       "      <td>9.298336e-07</td>\n",
       "      <td>-7.016643e-08</td>\n",
       "    </tr>\n",
       "    <tr>\n",
       "      <th>17</th>\n",
       "      <td>smirks_4_k2</td>\n",
       "      <td>0.000001</td>\n",
       "      <td>-1.780479e-06</td>\n",
       "      <td>-2.780479e-06</td>\n",
       "    </tr>\n",
       "    <tr>\n",
       "      <th>18</th>\n",
       "      <td>smirks_4_k3</td>\n",
       "      <td>-0.224456</td>\n",
       "      <td>-2.244547e-01</td>\n",
       "      <td>1.089827e-06</td>\n",
       "    </tr>\n",
       "    <tr>\n",
       "      <th>19</th>\n",
       "      <td>smirks_4_k4</td>\n",
       "      <td>0.000001</td>\n",
       "      <td>-1.456287e-01</td>\n",
       "      <td>-1.456297e-01</td>\n",
       "    </tr>\n",
       "    <tr>\n",
       "      <th>20</th>\n",
       "      <td>smirks_5_k1</td>\n",
       "      <td>0.000001</td>\n",
       "      <td>1.033651e-06</td>\n",
       "      <td>3.365062e-08</td>\n",
       "    </tr>\n",
       "    <tr>\n",
       "      <th>21</th>\n",
       "      <td>smirks_5_k2</td>\n",
       "      <td>0.000001</td>\n",
       "      <td>6.484406e-01</td>\n",
       "      <td>6.484396e-01</td>\n",
       "    </tr>\n",
       "    <tr>\n",
       "      <th>22</th>\n",
       "      <td>smirks_5_k3</td>\n",
       "      <td>-0.224456</td>\n",
       "      <td>-2.244554e-01</td>\n",
       "      <td>3.505987e-07</td>\n",
       "    </tr>\n",
       "    <tr>\n",
       "      <th>23</th>\n",
       "      <td>smirks_5_k4</td>\n",
       "      <td>0.000001</td>\n",
       "      <td>1.077761e-02</td>\n",
       "      <td>1.077661e-02</td>\n",
       "    </tr>\n",
       "    <tr>\n",
       "      <th>24</th>\n",
       "      <td>smirks_6_k1</td>\n",
       "      <td>0.000001</td>\n",
       "      <td>9.870501e-07</td>\n",
       "      <td>-1.294987e-08</td>\n",
       "    </tr>\n",
       "    <tr>\n",
       "      <th>25</th>\n",
       "      <td>smirks_6_k2</td>\n",
       "      <td>0.000001</td>\n",
       "      <td>-2.207791e-02</td>\n",
       "      <td>-2.207891e-02</td>\n",
       "    </tr>\n",
       "    <tr>\n",
       "      <th>26</th>\n",
       "      <td>smirks_6_k3</td>\n",
       "      <td>-0.224456</td>\n",
       "      <td>-2.244553e-01</td>\n",
       "      <td>4.216384e-07</td>\n",
       "    </tr>\n",
       "    <tr>\n",
       "      <th>27</th>\n",
       "      <td>smirks_6_k4</td>\n",
       "      <td>0.000001</td>\n",
       "      <td>-6.006344e-06</td>\n",
       "      <td>-7.006344e-06</td>\n",
       "    </tr>\n",
       "    <tr>\n",
       "      <th>28</th>\n",
       "      <td>smirks_7_k1</td>\n",
       "      <td>0.000001</td>\n",
       "      <td>1.068277e-06</td>\n",
       "      <td>6.827666e-08</td>\n",
       "    </tr>\n",
       "    <tr>\n",
       "      <th>29</th>\n",
       "      <td>smirks_7_k2</td>\n",
       "      <td>0.000001</td>\n",
       "      <td>1.324191e-06</td>\n",
       "      <td>3.241907e-07</td>\n",
       "    </tr>\n",
       "    <tr>\n",
       "      <th>30</th>\n",
       "      <td>smirks_7_k3</td>\n",
       "      <td>-0.224456</td>\n",
       "      <td>-2.244554e-01</td>\n",
       "      <td>3.390660e-07</td>\n",
       "    </tr>\n",
       "    <tr>\n",
       "      <th>31</th>\n",
       "      <td>smirks_7_k4</td>\n",
       "      <td>0.000001</td>\n",
       "      <td>6.592405e-07</td>\n",
       "      <td>-3.407595e-07</td>\n",
       "    </tr>\n",
       "  </tbody>\n",
       "</table>\n",
       "</div>"
      ],
      "text/plain": [
       "      parameter    before         after        change\n",
       "0   smirks_0_k1  0.000001  9.806344e-07 -1.936555e-08\n",
       "1   smirks_0_k2  1.048715  1.048700e+00 -1.535682e-05\n",
       "2   smirks_0_k3  0.000001  9.303023e-07 -6.969771e-08\n",
       "3   smirks_0_k4  0.000001  1.706715e-05  1.606715e-05\n",
       "4   smirks_1_k1  0.000001  1.016282e-06  1.628199e-08\n",
       "5   smirks_1_k2  1.048715  8.485675e-01 -2.001476e-01\n",
       "6   smirks_1_k3  0.000001  9.594064e-07 -4.059361e-08\n",
       "7   smirks_1_k4  0.000001  2.109176e-02  2.109076e-02\n",
       "8   smirks_2_k1  0.000001  9.313379e-07 -6.866208e-08\n",
       "9   smirks_2_k2  0.000001 -8.833812e-02 -8.833912e-02\n",
       "10  smirks_2_k3 -0.224456 -2.244550e-01  7.824345e-07\n",
       "11  smirks_2_k4  0.000001  1.508707e-07 -8.491293e-07\n",
       "12  smirks_3_k1  0.000001  1.294097e-06  2.940968e-07\n",
       "13  smirks_3_k2  0.000001  3.963728e-01  3.963718e-01\n",
       "14  smirks_3_k3 -0.224456 -2.244553e-01  4.464650e-07\n",
       "15  smirks_3_k4  0.000001  1.929499e-01  1.929489e-01\n",
       "16  smirks_4_k1  0.000001  9.298336e-07 -7.016643e-08\n",
       "17  smirks_4_k2  0.000001 -1.780479e-06 -2.780479e-06\n",
       "18  smirks_4_k3 -0.224456 -2.244547e-01  1.089827e-06\n",
       "19  smirks_4_k4  0.000001 -1.456287e-01 -1.456297e-01\n",
       "20  smirks_5_k1  0.000001  1.033651e-06  3.365062e-08\n",
       "21  smirks_5_k2  0.000001  6.484406e-01  6.484396e-01\n",
       "22  smirks_5_k3 -0.224456 -2.244554e-01  3.505987e-07\n",
       "23  smirks_5_k4  0.000001  1.077761e-02  1.077661e-02\n",
       "24  smirks_6_k1  0.000001  9.870501e-07 -1.294987e-08\n",
       "25  smirks_6_k2  0.000001 -2.207791e-02 -2.207891e-02\n",
       "26  smirks_6_k3 -0.224456 -2.244553e-01  4.216384e-07\n",
       "27  smirks_6_k4  0.000001 -6.006344e-06 -7.006344e-06\n",
       "28  smirks_7_k1  0.000001  1.068277e-06  6.827666e-08\n",
       "29  smirks_7_k2  0.000001  1.324191e-06  3.241907e-07\n",
       "30  smirks_7_k3 -0.224456 -2.244554e-01  3.390660e-07\n",
       "31  smirks_7_k4  0.000001  6.592405e-07 -3.407595e-07"
      ]
     },
     "execution_count": 31,
     "metadata": {},
     "output_type": "execute_result"
    }
   ],
   "source": [
    "# collect the before, after and change values\n",
    "import pandas as pd\n",
    "\n",
    "parameter_data = []\n",
    "for i, parameter in enumerate(result[0].input_schema.target_smirks):\n",
    "    for final_parameter in result[0].final_smirks:\n",
    "        if parameter.smirks == final_parameter.smirks:\n",
    "            for term in range(1, 5):\n",
    "                k_before = float(parameter.terms[str(term)].k.split()[0])\n",
    "                k_after = float(final_parameter.terms[str(term)].k.split()[0])\n",
    "                parameter_data.append([f\"smirks_{i}_k{term}\", k_before, k_after, k_after - k_before])\n",
    "\n",
    "# make a pandas dataframe\n",
    "df = pd.DataFrame(parameter_data, columns=[\"parameter\", \"before\", \"after\", \"change\"])\n",
    "df"
   ]
  },
  {
   "cell_type": "markdown",
   "id": "60a8258b",
   "metadata": {},
   "source": [
    "BespokeFit introduces many redundant parameters into the fitting, so we only plot arrows for terms that have changed by more than 1e-3 kcal/mol. "
   ]
  },
  {
   "cell_type": "code",
   "execution_count": 33,
   "id": "fa81e7b7",
   "metadata": {},
   "outputs": [
    {
     "data": {
      "image/png": "[encoded data removed]",
      "text/plain": [
       "<Figure size 360x1080 with 1 Axes>"
      ]
     },
     "metadata": {},
     "output_type": "display_data"
    }
   ],
   "source": [
    "import matplotlib.pyplot as plt\n",
    "import seaborn as sns\n",
    "\n",
    "#set font size of labels on matplotlib plots\n",
    "plt.rc('font', size=16)\n",
    "\n",
    "#set style of plots\n",
    "sns.set_style('white')\n",
    "\n",
    "#initialize a plot\n",
    "ax = plt.figure(figsize=(5,15))\n",
    "#add start points\n",
    "ax = sns.stripplot(data=df, \n",
    "                   x='before', \n",
    "                   y='parameter', \n",
    "                   orient='h', \n",
    "                   order=df['parameter'], \n",
    "                   size=10, \n",
    "                   color='black')\n",
    "ax.grid(axis='y', color='0.9') \n",
    "#add arrows to plot only if the parameter changed by more than 1e-3 kcal/mol\n",
    "for i in range(len(df.index)):\n",
    "    term = df.iloc[i]\n",
    "    if abs(term[\"change\"]) > 1e-3:\n",
    "        if term[\"after\"] > term[\"before\"]:\n",
    "            arrow_color = '#347768'\n",
    "        elif term[\"after\"] < term[\"before\"]:\n",
    "            arrow_color = 'red'\n",
    "        else:\n",
    "            arrow_color = 'black'\n",
    "        ax.arrow(term[\"before\"],        #x start point\n",
    "                 i,                      #y start point\n",
    "                 term[\"change\"],       #change in x \n",
    "                 0,                      #change in y\n",
    "                 head_width=0.4,         #arrow head width\n",
    "                 head_length=0.1,        #arrow head length\n",
    "                 width=0.2,              #arrow stem width\n",
    "                 fc=arrow_color,             #arrow fill color\n",
    "                 ec=arrow_color)     \n",
    "ax.axvline(x=0, color='0.9', ls='--', lw=2, zorder=0)\n",
    "ax.set_xlim(-0.5,1.5) \n",
    "ax.set_xlabel('Force Constant (kcal/mol)')                               \n",
    "ax.set_ylabel('Torsion Parameter')                         \n",
    "sns.despine(left=True, bottom=True) "
   ]
  },
  {
   "cell_type": "markdown",
   "id": "a4b86227",
   "metadata": {},
   "source": [
    "We can now parameterize the parent molecule using the final force field to ensure the correct torsion parameters are applied.\n",
    "\n",
    "First, we construct the final force field that is the reference force field, in this case, `openff_unconstrained-1.3.0.offxml` supplemented with the new bespoke parameters and then label the molecule."
   ]
  },
  {
   "cell_type": "code",
   "execution_count": 34,
   "id": "1acad6b5",
   "metadata": {},
   "outputs": [
    {
     "name": "stdout",
     "output_type": "stream",
     "text": [
      "(0, 1, 2, 3) <ProperTorsionType with smirks: [*:1]~[#6X3:2]:[#6X3:3]~[*:4]  periodicity1: 2  phase1: 180.0 deg  id: t44  k1: 3.739199932852 kcal/mol  idivf1: 1.0  >\n",
      "(0, 1, 2, 43) <ProperTorsionType with smirks: [*:1]~[#6X3:2]:[#6X3:3]~[*:4]  periodicity1: 2  phase1: 180.0 deg  id: t44  k1: 3.739199932852 kcal/mol  idivf1: 1.0  >\n",
      "(0, 1, 6, 5) <ProperTorsionType with smirks: [*:1]~[#6X3:2]:[#6X3:3]~[*:4]  periodicity1: 2  phase1: 180.0 deg  id: t44  k1: 3.739199932852 kcal/mol  idivf1: 1.0  >\n",
      "(0, 1, 6, 7) <ProperTorsionType with smirks: [*:1]~[#6X3:2]:[#6X3:3]~[*:4]  periodicity1: 2  phase1: 180.0 deg  id: t44  k1: 3.739199932852 kcal/mol  idivf1: 1.0  >\n",
      "(1, 2, 3, 4) <ProperTorsionType with smirks: [*:1]~[#6X3:2]:[#6X3:3]~[*:4]  periodicity1: 2  phase1: 180.0 deg  id: t44  k1: 3.739199932852 kcal/mol  idivf1: 1.0  >\n",
      "(1, 2, 3, 32) <ProperTorsionType with smirks: [*:1]~[#6X3:2]:[#6X3:3]~[*:4]  periodicity1: 2  phase1: 180.0 deg  id: t44  k1: 3.739199932852 kcal/mol  idivf1: 1.0  >\n",
      "(1, 6, 5, 4) <ProperTorsionType with smirks: [*:1]~[#6X3:2]:[#6X3:3]~[*:4]  periodicity1: 2  phase1: 180.0 deg  id: t44  k1: 3.739199932852 kcal/mol  idivf1: 1.0  >\n",
      "(1, 6, 5, 8) <ProperTorsionType with smirks: [*:1]~[#6X3:2]:[#6X3:3]~[*:4]  periodicity1: 2  phase1: 180.0 deg  id: t44  k1: 3.739199932852 kcal/mol  idivf1: 1.0  >\n",
      "(2, 1, 6, 5) <ProperTorsionType with smirks: [*:1]~[#6X3:2]:[#6X3:3]~[*:4]  periodicity1: 2  phase1: 180.0 deg  id: t44  k1: 3.739199932852 kcal/mol  idivf1: 1.0  >\n",
      "(2, 1, 6, 7) <ProperTorsionType with smirks: [*:1]~[#6X3:2]:[#6X3:3]~[*:4]  periodicity1: 2  phase1: 180.0 deg  id: t44  k1: 3.739199932852 kcal/mol  idivf1: 1.0  >\n",
      "(2, 3, 4, 5) <ProperTorsionType with smirks: [*:1]~[#6X3:2]:[#6X3:3]~[*:4]  periodicity1: 2  phase1: 180.0 deg  id: t44  k1: 3.739199932852 kcal/mol  idivf1: 1.0  >\n",
      "(2, 3, 4, 31) <ProperTorsionType with smirks: [*:1]~[#6X3:2]:[#6X3:3]~[*:4]  periodicity1: 2  phase1: 180.0 deg  id: t44  k1: 3.739199932852 kcal/mol  idivf1: 1.0  >\n",
      "(2, 3, 32, 33) <ProperTorsionType with smirks: [#6H1X3x2r6+0a:1](-;!@[#1H0X1x0!r+0A])(:;@[#6H1X3x2r6+0a](-;!@[#1H0X1x0!r+0A]):;@[#6H1X3x2r6+0a](-;!@[#1H0X1x0!r+0A]):;@[#6H0X3x2r6+0a,#6H1X3x2r6+0a](-;!@[#17H0X1x0!r+0A,#1H0X1x0!r+0A]):;@[#6H1X3x2r6+0a]-;!@[#1H0X1x0!r+0A]):;@[#6H0X3x2r6+0a:2]-;!@[#6H0X3x2r6+0a:3](:;@[#6H1X3x2r6+0a](-;!@[#1H0X1x0!r+0A]):;@[#6H0X3x2r6+0a,#6H1X3x2r6+0a](-;!@[#17H0X1x0!r+0A,#1H0X1x0!r+0A,#6H0X4x2r5+0A]):;@[#6H1X3x2r6+0a](-;!@[#1H0X1x0!r+0A]):;@[#6H0X3x2r6+0a,#6H1X3x2r6+0a]-;!@[#1H0X1x0!r+0A,#6H0X4x2r5+0A]):;@[#6H1X3x2r6+0a:4]-;!@[#1H0X1x0!r+0A]  periodicity1: 2  periodicity2: 1  periodicity3: 3  periodicity4: 4  phase1: 180.0 deg  phase2: 0 deg  phase3: 0 deg  phase4: 180 deg  id: t170  k1: 0.8485675332526 kcal/mol  k2: 0 kcal/mol  k3: 0 kcal/mol  k4: 0.02109175648916 kcal/mol  idivf1: 1.0  idivf2: 1.0  idivf3: 1.0  idivf4: 1.0  >\n",
      "(2, 3, 32, 37) <ProperTorsionType with smirks: [#6H1X3x2r6+0a:1](-;!@[#1H0X1x0!r+0A])(:;@[#6H0X3x2r6+0a,#6H1X3x2r6+0a](-;!@[#17H0X1x0!r+0A,#1H0X1x0!r+0A]):;@[#6H1X3x2r6+0a](-;!@[#1H0X1x0!r+0A]):;@[#6H1X3x2r6+0a](-;!@[#1H0X1x0!r+0A]):;@[#6H1X3x2r6+0a]-;!@[#1H0X1x0!r+0A]):;@[#6H0X3x2r6+0a:2]-;!@[#6H0X3x2r6+0a:3](:;@[#6H1X3x2r6+0a](-;!@[#1H0X1x0!r+0A]):;@[#6H0X3x2r6+0a,#6H1X3x2r6+0a](-;!@[#1H0X1x0!r+0A,#6H0X4x2r5+0A]):;@[#6H1X3x2r6+0a](-;!@[#1H0X1x0!r+0A]):;@[#6H0X3x2r6+0a,#6H1X3x2r6+0a]-;!@[#17H0X1x0!r+0A,#1H0X1x0!r+0A,#6H0X4x2r5+0A]):;@[#6H1X3x2r6+0a:4]-;!@[#1H0X1x0!r+0A]  periodicity1: 2  periodicity2: 1  periodicity3: 3  periodicity4: 4  phase1: 180.0 deg  phase2: 0 deg  phase3: 0 deg  phase4: 180 deg  id: t169  k1: 1.048699823315 kcal/mol  k2: 0 kcal/mol  k3: 0 kcal/mol  k4: 1.706715251287e-05 kcal/mol  idivf1: 1.0  idivf2: 1.0  idivf3: 1.0  idivf4: 1.0  >\n",
      "(3, 2, 1, 6) <ProperTorsionType with smirks: [*:1]~[#6X3:2]:[#6X3:3]~[*:4]  periodicity1: 2  phase1: 180.0 deg  id: t44  k1: 3.739199932852 kcal/mol  idivf1: 1.0  >\n",
      "(3, 4, 5, 6) <ProperTorsionType with smirks: [*:1]~[#6X3:2]:[#6X3:3]~[*:4]  periodicity1: 2  phase1: 180.0 deg  id: t44  k1: 3.739199932852 kcal/mol  idivf1: 1.0  >\n",
      "(3, 4, 5, 8) <ProperTorsionType with smirks: [*:1]~[#6X3:2]:[#6X3:3]~[*:4]  periodicity1: 2  phase1: 180.0 deg  id: t44  k1: 3.739199932852 kcal/mol  idivf1: 1.0  >\n",
      "(3, 32, 33, 34) <ProperTorsionType with smirks: [*:1]~[#6X3:2]:[#6X3:3]~[*:4]  periodicity1: 2  phase1: 180.0 deg  id: t44  k1: 3.739199932852 kcal/mol  idivf1: 1.0  >\n",
      "(3, 32, 33, 42) <ProperTorsionType with smirks: [*:1]~[#6X3:2]:[#6X3:3]~[*:4]  periodicity1: 2  phase1: 180.0 deg  id: t44  k1: 3.739199932852 kcal/mol  idivf1: 1.0  >\n",
      "(3, 32, 37, 36) <ProperTorsionType with smirks: [*:1]~[#6X3:2]:[#6X3:3]~[*:4]  periodicity1: 2  phase1: 180.0 deg  id: t44  k1: 3.739199932852 kcal/mol  idivf1: 1.0  >\n",
      "(3, 32, 37, 38) <ProperTorsionType with smirks: [*:1]~[#6X3:2]:[#6X3:3]~[*:4]  periodicity1: 2  phase1: 180.0 deg  id: t44  k1: 3.739199932852 kcal/mol  idivf1: 1.0  >\n",
      "(4, 3, 2, 43) <ProperTorsionType with smirks: [*:1]~[#6X3:2]:[#6X3:3]~[*:4]  periodicity1: 2  phase1: 180.0 deg  id: t44  k1: 3.739199932852 kcal/mol  idivf1: 1.0  >\n",
      "(4, 3, 32, 33) <ProperTorsionType with smirks: [#6H1X3x2r6+0a:1](-;!@[#1H0X1x0!r+0A])(:;@[#6H1X3x2r6+0a](-;!@[#1H0X1x0!r+0A]):;@[#6H1X3x2r6+0a](-;!@[#1H0X1x0!r+0A]):;@[#6H0X3x2r6+0a,#6H1X3x2r6+0a](-;!@[#17H0X1x0!r+0A,#1H0X1x0!r+0A]):;@[#6H1X3x2r6+0a]-;!@[#1H0X1x0!r+0A]):;@[#6H0X3x2r6+0a:2]-;!@[#6H0X3x2r6+0a:3](:;@[#6H1X3x2r6+0a](-;!@[#1H0X1x0!r+0A]):;@[#6H0X3x2r6+0a,#6H1X3x2r6+0a](-;!@[#17H0X1x0!r+0A,#1H0X1x0!r+0A,#6H0X4x2r5+0A]):;@[#6H1X3x2r6+0a](-;!@[#1H0X1x0!r+0A]):;@[#6H0X3x2r6+0a,#6H1X3x2r6+0a]-;!@[#1H0X1x0!r+0A,#6H0X4x2r5+0A]):;@[#6H1X3x2r6+0a:4]-;!@[#1H0X1x0!r+0A]  periodicity1: 2  periodicity2: 1  periodicity3: 3  periodicity4: 4  phase1: 180.0 deg  phase2: 0 deg  phase3: 0 deg  phase4: 180 deg  id: t170  k1: 0.8485675332526 kcal/mol  k2: 0 kcal/mol  k3: 0 kcal/mol  k4: 0.02109175648916 kcal/mol  idivf1: 1.0  idivf2: 1.0  idivf3: 1.0  idivf4: 1.0  >\n",
      "(4, 3, 32, 37) <ProperTorsionType with smirks: [#6H1X3x2r6+0a:1](-;!@[#1H0X1x0!r+0A])(:;@[#6H0X3x2r6+0a,#6H1X3x2r6+0a](-;!@[#17H0X1x0!r+0A,#1H0X1x0!r+0A]):;@[#6H1X3x2r6+0a](-;!@[#1H0X1x0!r+0A]):;@[#6H1X3x2r6+0a](-;!@[#1H0X1x0!r+0A]):;@[#6H1X3x2r6+0a]-;!@[#1H0X1x0!r+0A]):;@[#6H0X3x2r6+0a:2]-;!@[#6H0X3x2r6+0a:3](:;@[#6H1X3x2r6+0a](-;!@[#1H0X1x0!r+0A]):;@[#6H0X3x2r6+0a,#6H1X3x2r6+0a](-;!@[#1H0X1x0!r+0A,#6H0X4x2r5+0A]):;@[#6H1X3x2r6+0a](-;!@[#1H0X1x0!r+0A]):;@[#6H0X3x2r6+0a,#6H1X3x2r6+0a]-;!@[#17H0X1x0!r+0A,#1H0X1x0!r+0A,#6H0X4x2r5+0A]):;@[#6H1X3x2r6+0a:4]-;!@[#1H0X1x0!r+0A]  periodicity1: 2  periodicity2: 1  periodicity3: 3  periodicity4: 4  phase1: 180.0 deg  phase2: 0 deg  phase3: 0 deg  phase4: 180 deg  id: t169  k1: 1.048699823315 kcal/mol  k2: 0 kcal/mol  k3: 0 kcal/mol  k4: 1.706715251287e-05 kcal/mol  idivf1: 1.0  idivf2: 1.0  idivf3: 1.0  idivf4: 1.0  >\n",
      "(4, 5, 6, 7) <ProperTorsionType with smirks: [*:1]~[#6X3:2]:[#6X3:3]~[*:4]  periodicity1: 2  phase1: 180.0 deg  id: t44  k1: 3.739199932852 kcal/mol  idivf1: 1.0  >\n",
      "(4, 5, 8, 9) <ProperTorsionType with smirks: [#6H1X3x2r6+0a:1](-;!@[#1H0X1x0!r+0A])(:;@[#6H0X3x2r6+0a,#6H1X3x2r6+0a](-;!@[#1H0X1x0!r+0A,#6H0X3x2r6+0a]):;@[#6H1X3x2r6+0a](-;!@[#1H0X1x0!r+0A]):;@[#6H0X3x2r6+0a,#6H1X3x2r6+0a](-;!@[#1H0X1x0!r+0A,#6H0X3x2r6+0a]):;@[#6H1X3x2r6+0a]-;!@[#1H0X1x0!r+0A]):;@[#6H0X3x2r6+0a:2]-;!@[#6H0X4x2r5+0A:3](-;!@[#6H0X3x2r6+0a](:;@[#7H0X2x2r6+0a]:;@[#6H1X3x2r6+0a](-;!@[#1H0X1x0!r+0A]):;@[#6H1X3x2r6+0a](-;!@[#1H0X1x0!r+0A]):;@[#6H1X3x2r6+0a]-;!@[#1H0X1x0!r+0A]):;@[#7H0X2x2r6+0a])(-;@[#7H1X3x2r5+1A](-;!@[#1H0X1x0!r+0A])=;@[#6H0X3x2r5+0A](-;@[#7H0X3x2r5+0A]-;!@[#6H3X4x0!r+0A](-;!@[#1H0X1x0!r+0A])(-;!@[#1H0X1x0!r+0A])-;!@[#1H0X1x0!r+0A])-;!@[#7H2X3x0!r+0A](-;!@[#1H0X1x0!r+0A])-;!@[#1H0X1x0!r+0A])-;@[#6H0X3x2r5+0A:4]=;!@[#8H0X1x0!r+0A]  periodicity1: 3  periodicity2: 1  periodicity3: 2  periodicity4: 4  phase1: 0.0 deg  phase2: 0 deg  phase3: 180 deg  phase4: 180 deg  id: t175  k1: -0.2244553265566 kcal/mol  k2: 0 kcal/mol  k3: -0.0220779088909 kcal/mol  k4: 0 kcal/mol  idivf1: 1.0  idivf2: 1.0  idivf3: 1.0  idivf4: 1.0  >\n",
      "(4, 5, 8, 13) <ProperTorsionType with smirks: [#6H1X3x2r6+0a:1](-;!@[#1H0X1x0!r+0A])(:;@[#6H0X3x2r6+0a,#6H1X3x2r6+0a](-;!@[#1H0X1x0!r+0A,#6H0X3x2r6+0a]):;@[#6H1X3x2r6+0a](-;!@[#1H0X1x0!r+0A]):;@[#6H0X3x2r6+0a,#6H1X3x2r6+0a](-;!@[#1H0X1x0!r+0A,#6H0X3x2r6+0a]):;@[#6H1X3x2r6+0a]-;!@[#1H0X1x0!r+0A]):;@[#6H0X3x2r6+0a:2]-;!@[#6H0X4x2r5+0A:3](-;@[#6H0X3x2r5+0A](-;@[#7H0X3x2r5+0A](-;@[#6H0X3x2r5+0A]-;!@[#7H2X3x0!r+0A](-;!@[#1H0X1x0!r+0A])-;!@[#1H0X1x0!r+0A])-;!@[#6H3X4x0!r+0A](-;!@[#1H0X1x0!r+0A])(-;!@[#1H0X1x0!r+0A])-;!@[#1H0X1x0!r+0A])=;!@[#8H0X1x0!r+0A])(-;!@[#6H0X3x2r6+0a](:;@[#7H0X2x2r6+0a]:;@[#6H1X3x2r6+0a](-;!@[#1H0X1x0!r+0A]):;@[#6H1X3x2r6+0a](-;!@[#1H0X1x0!r+0A]):;@[#6H1X3x2r6+0a]-;!@[#1H0X1x0!r+0A]):;@[#7H0X2x2r6+0a])-;@[#7H1X3x2r5+1A:4]-;!@[#1H0X1x0!r+0A]  periodicity1: 3  periodicity2: 1  periodicity3: 2  periodicity4: 4  phase1: 0.0 deg  phase2: 0 deg  phase3: 180 deg  phase4: 180 deg  id: t174  k1: -0.2244553975963 kcal/mol  k2: 0 kcal/mol  k3: 0.6484406481352 kcal/mol  k4: 0.01077760662077 kcal/mol  idivf1: 1.0  idivf2: 1.0  idivf3: 1.0  idivf4: 1.0  >\n",
      "(4, 5, 8, 22) <ProperTorsionType with smirks: [#6H1X3x2r6+0a:1](-;!@[#1H0X1x0!r+0A])(:;@[#6H0X3x2r6+0a,#6H1X3x2r6+0a](-;!@[#1H0X1x0!r+0A,#6H0X3x2r6+0a]):;@[#6H1X3x2r6+0a](-;!@[#1H0X1x0!r+0A]):;@[#6H0X3x2r6+0a,#6H1X3x2r6+0a](-;!@[#1H0X1x0!r+0A,#6H0X3x2r6+0a]):;@[#6H1X3x2r6+0a]-;!@[#1H0X1x0!r+0A]):;@[#6H0X3x2r6+0a:2]-;!@[#6H0X4x2r5+0A:3](-;@[#6H0X3x2r5+0A]=;!@[#8H0X1x0!r+0A])(-;@[#7H1X3x2r5+1A](-;!@[#1H0X1x0!r+0A])=;@[#6H0X3x2r5+0A](-;@[#7H0X3x2r5+0A]-;!@[#6H3X4x0!r+0A](-;!@[#1H0X1x0!r+0A])(-;!@[#1H0X1x0!r+0A])-;!@[#1H0X1x0!r+0A])-;!@[#7H2X3x0!r+0A](-;!@[#1H0X1x0!r+0A])-;!@[#1H0X1x0!r+0A])-;!@[#6H0X3x2r6+0a:4](:;@[#7H0X2x2r6+0a]:;@[#6H1X3x2r6+0a](-;!@[#1H0X1x0!r+0A]):;@[#6H1X3x2r6+0a](-;!@[#1H0X1x0!r+0A]):;@[#6H1X3x2r6+0a]-;!@[#1H0X1x0!r+0A]):;@[#7H0X2x2r6+0a]  periodicity1: 3  periodicity2: 1  periodicity3: 2  periodicity4: 4  phase1: 0.0 deg  phase2: 0 deg  phase3: 180 deg  phase4: 180 deg  id: t176  k1: -0.224455409129 kcal/mol  k2: 0 kcal/mol  k3: 0 kcal/mol  k4: 0 kcal/mol  idivf1: 1.0  idivf2: 1.0  idivf3: 1.0  idivf4: 1.0  >\n",
      "(5, 4, 3, 32) <ProperTorsionType with smirks: [*:1]~[#6X3:2]:[#6X3:3]~[*:4]  periodicity1: 2  phase1: 180.0 deg  id: t44  k1: 3.739199932852 kcal/mol  idivf1: 1.0  >\n",
      "(5, 8, 9, 10) <ProperTorsionType with smirks: [*:1]-[#6X4:2]-[#6X3:3]=[*:4]  periodicity1: 2  phase1: 0.0 deg  id: t20  k1: -0.4352065063207 kcal/mol  idivf1: 1.0  >\n",
      "(5, 8, 9, 11) <ProperTorsionType with smirks: [*:1]~[#6X3:2]-[#6X4:3]-[*:4]  periodicity1: 3  phase1: 0.0 deg  id: t17  k1: -0.224455748195 kcal/mol  idivf1: 1.0  >\n",
      "(5, 8, 13, 12) <ProperTorsionType with smirks: [#6X3:1]=[#7X2,#7X3+1:2]-[#6X4:3]-[#6X3,#6X4:4]  periodicity1: 1  phase1: 0.0 deg  id: t67  k1: 0.8996585118438 kcal/mol  idivf1: 1.0  >\n",
      "(5, 8, 13, 14) <ProperTorsionType with smirks: [*:1]-[#6X4:2]-[#7X3$(*~[#6X3,#6X2]):3]~[*:4]  periodicity1: 2  periodicity2: 3  phase1: 0.0 deg  phase2: 0.0 deg  id: t59  k1: 0.1864829982998 kcal/mol  k2: -0.04574030840006 kcal/mol  idivf1: 1.0  idivf2: 1.0  >\n",
      "(5, 8, 22, 23) <ProperTorsionType with smirks: [#6H0X3x2r6+0a:1](:;@[#6H1X3x2r6+0a](-;!@[#1H0X1x0!r+0A]):;@[#6H1X3x2r6+0a](-;!@[#1H0X1x0!r+0A]):;@[#6H1X3x2r6+0a](-;!@[#1H0X1x0!r+0A]):;@[#6H0X3x2r6+0a,#6H1X3x2r6+0a]-;!@[#1H0X1x0!r+0A,#6H0X3x2r6+0a])(:;@[#6H1X3x2r6+0a]-;!@[#1H0X1x0!r+0A])-;!@[#6H0X4x2r5+0A:2](-;@[#6H0X3x2r5+0A]=;!@[#8H0X1x0!r+0A])(-;@[#7H1X3x2r5+1A](-;!@[#1H0X1x0!r+0A])=;@[#6H0X3x2r5+0A](-;@[#7H0X3x2r5+0A]-;!@[#6H3X4x0!r+0A](-;!@[#1H0X1x0!r+0A])(-;!@[#1H0X1x0!r+0A])-;!@[#1H0X1x0!r+0A])-;!@[#7H2X3x0!r+0A](-;!@[#1H0X1x0!r+0A])-;!@[#1H0X1x0!r+0A])-;!@[#6H0X3x2r6+0a:3](:;@[#7H0X2x2r6+0a]:;@[#6H1X3x2r6+0a](-;!@[#1H0X1x0!r+0A]):;@[#6H1X3x2r6+0a](-;!@[#1H0X1x0!r+0A]):;@[#6H1X3x2r6+0a]-;!@[#1H0X1x0!r+0A]):;@[#7H0X2x2r6+0a:4]  periodicity1: 3  periodicity2: 1  periodicity3: 2  periodicity4: 4  phase1: 0.0 deg  phase2: 0 deg  phase3: 180 deg  phase4: 180 deg  id: t171  k1: -0.2244549657605 kcal/mol  k2: 0 kcal/mol  k3: -0.08833812149593 kcal/mol  k4: 0 kcal/mol  idivf1: 1.0  idivf2: 1.0  idivf3: 1.0  idivf4: 1.0  >\n",
      "(5, 8, 22, 27) <ProperTorsionType with smirks: [#6H0X3x2r6+0a:1](:;@[#6H1X3x2r6+0a](-;!@[#1H0X1x0!r+0A]):;@[#6H1X3x2r6+0a](-;!@[#1H0X1x0!r+0A]):;@[#6H1X3x2r6+0a](-;!@[#1H0X1x0!r+0A]):;@[#6H0X3x2r6+0a,#6H1X3x2r6+0a]-;!@[#1H0X1x0!r+0A,#6H0X3x2r6+0a])(:;@[#6H1X3x2r6+0a]-;!@[#1H0X1x0!r+0A])-;!@[#6H0X4x2r5+0A:2](-;@[#6H0X3x2r5+0A]=;!@[#8H0X1x0!r+0A])(-;@[#7H1X3x2r5+1A](-;!@[#1H0X1x0!r+0A])=;@[#6H0X3x2r5+0A](-;@[#7H0X3x2r5+0A]-;!@[#6H3X4x0!r+0A](-;!@[#1H0X1x0!r+0A])(-;!@[#1H0X1x0!r+0A])-;!@[#1H0X1x0!r+0A])-;!@[#7H2X3x0!r+0A](-;!@[#1H0X1x0!r+0A])-;!@[#1H0X1x0!r+0A])-;!@[#6H0X3x2r6+0a:3](:;@[#7H0X2x2r6+0a]:;@[#6H1X3x2r6+0a](-;!@[#1H0X1x0!r+0A]):;@[#6H1X3x2r6+0a](-;!@[#1H0X1x0!r+0A]):;@[#6H1X3x2r6+0a]-;!@[#1H0X1x0!r+0A]):;@[#7H0X2x2r6+0a:4]  periodicity1: 3  periodicity2: 1  periodicity3: 2  periodicity4: 4  phase1: 0.0 deg  phase2: 0 deg  phase3: 180 deg  phase4: 180 deg  id: t171  k1: -0.2244549657605 kcal/mol  k2: 0 kcal/mol  k3: -0.08833812149593 kcal/mol  k4: 0 kcal/mol  idivf1: 1.0  idivf2: 1.0  idivf3: 1.0  idivf4: 1.0  >\n",
      "(6, 1, 2, 43) <ProperTorsionType with smirks: [*:1]~[#6X3:2]:[#6X3:3]~[*:4]  periodicity1: 2  phase1: 180.0 deg  id: t44  k1: 3.739199932852 kcal/mol  idivf1: 1.0  >\n",
      "(6, 5, 4, 31) <ProperTorsionType with smirks: [*:1]~[#6X3:2]:[#6X3:3]~[*:4]  periodicity1: 2  phase1: 180.0 deg  id: t44  k1: 3.739199932852 kcal/mol  idivf1: 1.0  >\n",
      "(6, 5, 8, 9) <ProperTorsionType with smirks: [#6H1X3x2r6+0a:1](-;!@[#1H0X1x0!r+0A])(:;@[#6H0X3x2r6+0a,#6H1X3x2r6+0a](-;!@[#1H0X1x0!r+0A,#6H0X3x2r6+0a]):;@[#6H1X3x2r6+0a](-;!@[#1H0X1x0!r+0A]):;@[#6H0X3x2r6+0a,#6H1X3x2r6+0a](-;!@[#1H0X1x0!r+0A,#6H0X3x2r6+0a]):;@[#6H1X3x2r6+0a]-;!@[#1H0X1x0!r+0A]):;@[#6H0X3x2r6+0a:2]-;!@[#6H0X4x2r5+0A:3](-;!@[#6H0X3x2r6+0a](:;@[#7H0X2x2r6+0a]:;@[#6H1X3x2r6+0a](-;!@[#1H0X1x0!r+0A]):;@[#6H1X3x2r6+0a](-;!@[#1H0X1x0!r+0A]):;@[#6H1X3x2r6+0a]-;!@[#1H0X1x0!r+0A]):;@[#7H0X2x2r6+0a])(-;@[#7H1X3x2r5+1A](-;!@[#1H0X1x0!r+0A])=;@[#6H0X3x2r5+0A](-;@[#7H0X3x2r5+0A]-;!@[#6H3X4x0!r+0A](-;!@[#1H0X1x0!r+0A])(-;!@[#1H0X1x0!r+0A])-;!@[#1H0X1x0!r+0A])-;!@[#7H2X3x0!r+0A](-;!@[#1H0X1x0!r+0A])-;!@[#1H0X1x0!r+0A])-;@[#6H0X3x2r5+0A:4]=;!@[#8H0X1x0!r+0A]  periodicity1: 3  periodicity2: 1  periodicity3: 2  periodicity4: 4  phase1: 0.0 deg  phase2: 0 deg  phase3: 180 deg  phase4: 180 deg  id: t175  k1: -0.2244553265566 kcal/mol  k2: 0 kcal/mol  k3: -0.0220779088909 kcal/mol  k4: 0 kcal/mol  idivf1: 1.0  idivf2: 1.0  idivf3: 1.0  idivf4: 1.0  >\n",
      "(6, 5, 8, 13) <ProperTorsionType with smirks: [#6H1X3x2r6+0a:1](-;!@[#1H0X1x0!r+0A])(:;@[#6H0X3x2r6+0a,#6H1X3x2r6+0a](-;!@[#1H0X1x0!r+0A,#6H0X3x2r6+0a]):;@[#6H1X3x2r6+0a](-;!@[#1H0X1x0!r+0A]):;@[#6H0X3x2r6+0a,#6H1X3x2r6+0a](-;!@[#1H0X1x0!r+0A,#6H0X3x2r6+0a]):;@[#6H1X3x2r6+0a]-;!@[#1H0X1x0!r+0A]):;@[#6H0X3x2r6+0a:2]-;!@[#6H0X4x2r5+0A:3](-;@[#6H0X3x2r5+0A](-;@[#7H0X3x2r5+0A](-;@[#6H0X3x2r5+0A]-;!@[#7H2X3x0!r+0A](-;!@[#1H0X1x0!r+0A])-;!@[#1H0X1x0!r+0A])-;!@[#6H3X4x0!r+0A](-;!@[#1H0X1x0!r+0A])(-;!@[#1H0X1x0!r+0A])-;!@[#1H0X1x0!r+0A])=;!@[#8H0X1x0!r+0A])(-;!@[#6H0X3x2r6+0a](:;@[#7H0X2x2r6+0a]:;@[#6H1X3x2r6+0a](-;!@[#1H0X1x0!r+0A]):;@[#6H1X3x2r6+0a](-;!@[#1H0X1x0!r+0A]):;@[#6H1X3x2r6+0a]-;!@[#1H0X1x0!r+0A]):;@[#7H0X2x2r6+0a])-;@[#7H1X3x2r5+1A:4]-;!@[#1H0X1x0!r+0A]  periodicity1: 3  periodicity2: 1  periodicity3: 2  periodicity4: 4  phase1: 0.0 deg  phase2: 0 deg  phase3: 180 deg  phase4: 180 deg  id: t174  k1: -0.2244553975963 kcal/mol  k2: 0 kcal/mol  k3: 0.6484406481352 kcal/mol  k4: 0.01077760662077 kcal/mol  idivf1: 1.0  idivf2: 1.0  idivf3: 1.0  idivf4: 1.0  >\n",
      "(6, 5, 8, 22) <ProperTorsionType with smirks: [#6H1X3x2r6+0a:1](-;!@[#1H0X1x0!r+0A])(:;@[#6H0X3x2r6+0a,#6H1X3x2r6+0a](-;!@[#1H0X1x0!r+0A,#6H0X3x2r6+0a]):;@[#6H1X3x2r6+0a](-;!@[#1H0X1x0!r+0A]):;@[#6H0X3x2r6+0a,#6H1X3x2r6+0a](-;!@[#1H0X1x0!r+0A,#6H0X3x2r6+0a]):;@[#6H1X3x2r6+0a]-;!@[#1H0X1x0!r+0A]):;@[#6H0X3x2r6+0a:2]-;!@[#6H0X4x2r5+0A:3](-;@[#6H0X3x2r5+0A]=;!@[#8H0X1x0!r+0A])(-;@[#7H1X3x2r5+1A](-;!@[#1H0X1x0!r+0A])=;@[#6H0X3x2r5+0A](-;@[#7H0X3x2r5+0A]-;!@[#6H3X4x0!r+0A](-;!@[#1H0X1x0!r+0A])(-;!@[#1H0X1x0!r+0A])-;!@[#1H0X1x0!r+0A])-;!@[#7H2X3x0!r+0A](-;!@[#1H0X1x0!r+0A])-;!@[#1H0X1x0!r+0A])-;!@[#6H0X3x2r6+0a:4](:;@[#7H0X2x2r6+0a]:;@[#6H1X3x2r6+0a](-;!@[#1H0X1x0!r+0A]):;@[#6H1X3x2r6+0a](-;!@[#1H0X1x0!r+0A]):;@[#6H1X3x2r6+0a]-;!@[#1H0X1x0!r+0A]):;@[#7H0X2x2r6+0a]  periodicity1: 3  periodicity2: 1  periodicity3: 2  periodicity4: 4  phase1: 0.0 deg  phase2: 0 deg  phase3: 180 deg  phase4: 180 deg  id: t176  k1: -0.224455409129 kcal/mol  k2: 0 kcal/mol  k3: 0 kcal/mol  k4: 0 kcal/mol  idivf1: 1.0  idivf2: 1.0  idivf3: 1.0  idivf4: 1.0  >\n",
      "(7, 6, 5, 8) <ProperTorsionType with smirks: [*:1]~[#6X3:2]:[#6X3:3]~[*:4]  periodicity1: 2  phase1: 180.0 deg  id: t44  k1: 3.739199932852 kcal/mol  idivf1: 1.0  >\n",
      "(8, 5, 4, 31) <ProperTorsionType with smirks: [*:1]~[#6X3:2]:[#6X3:3]~[*:4]  periodicity1: 2  phase1: 180.0 deg  id: t44  k1: 3.739199932852 kcal/mol  idivf1: 1.0  >\n",
      "(8, 9, 11, 12) <ProperTorsionType with smirks: [*:1]-[#7X3;r5:2]-@[#6X3;r5:3]~[*:4]  periodicity1: 2  phase1: 180.0 deg  id: t71  k1: 1.006288530202 kcal/mol  idivf1: 1.0  >\n",
      "(8, 9, 11, 18) <ProperTorsionType with smirks: [*:1]-[#7X3;r5:2]-@[#6X3;r5:3]~[*:4]  periodicity1: 2  phase1: 180.0 deg  id: t71  k1: 1.006288530202 kcal/mol  idivf1: 1.0  >\n",
      "(8, 13, 12, 11) <ProperTorsionType with smirks: [*:1]-[#7X3+1:2]=,:[#6X3:3]-,:[*:4]  periodicity1: 2  phase1: 180.0 deg  id: t78  k1: 3.337310191161 kcal/mol  idivf1: 1.0  >\n",
      "(8, 13, 12, 15) <ProperTorsionType with smirks: [*:1]-[#7X3+1:2]=,:[#6X3:3]-,:[*:4]  periodicity1: 2  phase1: 180.0 deg  id: t78  k1: 3.337310191161 kcal/mol  idivf1: 1.0  >\n",
      "(8, 22, 23, 24) <ProperTorsionType with smirks: [*:1]~[#7X2,#7X3$(*~[#8X1]):2]:[#6X3:3]~[*:4]  periodicity1: 2  phase1: 180.0 deg  id: t75  k1: 4.019141673748 kcal/mol  idivf1: 1.0  >\n",
      "(8, 22, 27, 26) <ProperTorsionType with smirks: [*:1]~[#7X2,#7X3$(*~[#8X1]):2]:[#6X3:3]~[*:4]  periodicity1: 2  phase1: 180.0 deg  id: t75  k1: 4.019141673748 kcal/mol  idivf1: 1.0  >\n",
      "(9, 8, 13, 12) <ProperTorsionType with smirks: [#6X3:1]=[#7X2,#7X3+1:2]-[#6X4:3]-[#6X3,#6X4:4]  periodicity1: 1  phase1: 0.0 deg  id: t67  k1: 0.8996585118438 kcal/mol  idivf1: 1.0  >\n",
      "(9, 8, 13, 14) <ProperTorsionType with smirks: [*:1]-[#6X4:2]-[#7X3$(*~[#6X3,#6X2]):3]~[*:4]  periodicity1: 2  periodicity2: 3  phase1: 0.0 deg  phase2: 0.0 deg  id: t59  k1: 0.1864829982998 kcal/mol  k2: -0.04574030840006 kcal/mol  idivf1: 1.0  idivf2: 1.0  >\n",
      "(9, 8, 22, 23) <ProperTorsionType with smirks: [#6H0X3x2r5+0A:1](-;@[#7H0X3x2r5+0A](-;@[#6H0X3x2r5+0A](=;@[#7H1X3x2r5+1A]-;!@[#1H0X1x0!r+0A])-;!@[#7H2X3x0!r+0A](-;!@[#1H0X1x0!r+0A])-;!@[#1H0X1x0!r+0A])-;!@[#6H3X4x0!r+0A](-;!@[#1H0X1x0!r+0A])(-;!@[#1H0X1x0!r+0A])-;!@[#1H0X1x0!r+0A])(=;!@[#8H0X1x0!r+0A])-;@[#6H0X4x2r5+0A:2](-;!@[#6H0X3x2r6+0a](:;@[#6H1X3x2r6+0a](-;!@[#1H0X1x0!r+0A]):;@[#6H1X3x2r6+0a](-;!@[#1H0X1x0!r+0A]):;@[#6H1X3x2r6+0a](-;!@[#1H0X1x0!r+0A]):;@[#6H0X3x2r6+0a,#6H1X3x2r6+0a]-;!@[#1H0X1x0!r+0A,#6H0X3x2r6+0a]):;@[#6H1X3x2r6+0a]-;!@[#1H0X1x0!r+0A])-;!@[#6H0X3x2r6+0a:3](:;@[#7H0X2x2r6+0a]:;@[#6H1X3x2r6+0a](-;!@[#1H0X1x0!r+0A]):;@[#6H1X3x2r6+0a](-;!@[#1H0X1x0!r+0A]):;@[#6H1X3x2r6+0a]-;!@[#1H0X1x0!r+0A]):;@[#7H0X2x2r6+0a:4]  periodicity1: 3  periodicity2: 1  periodicity3: 2  periodicity4: 4  phase1: 0.0 deg  phase2: 0 deg  phase3: 180 deg  phase4: 180 deg  id: t173  k1: -0.2244546583676 kcal/mol  k2: 0 kcal/mol  k3: 0 kcal/mol  k4: -0.1456286862331 kcal/mol  idivf1: 1.0  idivf2: 1.0  idivf3: 1.0  idivf4: 1.0  >\n",
      "(9, 8, 22, 27) <ProperTorsionType with smirks: [#6H0X3x2r5+0A:1](-;@[#7H0X3x2r5+0A](-;@[#6H0X3x2r5+0A](=;@[#7H1X3x2r5+1A]-;!@[#1H0X1x0!r+0A])-;!@[#7H2X3x0!r+0A](-;!@[#1H0X1x0!r+0A])-;!@[#1H0X1x0!r+0A])-;!@[#6H3X4x0!r+0A](-;!@[#1H0X1x0!r+0A])(-;!@[#1H0X1x0!r+0A])-;!@[#1H0X1x0!r+0A])(=;!@[#8H0X1x0!r+0A])-;@[#6H0X4x2r5+0A:2](-;!@[#6H0X3x2r6+0a](:;@[#6H1X3x2r6+0a](-;!@[#1H0X1x0!r+0A]):;@[#6H1X3x2r6+0a](-;!@[#1H0X1x0!r+0A]):;@[#6H1X3x2r6+0a](-;!@[#1H0X1x0!r+0A]):;@[#6H0X3x2r6+0a,#6H1X3x2r6+0a]-;!@[#1H0X1x0!r+0A,#6H0X3x2r6+0a]):;@[#6H1X3x2r6+0a]-;!@[#1H0X1x0!r+0A])-;!@[#6H0X3x2r6+0a:3](:;@[#7H0X2x2r6+0a]:;@[#6H1X3x2r6+0a](-;!@[#1H0X1x0!r+0A]):;@[#6H1X3x2r6+0a](-;!@[#1H0X1x0!r+0A]):;@[#6H1X3x2r6+0a]-;!@[#1H0X1x0!r+0A]):;@[#7H0X2x2r6+0a:4]  periodicity1: 3  periodicity2: 1  periodicity3: 2  periodicity4: 4  phase1: 0.0 deg  phase2: 0 deg  phase3: 180 deg  phase4: 180 deg  id: t173  k1: -0.2244546583676 kcal/mol  k2: 0 kcal/mol  k3: 0 kcal/mol  k4: -0.1456286862331 kcal/mol  idivf1: 1.0  idivf2: 1.0  idivf3: 1.0  idivf4: 1.0  >\n",
      "(9, 11, 12, 13) <ProperTorsionType with smirks: [*:1]-[#7X3;r5:2]-@[#6X3;r5:3]~[*:4]  periodicity1: 2  phase1: 180.0 deg  id: t71  k1: 1.006288530202 kcal/mol  idivf1: 1.0  >\n",
      "(9, 11, 12, 15) <ProperTorsionType with smirks: [*:1]-[#7X3;r5:2]-@[#6X3;r5:3]~[*:4]  periodicity1: 2  phase1: 180.0 deg  id: t71  k1: 1.006288530202 kcal/mol  idivf1: 1.0  >\n",
      "(9, 11, 18, 19) <ProperTorsionType with smirks: [*:1]-[#6X4:2]-[#7X3$(*~[#6X3,#6X2]):3]~[*:4]  periodicity1: 2  periodicity2: 3  phase1: 0.0 deg  phase2: 0.0 deg  id: t59  k1: 0.1864829982998 kcal/mol  k2: -0.04574030840006 kcal/mol  idivf1: 1.0  idivf2: 1.0  >\n",
      "(9, 11, 18, 20) <ProperTorsionType with smirks: [*:1]-[#6X4:2]-[#7X3$(*~[#6X3,#6X2]):3]~[*:4]  periodicity1: 2  periodicity2: 3  phase1: 0.0 deg  phase2: 0.0 deg  id: t59  k1: 0.1864829982998 kcal/mol  k2: -0.04574030840006 kcal/mol  idivf1: 1.0  idivf2: 1.0  >\n",
      "(9, 11, 18, 21) <ProperTorsionType with smirks: [*:1]-[#6X4:2]-[#7X3$(*~[#6X3,#6X2]):3]~[*:4]  periodicity1: 2  periodicity2: 3  phase1: 0.0 deg  phase2: 0.0 deg  id: t59  k1: 0.1864829982998 kcal/mol  k2: -0.04574030840006 kcal/mol  idivf1: 1.0  idivf2: 1.0  >\n",
      "(10, 9, 8, 13) <ProperTorsionType with smirks: [*:1]-[#6X4:2]-[#6X3:3]=[*:4]  periodicity1: 2  phase1: 0.0 deg  id: t20  k1: -0.4352065063207 kcal/mol  idivf1: 1.0  >\n",
      "(10, 9, 8, 22) <ProperTorsionType with smirks: [*:1]-[#6X4:2]-[#6X3:3]=[*:4]  periodicity1: 2  phase1: 0.0 deg  id: t20  k1: -0.4352065063207 kcal/mol  idivf1: 1.0  >\n",
      "(10, 9, 11, 12) <ProperTorsionType with smirks: [*:1]-[#7X3;r5:2]-@[#6X3;r5:3]~[*:4]  periodicity1: 2  phase1: 180.0 deg  id: t71  k1: 1.006288530202 kcal/mol  idivf1: 1.0  >\n",
      "(10, 9, 11, 18) <ProperTorsionType with smirks: [*:1]-[#7X3;r5:2]-@[#6X3;r5:3]~[*:4]  periodicity1: 2  phase1: 180.0 deg  id: t71  k1: 1.006288530202 kcal/mol  idivf1: 1.0  >\n",
      "(11, 9, 8, 13) <ProperTorsionType with smirks: [#7X3:1]-[#6X4:2]-[#6X3:3]-[#7X3:4]  periodicity1: 1  periodicity2: 2  phase1: 180.0 deg  phase2: 180.0 deg  id: t22  k1: -0.06160896685326 kcal/mol  k2: 0.698681527584 kcal/mol  idivf1: 1.0  idivf2: 1.0  >\n",
      "(11, 9, 8, 22) <ProperTorsionType with smirks: [*:1]~[#6X3:2]-[#6X4:3]-[*:4]  periodicity1: 3  phase1: 0.0 deg  id: t17  k1: -0.224455748195 kcal/mol  idivf1: 1.0  >\n",
      "(11, 12, 13, 14) <ProperTorsionType with smirks: [*:1]-[#7X3+1:2]=,:[#6X3:3]-,:[*:4]  periodicity1: 2  phase1: 180.0 deg  id: t78  k1: 3.337310191161 kcal/mol  idivf1: 1.0  >\n",
      "(11, 12, 15, 16) <ProperTorsionType with smirks: [*:1]-[#7X3:2]-[#6X3$(*=[#8,#16,#7]):3]~[*:4]  periodicity1: 2  periodicity2: 1  phase1: 180.0 deg  phase2: 0.0 deg  id: t69a  k1: 1.802103402795 kcal/mol  k2: 0.0 kcal/mol  idivf1: 1.0  idivf2: 1.0  >\n",
      "(11, 12, 15, 17) <ProperTorsionType with smirks: [*:1]-[#7X3:2]-[#6X3$(*=[#8,#16,#7]):3]~[*:4]  periodicity1: 2  periodicity2: 1  phase1: 180.0 deg  phase2: 0.0 deg  id: t69a  k1: 1.802103402795 kcal/mol  k2: 0.0 kcal/mol  idivf1: 1.0  idivf2: 1.0  >\n",
      "(12, 11, 18, 19) <ProperTorsionType with smirks: [*:1]-[#6X4:2]-[#7X3$(*~[#6X3,#6X2]):3]~[*:4]  periodicity1: 2  periodicity2: 3  phase1: 0.0 deg  phase2: 0.0 deg  id: t59  k1: 0.1864829982998 kcal/mol  k2: -0.04574030840006 kcal/mol  idivf1: 1.0  idivf2: 1.0  >\n",
      "(12, 11, 18, 20) <ProperTorsionType with smirks: [*:1]-[#6X4:2]-[#7X3$(*~[#6X3,#6X2]):3]~[*:4]  periodicity1: 2  periodicity2: 3  phase1: 0.0 deg  phase2: 0.0 deg  id: t59  k1: 0.1864829982998 kcal/mol  k2: -0.04574030840006 kcal/mol  idivf1: 1.0  idivf2: 1.0  >\n",
      "(12, 11, 18, 21) <ProperTorsionType with smirks: [*:1]-[#6X4:2]-[#7X3$(*~[#6X3,#6X2]):3]~[*:4]  periodicity1: 2  periodicity2: 3  phase1: 0.0 deg  phase2: 0.0 deg  id: t59  k1: 0.1864829982998 kcal/mol  k2: -0.04574030840006 kcal/mol  idivf1: 1.0  idivf2: 1.0  >\n",
      "(12, 13, 8, 22) <ProperTorsionType with smirks: [#6X3:1]=[#7X2,#7X3+1:2]-[#6X4:3]-[#6X3,#6X4:4]  periodicity1: 1  phase1: 0.0 deg  id: t67  k1: 0.8996585118438 kcal/mol  idivf1: 1.0  >\n",
      "(13, 8, 22, 23) <ProperTorsionType with smirks: [#7H1X3x2r5+1A:1](-;!@[#1H0X1x0!r+0A])(=;@[#6H0X3x2r5+0A](-;@[#7H0X3x2r5+0A](-;@[#6H0X3x2r5+0A]=;!@[#8H0X1x0!r+0A])-;!@[#6H3X4x0!r+0A](-;!@[#1H0X1x0!r+0A])(-;!@[#1H0X1x0!r+0A])-;!@[#1H0X1x0!r+0A])-;!@[#7H2X3x0!r+0A](-;!@[#1H0X1x0!r+0A])-;!@[#1H0X1x0!r+0A])-;@[#6H0X4x2r5+0A:2](-;!@[#6H0X3x2r6+0a](:;@[#6H1X3x2r6+0a](-;!@[#1H0X1x0!r+0A]):;@[#6H1X3x2r6+0a](-;!@[#1H0X1x0!r+0A]):;@[#6H1X3x2r6+0a](-;!@[#1H0X1x0!r+0A]):;@[#6H0X3x2r6+0a,#6H1X3x2r6+0a]-;!@[#1H0X1x0!r+0A,#6H0X3x2r6+0a]):;@[#6H1X3x2r6+0a]-;!@[#1H0X1x0!r+0A])-;!@[#6H0X3x2r6+0a:3](:;@[#7H0X2x2r6+0a]:;@[#6H1X3x2r6+0a](-;!@[#1H0X1x0!r+0A]):;@[#6H1X3x2r6+0a](-;!@[#1H0X1x0!r+0A]):;@[#6H1X3x2r6+0a]-;!@[#1H0X1x0!r+0A]):;@[#7H0X2x2r6+0a:4]  periodicity1: 3  periodicity2: 1  periodicity3: 2  periodicity4: 4  phase1: 0.0 deg  phase2: 0 deg  phase3: 180 deg  phase4: 180 deg  id: t172  k1: -0.22445530173 kcal/mol  k2: 0 kcal/mol  k3: 0.3963728096677 kcal/mol  k4: 0.1929498514485 kcal/mol  idivf1: 1.0  idivf2: 1.0  idivf3: 1.0  idivf4: 1.0  >\n",
      "(13, 8, 22, 27) <ProperTorsionType with smirks: [#7H1X3x2r5+1A:1](-;!@[#1H0X1x0!r+0A])(=;@[#6H0X3x2r5+0A](-;@[#7H0X3x2r5+0A](-;@[#6H0X3x2r5+0A]=;!@[#8H0X1x0!r+0A])-;!@[#6H3X4x0!r+0A](-;!@[#1H0X1x0!r+0A])(-;!@[#1H0X1x0!r+0A])-;!@[#1H0X1x0!r+0A])-;!@[#7H2X3x0!r+0A](-;!@[#1H0X1x0!r+0A])-;!@[#1H0X1x0!r+0A])-;@[#6H0X4x2r5+0A:2](-;!@[#6H0X3x2r6+0a](:;@[#6H1X3x2r6+0a](-;!@[#1H0X1x0!r+0A]):;@[#6H1X3x2r6+0a](-;!@[#1H0X1x0!r+0A]):;@[#6H1X3x2r6+0a](-;!@[#1H0X1x0!r+0A]):;@[#6H0X3x2r6+0a,#6H1X3x2r6+0a]-;!@[#1H0X1x0!r+0A,#6H0X3x2r6+0a]):;@[#6H1X3x2r6+0a]-;!@[#1H0X1x0!r+0A])-;!@[#6H0X3x2r6+0a:3](:;@[#7H0X2x2r6+0a]:;@[#6H1X3x2r6+0a](-;!@[#1H0X1x0!r+0A]):;@[#6H1X3x2r6+0a](-;!@[#1H0X1x0!r+0A]):;@[#6H1X3x2r6+0a]-;!@[#1H0X1x0!r+0A]):;@[#7H0X2x2r6+0a:4]  periodicity1: 3  periodicity2: 1  periodicity3: 2  periodicity4: 4  phase1: 0.0 deg  phase2: 0 deg  phase3: 180 deg  phase4: 180 deg  id: t172  k1: -0.22445530173 kcal/mol  k2: 0 kcal/mol  k3: 0.3963728096677 kcal/mol  k4: 0.1929498514485 kcal/mol  idivf1: 1.0  idivf2: 1.0  idivf3: 1.0  idivf4: 1.0  >\n",
      "(13, 12, 11, 18) <ProperTorsionType with smirks: [*:1]-[#7X3;r5:2]-@[#6X3;r5:3]~[*:4]  periodicity1: 2  phase1: 180.0 deg  id: t71  k1: 1.006288530202 kcal/mol  idivf1: 1.0  >\n",
      "(13, 12, 15, 16) <ProperTorsionType with smirks: [*:1]-[#7X3:2]-!@[#6X3:3](=[#8,#16,#7:4])-[#7X3]  periodicity1: 2  periodicity2: 1  phase1: 180.0 deg  phase2: 0.0 deg  id: t70d  k1: 1.078186318198 kcal/mol  k2: 0.0 kcal/mol  idivf1: 1.0  idivf2: 1.0  >\n",
      "(13, 12, 15, 17) <ProperTorsionType with smirks: [*:1]-[#7X3:2]-!@[#6X3:3](=[#8,#16,#7:4])-[#7X3]  periodicity1: 2  periodicity2: 1  phase1: 180.0 deg  phase2: 0.0 deg  id: t70d  k1: 1.078186318198 kcal/mol  k2: 0.0 kcal/mol  idivf1: 1.0  idivf2: 1.0  >\n",
      "(14, 13, 8, 22) <ProperTorsionType with smirks: [*:1]-[#6X4:2]-[#7X3$(*~[#6X3,#6X2]):3]~[*:4]  periodicity1: 2  periodicity2: 3  phase1: 0.0 deg  phase2: 0.0 deg  id: t59  k1: 0.1864829982998 kcal/mol  k2: -0.04574030840006 kcal/mol  idivf1: 1.0  idivf2: 1.0  >\n",
      "(14, 13, 12, 15) <ProperTorsionType with smirks: [*:1]-[#7X3+1:2]=,:[#6X3:3]-,:[*:4]  periodicity1: 2  phase1: 180.0 deg  id: t78  k1: 3.337310191161 kcal/mol  idivf1: 1.0  >\n",
      "(15, 12, 11, 18) <ProperTorsionType with smirks: [*:1]-[#7X3;r5:2]-@[#6X3;r5:3]~[*:4]  periodicity1: 2  phase1: 180.0 deg  id: t71  k1: 1.006288530202 kcal/mol  idivf1: 1.0  >\n",
      "(22, 23, 24, 25) <ProperTorsionType with smirks: [#6X3:1]:[#7X2:2]:[#6X3:3]:[#6X3:4]  periodicity1: 2  phase1: 180.0 deg  id: t76  k1: 5.628604921456 kcal/mol  idivf1: 1.0  >\n",
      "(22, 23, 24, 30) <ProperTorsionType with smirks: [*:1]~[#7X2,#7X3$(*~[#8X1]):2]:[#6X3:3]~[*:4]  periodicity1: 2  phase1: 180.0 deg  id: t75  k1: 4.019141673748 kcal/mol  idivf1: 1.0  >\n",
      "(22, 27, 26, 25) <ProperTorsionType with smirks: [#6X3:1]:[#7X2:2]:[#6X3:3]:[#6X3:4]  periodicity1: 2  phase1: 180.0 deg  id: t76  k1: 5.628604921456 kcal/mol  idivf1: 1.0  >\n",
      "(22, 27, 26, 28) <ProperTorsionType with smirks: [*:1]~[#7X2,#7X3$(*~[#8X1]):2]:[#6X3:3]~[*:4]  periodicity1: 2  phase1: 180.0 deg  id: t75  k1: 4.019141673748 kcal/mol  idivf1: 1.0  >\n",
      "(23, 22, 27, 26) <ProperTorsionType with smirks: [*:1]~[#7X2,#7X3$(*~[#8X1]):2]:[#6X3:3]~[*:4]  periodicity1: 2  phase1: 180.0 deg  id: t75  k1: 4.019141673748 kcal/mol  idivf1: 1.0  >\n",
      "(23, 24, 25, 26) <ProperTorsionType with smirks: [*:1]~[#6X3:2]:[#6X3:3]~[*:4]  periodicity1: 2  phase1: 180.0 deg  id: t44  k1: 3.739199932852 kcal/mol  idivf1: 1.0  >\n",
      "(23, 24, 25, 29) <ProperTorsionType with smirks: [*:1]~[#6X3:2]:[#6X3:3]~[*:4]  periodicity1: 2  phase1: 180.0 deg  id: t44  k1: 3.739199932852 kcal/mol  idivf1: 1.0  >\n",
      "(24, 23, 22, 27) <ProperTorsionType with smirks: [*:1]~[#7X2,#7X3$(*~[#8X1]):2]:[#6X3:3]~[*:4]  periodicity1: 2  phase1: 180.0 deg  id: t75  k1: 4.019141673748 kcal/mol  idivf1: 1.0  >\n",
      "(24, 25, 26, 27) <ProperTorsionType with smirks: [*:1]~[#6X3:2]:[#6X3:3]~[*:4]  periodicity1: 2  phase1: 180.0 deg  id: t44  k1: 3.739199932852 kcal/mol  idivf1: 1.0  >\n",
      "(24, 25, 26, 28) <ProperTorsionType with smirks: [*:1]~[#6X3:2]:[#6X3:3]~[*:4]  periodicity1: 2  phase1: 180.0 deg  id: t44  k1: 3.739199932852 kcal/mol  idivf1: 1.0  >\n",
      "(26, 25, 24, 30) <ProperTorsionType with smirks: [*:1]~[#6X3:2]:[#6X3:3]~[*:4]  periodicity1: 2  phase1: 180.0 deg  id: t44  k1: 3.739199932852 kcal/mol  idivf1: 1.0  >\n",
      "(27, 26, 25, 29) <ProperTorsionType with smirks: [*:1]~[#6X3:2]:[#6X3:3]~[*:4]  periodicity1: 2  phase1: 180.0 deg  id: t44  k1: 3.739199932852 kcal/mol  idivf1: 1.0  >\n",
      "(28, 26, 25, 29) <ProperTorsionType with smirks: [*:1]~[#6X3:2]:[#6X3:3]~[*:4]  periodicity1: 2  phase1: 180.0 deg  id: t44  k1: 3.739199932852 kcal/mol  idivf1: 1.0  >\n",
      "(29, 25, 24, 30) <ProperTorsionType with smirks: [*:1]~[#6X3:2]:[#6X3:3]~[*:4]  periodicity1: 2  phase1: 180.0 deg  id: t44  k1: 3.739199932852 kcal/mol  idivf1: 1.0  >\n",
      "(31, 4, 3, 32) <ProperTorsionType with smirks: [*:1]~[#6X3:2]:[#6X3:3]~[*:4]  periodicity1: 2  phase1: 180.0 deg  id: t44  k1: 3.739199932852 kcal/mol  idivf1: 1.0  >\n",
      "(32, 3, 2, 43) <ProperTorsionType with smirks: [*:1]~[#6X3:2]:[#6X3:3]~[*:4]  periodicity1: 2  phase1: 180.0 deg  id: t44  k1: 3.739199932852 kcal/mol  idivf1: 1.0  >\n",
      "(32, 33, 34, 35) <ProperTorsionType with smirks: [*:1]~[#6X3:2]:[#6X3:3]~[*:4]  periodicity1: 2  phase1: 180.0 deg  id: t44  k1: 3.739199932852 kcal/mol  idivf1: 1.0  >\n",
      "(32, 33, 34, 41) <ProperTorsionType with smirks: [*:1]~[#6X3:2]:[#6X3:3]~[*:4]  periodicity1: 2  phase1: 180.0 deg  id: t44  k1: 3.739199932852 kcal/mol  idivf1: 1.0  >\n",
      "(32, 37, 36, 35) <ProperTorsionType with smirks: [*:1]~[#6X3:2]:[#6X3:3]~[*:4]  periodicity1: 2  phase1: 180.0 deg  id: t44  k1: 3.739199932852 kcal/mol  idivf1: 1.0  >\n",
      "(32, 37, 36, 39) <ProperTorsionType with smirks: [*:1]~[#6X3:2]:[#6X3:3]~[*:4]  periodicity1: 2  phase1: 180.0 deg  id: t44  k1: 3.739199932852 kcal/mol  idivf1: 1.0  >\n",
      "(33, 32, 37, 36) <ProperTorsionType with smirks: [*:1]~[#6X3:2]:[#6X3:3]~[*:4]  periodicity1: 2  phase1: 180.0 deg  id: t44  k1: 3.739199932852 kcal/mol  idivf1: 1.0  >\n",
      "(33, 32, 37, 38) <ProperTorsionType with smirks: [*:1]~[#6X3:2]:[#6X3:3]~[*:4]  periodicity1: 2  phase1: 180.0 deg  id: t44  k1: 3.739199932852 kcal/mol  idivf1: 1.0  >\n",
      "(33, 34, 35, 36) <ProperTorsionType with smirks: [*:1]~[#6X3:2]:[#6X3:3]~[*:4]  periodicity1: 2  phase1: 180.0 deg  id: t44  k1: 3.739199932852 kcal/mol  idivf1: 1.0  >\n",
      "(33, 34, 35, 40) <ProperTorsionType with smirks: [*:1]~[#6X3:2]:[#6X3:3]~[*:4]  periodicity1: 2  phase1: 180.0 deg  id: t44  k1: 3.739199932852 kcal/mol  idivf1: 1.0  >\n",
      "(34, 33, 32, 37) <ProperTorsionType with smirks: [*:1]~[#6X3:2]:[#6X3:3]~[*:4]  periodicity1: 2  phase1: 180.0 deg  id: t44  k1: 3.739199932852 kcal/mol  idivf1: 1.0  >\n",
      "(34, 35, 36, 37) <ProperTorsionType with smirks: [*:1]~[#6X3:2]:[#6X3:3]~[*:4]  periodicity1: 2  phase1: 180.0 deg  id: t44  k1: 3.739199932852 kcal/mol  idivf1: 1.0  >\n",
      "(34, 35, 36, 39) <ProperTorsionType with smirks: [*:1]~[#6X3:2]:[#6X3:3]~[*:4]  periodicity1: 2  phase1: 180.0 deg  id: t44  k1: 3.739199932852 kcal/mol  idivf1: 1.0  >\n",
      "(35, 34, 33, 42) <ProperTorsionType with smirks: [*:1]~[#6X3:2]:[#6X3:3]~[*:4]  periodicity1: 2  phase1: 180.0 deg  id: t44  k1: 3.739199932852 kcal/mol  idivf1: 1.0  >\n",
      "(35, 36, 37, 38) <ProperTorsionType with smirks: [*:1]~[#6X3:2]:[#6X3:3]~[*:4]  periodicity1: 2  phase1: 180.0 deg  id: t44  k1: 3.739199932852 kcal/mol  idivf1: 1.0  >\n",
      "(36, 35, 34, 41) <ProperTorsionType with smirks: [*:1]~[#6X3:2]:[#6X3:3]~[*:4]  periodicity1: 2  phase1: 180.0 deg  id: t44  k1: 3.739199932852 kcal/mol  idivf1: 1.0  >\n",
      "(37, 32, 33, 42) <ProperTorsionType with smirks: [*:1]~[#6X3:2]:[#6X3:3]~[*:4]  periodicity1: 2  phase1: 180.0 deg  id: t44  k1: 3.739199932852 kcal/mol  idivf1: 1.0  >\n",
      "(37, 36, 35, 40) <ProperTorsionType with smirks: [*:1]~[#6X3:2]:[#6X3:3]~[*:4]  periodicity1: 2  phase1: 180.0 deg  id: t44  k1: 3.739199932852 kcal/mol  idivf1: 1.0  >\n",
      "(38, 37, 36, 39) <ProperTorsionType with smirks: [*:1]~[#6X3:2]:[#6X3:3]~[*:4]  periodicity1: 2  phase1: 180.0 deg  id: t44  k1: 3.739199932852 kcal/mol  idivf1: 1.0  >\n",
      "(39, 36, 35, 40) <ProperTorsionType with smirks: [*:1]~[#6X3:2]:[#6X3:3]~[*:4]  periodicity1: 2  phase1: 180.0 deg  id: t44  k1: 3.739199932852 kcal/mol  idivf1: 1.0  >\n",
      "(40, 35, 34, 41) <ProperTorsionType with smirks: [*:1]~[#6X3:2]:[#6X3:3]~[*:4]  periodicity1: 2  phase1: 180.0 deg  id: t44  k1: 3.739199932852 kcal/mol  idivf1: 1.0  >\n",
      "(41, 34, 33, 42) <ProperTorsionType with smirks: [*:1]~[#6X3:2]:[#6X3:3]~[*:4]  periodicity1: 2  phase1: 180.0 deg  id: t44  k1: 3.739199932852 kcal/mol  idivf1: 1.0  >\n"
     ]
    }
   ],
   "source": [
    "bespoke_ff = result[0].get_final_force_field(drop_out_value=1e-5)\n",
    "torsion_labels = bespoke_ff.label_molecules(schema.target_molecule.molecule.to_topology())[0][\"ProperTorsions\"]\n",
    "for torsion, parameter in torsion_labels.items():\n",
    "    print(torsion, parameter)"
   ]
  },
  {
   "cell_type": "markdown",
   "id": "38fd6a27",
   "metadata": {},
   "source": [
    "# 6. QC data generation on the fly\n",
    "\n",
    "In most cases, you will not have the QC data pre-generated before running and will need to generate it before fitting. Here we will show how the BespokeFit `Executor` can do this by either connecting to a running QCFractal service or starting a new local SnowFlake instance. \n",
    "\n",
    "For the sake of time, a semiempirical tight-binding method available in [xTB](https://xtb-docs.readthedocs.io/en/latest/contents.html), will be used to generate the reference data. \n",
    "\n",
    "Due to BespokeFits integration with QCEngine any currently supported program in QCEngine can generate the reference data, and selecting the method is as simple as configuring the `QCSpec` schema.\n",
    "\n",
    "First, let's create the compute specification we wish to use for the calculation."
   ]
  },
  {
   "cell_type": "code",
   "execution_count": 35,
   "id": "22f6c268",
   "metadata": {},
   "outputs": [
    {
     "name": "stdout",
     "output_type": "stream",
     "text": [
      "{'basis': None,\n",
      " 'implicit_solvent': None,\n",
      " 'keywords': None,\n",
      " 'method': 'gfn2xtb',\n",
      " 'program': 'xtb',\n",
      " 'spec_description': 'A fast semi-emperical calculation.',\n",
      " 'spec_name': 'xtb_gfn2',\n",
      " 'store_wavefunction': 'none'}\n"
     ]
    }
   ],
   "source": [
    "xtb_spec = QCSpec(method=\"gfn2xtb\", basis=None, program=\"xtb\", spec_name=\"xtb_gfn2\", spec_description=\"A fast semi-emperical calculation.\")\n",
    "pprint(xtb_spec.dict())"
   ]
  },
  {
   "cell_type": "markdown",
   "id": "dc1ffb99",
   "metadata": {},
   "source": [
    "By default or target templates will try to use the openff default QC specification to ensure compatibility so here we need to overwrite this."
   ]
  },
  {
   "cell_type": "code",
   "execution_count": 36,
   "id": "dc9f6324",
   "metadata": {},
   "outputs": [
    {
     "name": "stdout",
     "output_type": "stream",
     "text": [
      "{'expand_torsion_terms': True,\n",
      " 'fragmentation_engine': {'keep_non_rotor_ring_substituents': True,\n",
      "                          'target_bond_smarts': None,\n",
      "                          'type': 'WBOFragmenter',\n",
      "                          'wbo_threshold': 0.03},\n",
      " 'generate_bespoke_terms': True,\n",
      " 'initial_force_field': 'openff_unconstrained-1.3.0.offxml',\n",
      " 'optimizer': {'adaptive_damping': 1.0,\n",
      "               'adaptive_factor': 0.2,\n",
      "               'eigenvalue_lower_bound': 0.01,\n",
      "               'error_tolerance': 1.0,\n",
      "               'extras': {},\n",
      "               'finite_difference_h': 0.01,\n",
      "               'gradient_convergence_threshold': 0.01,\n",
      "               'initial_trust_radius': -0.25,\n",
      "               'job_type': 'optimize',\n",
      "               'max_iterations': 10,\n",
      "               'minimum_trust_radius': 0.05,\n",
      "               'n_criteria': 2,\n",
      "               'normalize_weights': False,\n",
      "               'objective_convergence_threshold': 0.01,\n",
      "               'penalty_additive': 1.0,\n",
      "               'penalty_type': 'L1',\n",
      "               'step_convergence_threshold': 0.01,\n",
      "               'type': 'ForceBalance'},\n",
      " 'parameter_settings': [{'parameter_subtype': 'Proper',\n",
      "                         'parameter_type': <SmirksType.ProperTorsions: 'ProperTorsions'>,\n",
      "                         'prior': 6.0,\n",
      "                         'target': 'k'}],\n",
      " 'target_smirks': [<SmirksType.ProperTorsions: 'ProperTorsions'>],\n",
      " 'target_templates': [{'attenuate_weights': True,\n",
      "                       'energy_cutoff': 10.0,\n",
      "                       'energy_denominator': 1.0,\n",
      "                       'extras': {},\n",
      "                       'reference_data': {'qc_spec': {'basis': None,\n",
      "                                                      'implicit_solvent': None,\n",
      "                                                      'keywords': None,\n",
      "                                                      'method': 'gfn2xtb',\n",
      "                                                      'program': 'xtb',\n",
      "                                                      'spec_description': 'A '\n",
      "                                                                          'fast '\n",
      "                                                                          'semi-emperical '\n",
      "                                                                          'calculation.',\n",
      "                                                      'spec_name': 'xtb_gfn2',\n",
      "                                                      'store_wavefunction': 'none'},\n",
      "                                          'target_conformers': 4,\n",
      "                                          'tasks': [],\n",
      "                                          'type': 'bespoke'},\n",
      "                       'type': 'TorsionProfile',\n",
      "                       'weight': 1.0}]}\n"
     ]
    }
   ],
   "source": [
    "target = TorsionProfileTargetSchema(reference_data=BespokeQCData(qc_spec=xtb_spec))\n",
    "xtb_workflow = BespokeWorkflowFactory(target_templates=[target, ])\n",
    "pprint(xtb_workflow.dict())"
   ]
  },
  {
   "cell_type": "markdown",
   "id": "8906e26b",
   "metadata": {},
   "source": [
    "For this example, we are going to be using a very small molecule `BrCO` for speed which does not normally pass the fragmentation stage as openff-fragmenter will not fragment around terminal rotatable bonds so here we need to overwrite that as well."
   ]
  },
  {
   "cell_type": "code",
   "execution_count": 37,
   "id": "8aca2174",
   "metadata": {},
   "outputs": [
    {
     "data": {
      "image/png": "[encoded data removed]",
      "text/plain": [
       "<rdkit.Chem.rdchem.Mol at 0x1951f6f40>"
      ]
     },
     "metadata": {},
     "output_type": "display_data"
    }
   ],
   "source": [
    "xtb_workflow.fragmentation_engine.target_bond_smarts = [\"[!$(*#*)&!D1:1]-,=;!@[!$(*#*)&!D1:2]\", ]\n",
    "target_molecule = Molecule.from_smiles(\"BrCO\")\n",
    "target_molecule"
   ]
  },
  {
   "cell_type": "markdown",
   "id": "ea533236",
   "metadata": {},
   "source": [
    "Make the molecule specific optimization schema with the xTB specification."
   ]
  },
  {
   "cell_type": "code",
   "execution_count": 38,
   "id": "479ae049",
   "metadata": {},
   "outputs": [],
   "source": [
    "xtb_schema = xtb_workflow.optimization_schema_from_molecule(target_molecule)\n",
    "xtb_schema.id = \"xtb_BrCO\""
   ]
  },
  {
   "cell_type": "markdown",
   "id": "7ce6626d",
   "metadata": {},
   "source": [
    "Start a notebook friendly SnowFlake server for the reference data generation and pass it to BespokeFit."
   ]
  },
  {
   "cell_type": "code",
   "execution_count": 39,
   "id": "91b69442",
   "metadata": {},
   "outputs": [
    {
     "name": "stdout",
     "output_type": "stream",
     "text": [
      "FractalClient(server_name='FractalSnowFlake_db_fad8d', address='https://localhost:62404/', username='None')\n"
     ]
    }
   ],
   "source": [
    "from qcfractal import FractalSnowflakeHandler\n",
    "\n",
    "server = FractalSnowflakeHandler()\n",
    "client = FractalClient(server)\n",
    "print(client)"
   ]
  },
  {
   "cell_type": "code",
   "execution_count": 40,
   "id": "50d7ec3e",
   "metadata": {},
   "outputs": [],
   "source": [
    "executor = Executor()"
   ]
  },
  {
   "cell_type": "code",
   "execution_count": 41,
   "id": "e4ac7a14",
   "metadata": {
    "scrolled": true
   },
   "outputs": [
    {
     "name": "stderr",
     "output_type": "stream",
     "text": [
      "/Users/joshuahorton/miniconda3/envs/bespoke/lib/python3.9/site-packages/urllib3/connectionpool.py:1013: InsecureRequestWarning: Unverified HTTPS request is being made to host 'localhost'. Adding certificate verification is strongly advised. See: https://urllib3.readthedocs.io/en/1.26.x/advanced-usage.html#ssl-warnings\n",
      "  warnings.warn(\n",
      "/Users/joshuahorton/miniconda3/envs/bespoke/lib/python3.9/site-packages/urllib3/connectionpool.py:1013: InsecureRequestWarning: Unverified HTTPS request is being made to host 'localhost'. Adding certificate verification is strongly advised. See: https://urllib3.readthedocs.io/en/1.26.x/advanced-usage.html#ssl-warnings\n",
      "  warnings.warn(\n",
      "/Users/joshuahorton/miniconda3/envs/bespoke/lib/python3.9/site-packages/urllib3/connectionpool.py:1013: InsecureRequestWarning: Unverified HTTPS request is being made to host 'localhost'. Adding certificate verification is strongly advised. See: https://urllib3.readthedocs.io/en/1.26.x/advanced-usage.html#ssl-warnings\n",
      "  warnings.warn(\n",
      "/Users/joshuahorton/miniconda3/envs/bespoke/lib/python3.9/site-packages/urllib3/connectionpool.py:1013: InsecureRequestWarning: Unverified HTTPS request is being made to host 'localhost'. Adding certificate verification is strongly advised. See: https://urllib3.readthedocs.io/en/1.26.x/advanced-usage.html#ssl-warnings\n",
      "  warnings.warn(\n",
      "/Users/joshuahorton/miniconda3/envs/bespoke/lib/python3.9/site-packages/urllib3/connectionpool.py:1013: InsecureRequestWarning: Unverified HTTPS request is being made to host 'localhost'. Adding certificate verification is strongly advised. See: https://urllib3.readthedocs.io/en/1.26.x/advanced-usage.html#ssl-warnings\n",
      "  warnings.warn(\n",
      "/Users/joshuahorton/miniconda3/envs/bespoke/lib/python3.9/site-packages/urllib3/connectionpool.py:1013: InsecureRequestWarning: Unverified HTTPS request is being made to host 'localhost'. Adding certificate verification is strongly advised. See: https://urllib3.readthedocs.io/en/1.26.x/advanced-usage.html#ssl-warnings\n",
      "  warnings.warn(\n",
      "/Users/joshuahorton/miniconda3/envs/bespoke/lib/python3.9/site-packages/urllib3/connectionpool.py:1013: InsecureRequestWarning: Unverified HTTPS request is being made to host 'localhost'. Adding certificate verification is strongly advised. See: https://urllib3.readthedocs.io/en/1.26.x/advanced-usage.html#ssl-warnings\n",
      "  warnings.warn(\n",
      "/Users/joshuahorton/miniconda3/envs/bespoke/lib/python3.9/site-packages/urllib3/connectionpool.py:1013: InsecureRequestWarning: Unverified HTTPS request is being made to host 'localhost'. Adding certificate verification is strongly advised. See: https://urllib3.readthedocs.io/en/1.26.x/advanced-usage.html#ssl-warnings\n",
      "  warnings.warn(\n",
      "/Users/joshuahorton/miniconda3/envs/bespoke/lib/python3.9/site-packages/urllib3/connectionpool.py:1013: InsecureRequestWarning: Unverified HTTPS request is being made to host 'localhost'. Adding certificate verification is strongly advised. See: https://urllib3.readthedocs.io/en/1.26.x/advanced-usage.html#ssl-warnings\n",
      "  warnings.warn(\n",
      "/Users/joshuahorton/miniconda3/envs/bespoke/lib/python3.9/site-packages/urllib3/connectionpool.py:1013: InsecureRequestWarning: Unverified HTTPS request is being made to host 'localhost'. Adding certificate verification is strongly advised. See: https://urllib3.readthedocs.io/en/1.26.x/advanced-usage.html#ssl-warnings\n",
      "  warnings.warn(\n",
      "  0%|          | 0/1 [00:00<?, ?it/s]"
     ]
    },
    {
     "name": "stdout",
     "output_type": "stream",
     "text": [
      "generating target directory for torsion-1\n",
      "Note: Failed to import the optional openff.evaluator package. \n",
      "Note: Failed to import the optional openff.recharge package.\n"
     ]
    },
    {
     "name": "stderr",
     "output_type": "stream",
     "text": [
      "100%|██████████| 1/1 [00:00<00:00,  1.70it/s]\n",
      "Killing all workers\n"
     ]
    }
   ],
   "source": [
    "xtb_result = executor.execute(xtb_schema, client=client)"
   ]
  },
  {
   "cell_type": "markdown",
   "id": "eaaf2239",
   "metadata": {},
   "source": [
    "We can now inspect the server and view the new reference data."
   ]
  },
  {
   "cell_type": "code",
   "execution_count": 42,
   "id": "a71b0284",
   "metadata": {},
   "outputs": [
    {
     "data": {
      "text/html": [
       "<div>\n",
       "<style scoped>\n",
       "    .dataframe tbody tr th:only-of-type {\n",
       "        vertical-align: middle;\n",
       "    }\n",
       "\n",
       "    .dataframe tbody tr th {\n",
       "        vertical-align: top;\n",
       "    }\n",
       "\n",
       "    .dataframe thead th {\n",
       "        text-align: right;\n",
       "    }\n",
       "</style>\n",
       "<table border=\"1\" class=\"dataframe\">\n",
       "  <thead>\n",
       "    <tr style=\"text-align: right;\">\n",
       "      <th></th>\n",
       "      <th></th>\n",
       "      <th>tagline</th>\n",
       "    </tr>\n",
       "    <tr>\n",
       "      <th>collection</th>\n",
       "      <th>name</th>\n",
       "      <th></th>\n",
       "    </tr>\n",
       "  </thead>\n",
       "  <tbody>\n",
       "    <tr>\n",
       "      <th>TorsionDriveDataset</th>\n",
       "      <th>OpenFF Bespoke-fit</th>\n",
       "      <td>A bespoke QC data set</td>\n",
       "    </tr>\n",
       "  </tbody>\n",
       "</table>\n",
       "</div>"
      ],
      "text/plain": [
       "                                                      tagline\n",
       "collection          name                                     \n",
       "TorsionDriveDataset OpenFF Bespoke-fit  A bespoke QC data set"
      ]
     },
     "execution_count": 42,
     "metadata": {},
     "output_type": "execute_result"
    }
   ],
   "source": [
    "client.list_collections()"
   ]
  },
  {
   "cell_type": "code",
   "execution_count": 43,
   "id": "e65de60b",
   "metadata": {},
   "outputs": [
    {
     "data": {
      "text/html": [
       "        <script type=\"text/javascript\">\n",
       "        window.PlotlyConfig = {MathJaxConfig: 'local'};\n",
       "        if (window.MathJax) {MathJax.Hub.Config({SVG: {font: \"STIX-Web\"}});}\n",
       "        if (typeof require !== 'undefined') {\n",
       "        require.undef(\"plotly\");\n",
       "        requirejs.config({\n",
       "            paths: {\n",
       "                'plotly': ['https://cdn.plot.ly/plotly-2.4.2.min']\n",
       "            }\n",
       "        });\n",
       "        require(['plotly'], function(Plotly) {\n",
       "            window._Plotly = Plotly;\n",
       "        });\n",
       "        }\n",
       "        </script>\n",
       "        "
      ]
     },
     "metadata": {},
     "output_type": "display_data"
    },
    {
     "data": {
      "application/vnd.plotly.v1+json": {
       "config": {
        "linkText": "Export to plot.ly",
        "plotlyServerURL": "https://plot.ly",
        "showLink": false
       },
       "data": [
        {
         "mode": "lines+markers",
         "type": "scatter",
         "x": [
          -165,
          -150,
          -135,
          -120,
          -105,
          -90,
          -75,
          -60,
          -45,
          -30,
          -15,
          0,
          15,
          30,
          45,
          60,
          75,
          90,
          105,
          120,
          135,
          150,
          165,
          180
         ],
         "y": [
          5.211,
          5.033,
          4.484,
          3.447,
          2.084,
          0.8,
          0.019,
          0,
          0.729,
          1.889,
          2.943,
          3.366,
          2.943,
          1.889,
          0.729,
          0,
          0.019,
          0.8,
          2.084,
          3.447,
          4.484,
          5.033,
          5.211,
          5.237
         ]
        }
       ],
       "layout": {
        "template": {
         "data": {
          "bar": [
           {
            "error_x": {
             "color": "#2a3f5f"
            },
            "error_y": {
             "color": "#2a3f5f"
            },
            "marker": {
             "line": {
              "color": "#E5ECF6",
              "width": 0.5
             },
             "pattern": {
              "fillmode": "overlay",
              "size": 10,
              "solidity": 0.2
             }
            },
            "type": "bar"
           }
          ],
          "barpolar": [
           {
            "marker": {
             "line": {
              "color": "#E5ECF6",
              "width": 0.5
             },
             "pattern": {
              "fillmode": "overlay",
              "size": 10,
              "solidity": 0.2
             }
            },
            "type": "barpolar"
           }
          ],
          "carpet": [
           {
            "aaxis": {
             "endlinecolor": "#2a3f5f",
             "gridcolor": "white",
             "linecolor": "white",
             "minorgridcolor": "white",
             "startlinecolor": "#2a3f5f"
            },
            "baxis": {
             "endlinecolor": "#2a3f5f",
             "gridcolor": "white",
             "linecolor": "white",
             "minorgridcolor": "white",
             "startlinecolor": "#2a3f5f"
            },
            "type": "carpet"
           }
          ],
          "choropleth": [
           {
            "colorbar": {
             "outlinewidth": 0,
             "ticks": ""
            },
            "type": "choropleth"
           }
          ],
          "contour": [
           {
            "colorbar": {
             "outlinewidth": 0,
             "ticks": ""
            },
            "colorscale": [
             [
              0,
              "#0d0887"
             ],
             [
              0.1111111111111111,
              "#46039f"
             ],
             [
              0.2222222222222222,
              "#7201a8"
             ],
             [
              0.3333333333333333,
              "#9c179e"
             ],
             [
              0.4444444444444444,
              "#bd3786"
             ],
             [
              0.5555555555555556,
              "#d8576b"
             ],
             [
              0.6666666666666666,
              "#ed7953"
             ],
             [
              0.7777777777777778,
              "#fb9f3a"
             ],
             [
              0.8888888888888888,
              "#fdca26"
             ],
             [
              1,
              "#f0f921"
             ]
            ],
            "type": "contour"
           }
          ],
          "contourcarpet": [
           {
            "colorbar": {
             "outlinewidth": 0,
             "ticks": ""
            },
            "type": "contourcarpet"
           }
          ],
          "heatmap": [
           {
            "colorbar": {
             "outlinewidth": 0,
             "ticks": ""
            },
            "colorscale": [
             [
              0,
              "#0d0887"
             ],
             [
              0.1111111111111111,
              "#46039f"
             ],
             [
              0.2222222222222222,
              "#7201a8"
             ],
             [
              0.3333333333333333,
              "#9c179e"
             ],
             [
              0.4444444444444444,
              "#bd3786"
             ],
             [
              0.5555555555555556,
              "#d8576b"
             ],
             [
              0.6666666666666666,
              "#ed7953"
             ],
             [
              0.7777777777777778,
              "#fb9f3a"
             ],
             [
              0.8888888888888888,
              "#fdca26"
             ],
             [
              1,
              "#f0f921"
             ]
            ],
            "type": "heatmap"
           }
          ],
          "heatmapgl": [
           {
            "colorbar": {
             "outlinewidth": 0,
             "ticks": ""
            },
            "colorscale": [
             [
              0,
              "#0d0887"
             ],
             [
              0.1111111111111111,
              "#46039f"
             ],
             [
              0.2222222222222222,
              "#7201a8"
             ],
             [
              0.3333333333333333,
              "#9c179e"
             ],
             [
              0.4444444444444444,
              "#bd3786"
             ],
             [
              0.5555555555555556,
              "#d8576b"
             ],
             [
              0.6666666666666666,
              "#ed7953"
             ],
             [
              0.7777777777777778,
              "#fb9f3a"
             ],
             [
              0.8888888888888888,
              "#fdca26"
             ],
             [
              1,
              "#f0f921"
             ]
            ],
            "type": "heatmapgl"
           }
          ],
          "histogram": [
           {
            "marker": {
             "pattern": {
              "fillmode": "overlay",
              "size": 10,
              "solidity": 0.2
             }
            },
            "type": "histogram"
           }
          ],
          "histogram2d": [
           {
            "colorbar": {
             "outlinewidth": 0,
             "ticks": ""
            },
            "colorscale": [
             [
              0,
              "#0d0887"
             ],
             [
              0.1111111111111111,
              "#46039f"
             ],
             [
              0.2222222222222222,
              "#7201a8"
             ],
             [
              0.3333333333333333,
              "#9c179e"
             ],
             [
              0.4444444444444444,
              "#bd3786"
             ],
             [
              0.5555555555555556,
              "#d8576b"
             ],
             [
              0.6666666666666666,
              "#ed7953"
             ],
             [
              0.7777777777777778,
              "#fb9f3a"
             ],
             [
              0.8888888888888888,
              "#fdca26"
             ],
             [
              1,
              "#f0f921"
             ]
            ],
            "type": "histogram2d"
           }
          ],
          "histogram2dcontour": [
           {
            "colorbar": {
             "outlinewidth": 0,
             "ticks": ""
            },
            "colorscale": [
             [
              0,
              "#0d0887"
             ],
             [
              0.1111111111111111,
              "#46039f"
             ],
             [
              0.2222222222222222,
              "#7201a8"
             ],
             [
              0.3333333333333333,
              "#9c179e"
             ],
             [
              0.4444444444444444,
              "#bd3786"
             ],
             [
              0.5555555555555556,
              "#d8576b"
             ],
             [
              0.6666666666666666,
              "#ed7953"
             ],
             [
              0.7777777777777778,
              "#fb9f3a"
             ],
             [
              0.8888888888888888,
              "#fdca26"
             ],
             [
              1,
              "#f0f921"
             ]
            ],
            "type": "histogram2dcontour"
           }
          ],
          "mesh3d": [
           {
            "colorbar": {
             "outlinewidth": 0,
             "ticks": ""
            },
            "type": "mesh3d"
           }
          ],
          "parcoords": [
           {
            "line": {
             "colorbar": {
              "outlinewidth": 0,
              "ticks": ""
             }
            },
            "type": "parcoords"
           }
          ],
          "pie": [
           {
            "automargin": true,
            "type": "pie"
           }
          ],
          "scatter": [
           {
            "marker": {
             "colorbar": {
              "outlinewidth": 0,
              "ticks": ""
             }
            },
            "type": "scatter"
           }
          ],
          "scatter3d": [
           {
            "line": {
             "colorbar": {
              "outlinewidth": 0,
              "ticks": ""
             }
            },
            "marker": {
             "colorbar": {
              "outlinewidth": 0,
              "ticks": ""
             }
            },
            "type": "scatter3d"
           }
          ],
          "scattercarpet": [
           {
            "marker": {
             "colorbar": {
              "outlinewidth": 0,
              "ticks": ""
             }
            },
            "type": "scattercarpet"
           }
          ],
          "scattergeo": [
           {
            "marker": {
             "colorbar": {
              "outlinewidth": 0,
              "ticks": ""
             }
            },
            "type": "scattergeo"
           }
          ],
          "scattergl": [
           {
            "marker": {
             "colorbar": {
              "outlinewidth": 0,
              "ticks": ""
             }
            },
            "type": "scattergl"
           }
          ],
          "scattermapbox": [
           {
            "marker": {
             "colorbar": {
              "outlinewidth": 0,
              "ticks": ""
             }
            },
            "type": "scattermapbox"
           }
          ],
          "scatterpolar": [
           {
            "marker": {
             "colorbar": {
              "outlinewidth": 0,
              "ticks": ""
             }
            },
            "type": "scatterpolar"
           }
          ],
          "scatterpolargl": [
           {
            "marker": {
             "colorbar": {
              "outlinewidth": 0,
              "ticks": ""
             }
            },
            "type": "scatterpolargl"
           }
          ],
          "scatterternary": [
           {
            "marker": {
             "colorbar": {
              "outlinewidth": 0,
              "ticks": ""
             }
            },
            "type": "scatterternary"
           }
          ],
          "surface": [
           {
            "colorbar": {
             "outlinewidth": 0,
             "ticks": ""
            },
            "colorscale": [
             [
              0,
              "#0d0887"
             ],
             [
              0.1111111111111111,
              "#46039f"
             ],
             [
              0.2222222222222222,
              "#7201a8"
             ],
             [
              0.3333333333333333,
              "#9c179e"
             ],
             [
              0.4444444444444444,
              "#bd3786"
             ],
             [
              0.5555555555555556,
              "#d8576b"
             ],
             [
              0.6666666666666666,
              "#ed7953"
             ],
             [
              0.7777777777777778,
              "#fb9f3a"
             ],
             [
              0.8888888888888888,
              "#fdca26"
             ],
             [
              1,
              "#f0f921"
             ]
            ],
            "type": "surface"
           }
          ],
          "table": [
           {
            "cells": {
             "fill": {
              "color": "#EBF0F8"
             },
             "line": {
              "color": "white"
             }
            },
            "header": {
             "fill": {
              "color": "#C8D4E3"
             },
             "line": {
              "color": "white"
             }
            },
            "type": "table"
           }
          ]
         },
         "layout": {
          "annotationdefaults": {
           "arrowcolor": "#2a3f5f",
           "arrowhead": 0,
           "arrowwidth": 1
          },
          "autotypenumbers": "strict",
          "coloraxis": {
           "colorbar": {
            "outlinewidth": 0,
            "ticks": ""
           }
          },
          "colorscale": {
           "diverging": [
            [
             0,
             "#8e0152"
            ],
            [
             0.1,
             "#c51b7d"
            ],
            [
             0.2,
             "#de77ae"
            ],
            [
             0.3,
             "#f1b6da"
            ],
            [
             0.4,
             "#fde0ef"
            ],
            [
             0.5,
             "#f7f7f7"
            ],
            [
             0.6,
             "#e6f5d0"
            ],
            [
             0.7,
             "#b8e186"
            ],
            [
             0.8,
             "#7fbc41"
            ],
            [
             0.9,
             "#4d9221"
            ],
            [
             1,
             "#276419"
            ]
           ],
           "sequential": [
            [
             0,
             "#0d0887"
            ],
            [
             0.1111111111111111,
             "#46039f"
            ],
            [
             0.2222222222222222,
             "#7201a8"
            ],
            [
             0.3333333333333333,
             "#9c179e"
            ],
            [
             0.4444444444444444,
             "#bd3786"
            ],
            [
             0.5555555555555556,
             "#d8576b"
            ],
            [
             0.6666666666666666,
             "#ed7953"
            ],
            [
             0.7777777777777778,
             "#fb9f3a"
            ],
            [
             0.8888888888888888,
             "#fdca26"
            ],
            [
             1,
             "#f0f921"
            ]
           ],
           "sequentialminus": [
            [
             0,
             "#0d0887"
            ],
            [
             0.1111111111111111,
             "#46039f"
            ],
            [
             0.2222222222222222,
             "#7201a8"
            ],
            [
             0.3333333333333333,
             "#9c179e"
            ],
            [
             0.4444444444444444,
             "#bd3786"
            ],
            [
             0.5555555555555556,
             "#d8576b"
            ],
            [
             0.6666666666666666,
             "#ed7953"
            ],
            [
             0.7777777777777778,
             "#fb9f3a"
            ],
            [
             0.8888888888888888,
             "#fdca26"
            ],
            [
             1,
             "#f0f921"
            ]
           ]
          },
          "colorway": [
           "#636efa",
           "#EF553B",
           "#00cc96",
           "#ab63fa",
           "#FFA15A",
           "#19d3f3",
           "#FF6692",
           "#B6E880",
           "#FF97FF",
           "#FECB52"
          ],
          "font": {
           "color": "#2a3f5f"
          },
          "geo": {
           "bgcolor": "white",
           "lakecolor": "white",
           "landcolor": "#E5ECF6",
           "showlakes": true,
           "showland": true,
           "subunitcolor": "white"
          },
          "hoverlabel": {
           "align": "left"
          },
          "hovermode": "closest",
          "mapbox": {
           "style": "light"
          },
          "paper_bgcolor": "white",
          "plot_bgcolor": "#E5ECF6",
          "polar": {
           "angularaxis": {
            "gridcolor": "white",
            "linecolor": "white",
            "ticks": ""
           },
           "bgcolor": "#E5ECF6",
           "radialaxis": {
            "gridcolor": "white",
            "linecolor": "white",
            "ticks": ""
           }
          },
          "scene": {
           "xaxis": {
            "backgroundcolor": "#E5ECF6",
            "gridcolor": "white",
            "gridwidth": 2,
            "linecolor": "white",
            "showbackground": true,
            "ticks": "",
            "zerolinecolor": "white"
           },
           "yaxis": {
            "backgroundcolor": "#E5ECF6",
            "gridcolor": "white",
            "gridwidth": 2,
            "linecolor": "white",
            "showbackground": true,
            "ticks": "",
            "zerolinecolor": "white"
           },
           "zaxis": {
            "backgroundcolor": "#E5ECF6",
            "gridcolor": "white",
            "gridwidth": 2,
            "linecolor": "white",
            "showbackground": true,
            "ticks": "",
            "zerolinecolor": "white"
           }
          },
          "shapedefaults": {
           "line": {
            "color": "#2a3f5f"
           }
          },
          "ternary": {
           "aaxis": {
            "gridcolor": "white",
            "linecolor": "white",
            "ticks": ""
           },
           "baxis": {
            "gridcolor": "white",
            "linecolor": "white",
            "ticks": ""
           },
           "bgcolor": "#E5ECF6",
           "caxis": {
            "gridcolor": "white",
            "linecolor": "white",
            "ticks": ""
           }
          },
          "title": {
           "x": 0.05
          },
          "xaxis": {
           "automargin": true,
           "gridcolor": "white",
           "linecolor": "white",
           "ticks": "",
           "title": {
            "standoff": 15
           },
           "zerolinecolor": "white",
           "zerolinewidth": 2
          },
          "yaxis": {
           "automargin": true,
           "gridcolor": "white",
           "linecolor": "white",
           "ticks": "",
           "title": {
            "standoff": 15
           },
           "zerolinecolor": "white",
           "zerolinewidth": 2
          }
         }
        },
        "title": {
         "text": "TorsionDrive 1-D Plot"
        },
        "xaxis": {
         "range": [
          -175,
          190
         ],
         "title": {
          "text": "Dihedral Angle [degrees]"
         },
         "zeroline": false
        },
        "yaxis": {
         "title": {
          "text": "Relative Energy [kcal / mol]"
         },
         "zeroline": true
        }
       }
      },
      "text/html": [
       "<div>                            <div id=\"f388aa93-c49f-4335-bb59-eab810abe592\" class=\"plotly-graph-div\" style=\"height:525px; width:100%;\"></div>            <script type=\"text/javascript\">                require([\"plotly\"], function(Plotly) {                    window.PLOTLYENV=window.PLOTLYENV || {};                                    if (document.getElementById(\"f388aa93-c49f-4335-bb59-eab810abe592\")) {                    Plotly.newPlot(                        \"f388aa93-c49f-4335-bb59-eab810abe592\",                        [{\"mode\":\"lines+markers\",\"type\":\"scatter\",\"x\":[-165,-150,-135,-120,-105,-90,-75,-60,-45,-30,-15,0,15,30,45,60,75,90,105,120,135,150,165,180],\"y\":[5.211,5.033,4.484,3.447,2.084,0.8,0.019,0.0,0.729,1.889,2.943,3.366,2.943,1.889,0.729,0.0,0.019,0.8,2.084,3.447,4.484,5.033,5.211,5.237]}],                        {\"template\":{\"data\":{\"bar\":[{\"error_x\":{\"color\":\"#2a3f5f\"},\"error_y\":{\"color\":\"#2a3f5f\"},\"marker\":{\"line\":{\"color\":\"#E5ECF6\",\"width\":0.5},\"pattern\":{\"fillmode\":\"overlay\",\"size\":10,\"solidity\":0.2}},\"type\":\"bar\"}],\"barpolar\":[{\"marker\":{\"line\":{\"color\":\"#E5ECF6\",\"width\":0.5},\"pattern\":{\"fillmode\":\"overlay\",\"size\":10,\"solidity\":0.2}},\"type\":\"barpolar\"}],\"carpet\":[{\"aaxis\":{\"endlinecolor\":\"#2a3f5f\",\"gridcolor\":\"white\",\"linecolor\":\"white\",\"minorgridcolor\":\"white\",\"startlinecolor\":\"#2a3f5f\"},\"baxis\":{\"endlinecolor\":\"#2a3f5f\",\"gridcolor\":\"white\",\"linecolor\":\"white\",\"minorgridcolor\":\"white\",\"startlinecolor\":\"#2a3f5f\"},\"type\":\"carpet\"}],\"choropleth\":[{\"colorbar\":{\"outlinewidth\":0,\"ticks\":\"\"},\"type\":\"choropleth\"}],\"contour\":[{\"colorbar\":{\"outlinewidth\":0,\"ticks\":\"\"},\"colorscale\":[[0.0,\"#0d0887\"],[0.1111111111111111,\"#46039f\"],[0.2222222222222222,\"#7201a8\"],[0.3333333333333333,\"#9c179e\"],[0.4444444444444444,\"#bd3786\"],[0.5555555555555556,\"#d8576b\"],[0.6666666666666666,\"#ed7953\"],[0.7777777777777778,\"#fb9f3a\"],[0.8888888888888888,\"#fdca26\"],[1.0,\"#f0f921\"]],\"type\":\"contour\"}],\"contourcarpet\":[{\"colorbar\":{\"outlinewidth\":0,\"ticks\":\"\"},\"type\":\"contourcarpet\"}],\"heatmap\":[{\"colorbar\":{\"outlinewidth\":0,\"ticks\":\"\"},\"colorscale\":[[0.0,\"#0d0887\"],[0.1111111111111111,\"#46039f\"],[0.2222222222222222,\"#7201a8\"],[0.3333333333333333,\"#9c179e\"],[0.4444444444444444,\"#bd3786\"],[0.5555555555555556,\"#d8576b\"],[0.6666666666666666,\"#ed7953\"],[0.7777777777777778,\"#fb9f3a\"],[0.8888888888888888,\"#fdca26\"],[1.0,\"#f0f921\"]],\"type\":\"heatmap\"}],\"heatmapgl\":[{\"colorbar\":{\"outlinewidth\":0,\"ticks\":\"\"},\"colorscale\":[[0.0,\"#0d0887\"],[0.1111111111111111,\"#46039f\"],[0.2222222222222222,\"#7201a8\"],[0.3333333333333333,\"#9c179e\"],[0.4444444444444444,\"#bd3786\"],[0.5555555555555556,\"#d8576b\"],[0.6666666666666666,\"#ed7953\"],[0.7777777777777778,\"#fb9f3a\"],[0.8888888888888888,\"#fdca26\"],[1.0,\"#f0f921\"]],\"type\":\"heatmapgl\"}],\"histogram\":[{\"marker\":{\"pattern\":{\"fillmode\":\"overlay\",\"size\":10,\"solidity\":0.2}},\"type\":\"histogram\"}],\"histogram2d\":[{\"colorbar\":{\"outlinewidth\":0,\"ticks\":\"\"},\"colorscale\":[[0.0,\"#0d0887\"],[0.1111111111111111,\"#46039f\"],[0.2222222222222222,\"#7201a8\"],[0.3333333333333333,\"#9c179e\"],[0.4444444444444444,\"#bd3786\"],[0.5555555555555556,\"#d8576b\"],[0.6666666666666666,\"#ed7953\"],[0.7777777777777778,\"#fb9f3a\"],[0.8888888888888888,\"#fdca26\"],[1.0,\"#f0f921\"]],\"type\":\"histogram2d\"}],\"histogram2dcontour\":[{\"colorbar\":{\"outlinewidth\":0,\"ticks\":\"\"},\"colorscale\":[[0.0,\"#0d0887\"],[0.1111111111111111,\"#46039f\"],[0.2222222222222222,\"#7201a8\"],[0.3333333333333333,\"#9c179e\"],[0.4444444444444444,\"#bd3786\"],[0.5555555555555556,\"#d8576b\"],[0.6666666666666666,\"#ed7953\"],[0.7777777777777778,\"#fb9f3a\"],[0.8888888888888888,\"#fdca26\"],[1.0,\"#f0f921\"]],\"type\":\"histogram2dcontour\"}],\"mesh3d\":[{\"colorbar\":{\"outlinewidth\":0,\"ticks\":\"\"},\"type\":\"mesh3d\"}],\"parcoords\":[{\"line\":{\"colorbar\":{\"outlinewidth\":0,\"ticks\":\"\"}},\"type\":\"parcoords\"}],\"pie\":[{\"automargin\":true,\"type\":\"pie\"}],\"scatter\":[{\"marker\":{\"colorbar\":{\"outlinewidth\":0,\"ticks\":\"\"}},\"type\":\"scatter\"}],\"scatter3d\":[{\"line\":{\"colorbar\":{\"outlinewidth\":0,\"ticks\":\"\"}},\"marker\":{\"colorbar\":{\"outlinewidth\":0,\"ticks\":\"\"}},\"type\":\"scatter3d\"}],\"scattercarpet\":[{\"marker\":{\"colorbar\":{\"outlinewidth\":0,\"ticks\":\"\"}},\"type\":\"scattercarpet\"}],\"scattergeo\":[{\"marker\":{\"colorbar\":{\"outlinewidth\":0,\"ticks\":\"\"}},\"type\":\"scattergeo\"}],\"scattergl\":[{\"marker\":{\"colorbar\":{\"outlinewidth\":0,\"ticks\":\"\"}},\"type\":\"scattergl\"}],\"scattermapbox\":[{\"marker\":{\"colorbar\":{\"outlinewidth\":0,\"ticks\":\"\"}},\"type\":\"scattermapbox\"}],\"scatterpolar\":[{\"marker\":{\"colorbar\":{\"outlinewidth\":0,\"ticks\":\"\"}},\"type\":\"scatterpolar\"}],\"scatterpolargl\":[{\"marker\":{\"colorbar\":{\"outlinewidth\":0,\"ticks\":\"\"}},\"type\":\"scatterpolargl\"}],\"scatterternary\":[{\"marker\":{\"colorbar\":{\"outlinewidth\":0,\"ticks\":\"\"}},\"type\":\"scatterternary\"}],\"surface\":[{\"colorbar\":{\"outlinewidth\":0,\"ticks\":\"\"},\"colorscale\":[[0.0,\"#0d0887\"],[0.1111111111111111,\"#46039f\"],[0.2222222222222222,\"#7201a8\"],[0.3333333333333333,\"#9c179e\"],[0.4444444444444444,\"#bd3786\"],[0.5555555555555556,\"#d8576b\"],[0.6666666666666666,\"#ed7953\"],[0.7777777777777778,\"#fb9f3a\"],[0.8888888888888888,\"#fdca26\"],[1.0,\"#f0f921\"]],\"type\":\"surface\"}],\"table\":[{\"cells\":{\"fill\":{\"color\":\"#EBF0F8\"},\"line\":{\"color\":\"white\"}},\"header\":{\"fill\":{\"color\":\"#C8D4E3\"},\"line\":{\"color\":\"white\"}},\"type\":\"table\"}]},\"layout\":{\"annotationdefaults\":{\"arrowcolor\":\"#2a3f5f\",\"arrowhead\":0,\"arrowwidth\":1},\"autotypenumbers\":\"strict\",\"coloraxis\":{\"colorbar\":{\"outlinewidth\":0,\"ticks\":\"\"}},\"colorscale\":{\"diverging\":[[0,\"#8e0152\"],[0.1,\"#c51b7d\"],[0.2,\"#de77ae\"],[0.3,\"#f1b6da\"],[0.4,\"#fde0ef\"],[0.5,\"#f7f7f7\"],[0.6,\"#e6f5d0\"],[0.7,\"#b8e186\"],[0.8,\"#7fbc41\"],[0.9,\"#4d9221\"],[1,\"#276419\"]],\"sequential\":[[0.0,\"#0d0887\"],[0.1111111111111111,\"#46039f\"],[0.2222222222222222,\"#7201a8\"],[0.3333333333333333,\"#9c179e\"],[0.4444444444444444,\"#bd3786\"],[0.5555555555555556,\"#d8576b\"],[0.6666666666666666,\"#ed7953\"],[0.7777777777777778,\"#fb9f3a\"],[0.8888888888888888,\"#fdca26\"],[1.0,\"#f0f921\"]],\"sequentialminus\":[[0.0,\"#0d0887\"],[0.1111111111111111,\"#46039f\"],[0.2222222222222222,\"#7201a8\"],[0.3333333333333333,\"#9c179e\"],[0.4444444444444444,\"#bd3786\"],[0.5555555555555556,\"#d8576b\"],[0.6666666666666666,\"#ed7953\"],[0.7777777777777778,\"#fb9f3a\"],[0.8888888888888888,\"#fdca26\"],[1.0,\"#f0f921\"]]},\"colorway\":[\"#636efa\",\"#EF553B\",\"#00cc96\",\"#ab63fa\",\"#FFA15A\",\"#19d3f3\",\"#FF6692\",\"#B6E880\",\"#FF97FF\",\"#FECB52\"],\"font\":{\"color\":\"#2a3f5f\"},\"geo\":{\"bgcolor\":\"white\",\"lakecolor\":\"white\",\"landcolor\":\"#E5ECF6\",\"showlakes\":true,\"showland\":true,\"subunitcolor\":\"white\"},\"hoverlabel\":{\"align\":\"left\"},\"hovermode\":\"closest\",\"mapbox\":{\"style\":\"light\"},\"paper_bgcolor\":\"white\",\"plot_bgcolor\":\"#E5ECF6\",\"polar\":{\"angularaxis\":{\"gridcolor\":\"white\",\"linecolor\":\"white\",\"ticks\":\"\"},\"bgcolor\":\"#E5ECF6\",\"radialaxis\":{\"gridcolor\":\"white\",\"linecolor\":\"white\",\"ticks\":\"\"}},\"scene\":{\"xaxis\":{\"backgroundcolor\":\"#E5ECF6\",\"gridcolor\":\"white\",\"gridwidth\":2,\"linecolor\":\"white\",\"showbackground\":true,\"ticks\":\"\",\"zerolinecolor\":\"white\"},\"yaxis\":{\"backgroundcolor\":\"#E5ECF6\",\"gridcolor\":\"white\",\"gridwidth\":2,\"linecolor\":\"white\",\"showbackground\":true,\"ticks\":\"\",\"zerolinecolor\":\"white\"},\"zaxis\":{\"backgroundcolor\":\"#E5ECF6\",\"gridcolor\":\"white\",\"gridwidth\":2,\"linecolor\":\"white\",\"showbackground\":true,\"ticks\":\"\",\"zerolinecolor\":\"white\"}},\"shapedefaults\":{\"line\":{\"color\":\"#2a3f5f\"}},\"ternary\":{\"aaxis\":{\"gridcolor\":\"white\",\"linecolor\":\"white\",\"ticks\":\"\"},\"baxis\":{\"gridcolor\":\"white\",\"linecolor\":\"white\",\"ticks\":\"\"},\"bgcolor\":\"#E5ECF6\",\"caxis\":{\"gridcolor\":\"white\",\"linecolor\":\"white\",\"ticks\":\"\"}},\"title\":{\"x\":0.05},\"xaxis\":{\"automargin\":true,\"gridcolor\":\"white\",\"linecolor\":\"white\",\"ticks\":\"\",\"title\":{\"standoff\":15},\"zerolinecolor\":\"white\",\"zerolinewidth\":2},\"yaxis\":{\"automargin\":true,\"gridcolor\":\"white\",\"linecolor\":\"white\",\"ticks\":\"\",\"title\":{\"standoff\":15},\"zerolinecolor\":\"white\",\"zerolinewidth\":2}}},\"title\":{\"text\":\"TorsionDrive 1-D Plot\"},\"xaxis\":{\"range\":[-175,190],\"title\":{\"text\":\"Dihedral Angle [degrees]\"},\"zeroline\":false},\"yaxis\":{\"title\":{\"text\":\"Relative Energy [kcal / mol]\"},\"zeroline\":true}},                        {\"responsive\": true}                    ).then(function(){\n",
       "                            \n",
       "var gd = document.getElementById('f388aa93-c49f-4335-bb59-eab810abe592');\n",
       "var x = new MutationObserver(function (mutations, observer) {{\n",
       "        var display = window.getComputedStyle(gd).display;\n",
       "        if (!display || display === 'none') {{\n",
       "            console.log([gd, 'removed!']);\n",
       "            Plotly.purge(gd);\n",
       "            observer.disconnect();\n",
       "        }}\n",
       "}});\n",
       "\n",
       "// Listen for the removal of the full notebook cells\n",
       "var notebookContainer = gd.closest('#notebook-container');\n",
       "if (notebookContainer) {{\n",
       "    x.observe(notebookContainer, {childList: true});\n",
       "}}\n",
       "\n",
       "// Listen for the clearing of the current output cell\n",
       "var outputEl = gd.closest('.output');\n",
       "if (outputEl) {{\n",
       "    x.observe(outputEl, {childList: true});\n",
       "}}\n",
       "\n",
       "                        })                };                });            </script>        </div>"
      ]
     },
     "metadata": {},
     "output_type": "display_data"
    }
   ],
   "source": [
    "ds = client.get_collection(\"torsiondrivedataset\", \"OpenFF Bespoke-fit\")\n",
    "record = ds.get_record(ds.df.index[0], specification=\"xtb_gfn2\")\n",
    "record.visualize()"
   ]
  },
  {
   "cell_type": "markdown",
   "id": "8406d82d",
   "metadata": {},
   "source": [
    "Let's repeat the analysis from above and view the PES and the change in the torsion parameters."
   ]
  },
  {
   "cell_type": "code",
   "execution_count": 44,
   "id": "0a821729",
   "metadata": {},
   "outputs": [
    {
     "data": {
      "text/html": [
       "\n",
       "        <iframe\n",
       "            width=\"900\"\n",
       "            height=\"600\"\n",
       "            src=\"xtb_BrCO/optimize.tmp/torsion-1/iter_0002/plot_torsion.pdf\"\n",
       "            frameborder=\"0\"\n",
       "            allowfullscreen\n",
       "        ></iframe>\n",
       "        "
      ],
      "text/plain": [
       "<IPython.lib.display.IFrame at 0x199fc95e0>"
      ]
     },
     "execution_count": 44,
     "metadata": {},
     "output_type": "execute_result"
    }
   ],
   "source": [
    "IFrame(\"xtb_BrCO/optimize.tmp/torsion-1/iter_0002/plot_torsion.pdf\", width=900, height=600)"
   ]
  },
  {
   "cell_type": "code",
   "execution_count": 52,
   "id": "77e46e0a",
   "metadata": {},
   "outputs": [],
   "source": [
    "# if the xtb fitting could not be ran, uncomment this to load the results\n",
    "# xtb_result = deserialize_results(\"xtb_result.json.xz\")"
   ]
  },
  {
   "cell_type": "code",
   "execution_count": 53,
   "id": "94cc1c9d",
   "metadata": {},
   "outputs": [
    {
     "data": {
      "text/html": [
       "<div>\n",
       "<style scoped>\n",
       "    .dataframe tbody tr th:only-of-type {\n",
       "        vertical-align: middle;\n",
       "    }\n",
       "\n",
       "    .dataframe tbody tr th {\n",
       "        vertical-align: top;\n",
       "    }\n",
       "\n",
       "    .dataframe thead th {\n",
       "        text-align: right;\n",
       "    }\n",
       "</style>\n",
       "<table border=\"1\" class=\"dataframe\">\n",
       "  <thead>\n",
       "    <tr style=\"text-align: right;\">\n",
       "      <th></th>\n",
       "      <th>parameter</th>\n",
       "      <th>before</th>\n",
       "      <th>after</th>\n",
       "      <th>change</th>\n",
       "    </tr>\n",
       "  </thead>\n",
       "  <tbody>\n",
       "    <tr>\n",
       "      <th>0</th>\n",
       "      <td>smirks_0_k1</td>\n",
       "      <td>0.000001</td>\n",
       "      <td>0.000006</td>\n",
       "      <td>0.000005</td>\n",
       "    </tr>\n",
       "    <tr>\n",
       "      <th>1</th>\n",
       "      <td>smirks_0_k2</td>\n",
       "      <td>0.000001</td>\n",
       "      <td>0.000031</td>\n",
       "      <td>0.000030</td>\n",
       "    </tr>\n",
       "    <tr>\n",
       "      <th>2</th>\n",
       "      <td>smirks_0_k3</td>\n",
       "      <td>0.698594</td>\n",
       "      <td>0.212406</td>\n",
       "      <td>-0.486187</td>\n",
       "    </tr>\n",
       "    <tr>\n",
       "      <th>3</th>\n",
       "      <td>smirks_0_k4</td>\n",
       "      <td>0.000001</td>\n",
       "      <td>-0.059075</td>\n",
       "      <td>-0.059076</td>\n",
       "    </tr>\n",
       "    <tr>\n",
       "      <th>4</th>\n",
       "      <td>smirks_1_k1</td>\n",
       "      <td>0.000001</td>\n",
       "      <td>-0.000004</td>\n",
       "      <td>-0.000005</td>\n",
       "    </tr>\n",
       "    <tr>\n",
       "      <th>5</th>\n",
       "      <td>smirks_1_k2</td>\n",
       "      <td>0.000001</td>\n",
       "      <td>-2.134337</td>\n",
       "      <td>-2.134338</td>\n",
       "    </tr>\n",
       "    <tr>\n",
       "      <th>6</th>\n",
       "      <td>smirks_1_k3</td>\n",
       "      <td>0.698594</td>\n",
       "      <td>0.698590</td>\n",
       "      <td>-0.000004</td>\n",
       "    </tr>\n",
       "    <tr>\n",
       "      <th>7</th>\n",
       "      <td>smirks_1_k4</td>\n",
       "      <td>0.000001</td>\n",
       "      <td>0.000012</td>\n",
       "      <td>0.000011</td>\n",
       "    </tr>\n",
       "  </tbody>\n",
       "</table>\n",
       "</div>"
      ],
      "text/plain": [
       "     parameter    before     after    change\n",
       "0  smirks_0_k1  0.000001  0.000006  0.000005\n",
       "1  smirks_0_k2  0.000001  0.000031  0.000030\n",
       "2  smirks_0_k3  0.698594  0.212406 -0.486187\n",
       "3  smirks_0_k4  0.000001 -0.059075 -0.059076\n",
       "4  smirks_1_k1  0.000001 -0.000004 -0.000005\n",
       "5  smirks_1_k2  0.000001 -2.134337 -2.134338\n",
       "6  smirks_1_k3  0.698594  0.698590 -0.000004\n",
       "7  smirks_1_k4  0.000001  0.000012  0.000011"
      ]
     },
     "execution_count": 53,
     "metadata": {},
     "output_type": "execute_result"
    }
   ],
   "source": [
    "# collect the before, after and change values\n",
    "import pandas as pd\n",
    "\n",
    "parameter_data = []\n",
    "for i, parameter in enumerate(xtb_result[0].input_schema.target_smirks):\n",
    "    for final_parameter in xtb_result[0].final_smirks:\n",
    "        if parameter.smirks == final_parameter.smirks:\n",
    "            for term in range(1, 5):\n",
    "                k_before = float(parameter.terms[str(term)].k.split()[0])\n",
    "                k_after = float(final_parameter.terms[str(term)].k.split()[0])\n",
    "                parameter_data.append([f\"smirks_{i}_k{term}\", k_before, k_after, k_after - k_before])\n",
    "\n",
    "# make a pandas dataframe\n",
    "df = pd.DataFrame(parameter_data, columns=[\"parameter\", \"before\", \"after\", \"change\"])\n",
    "df"
   ]
  },
  {
   "cell_type": "code",
   "execution_count": 54,
   "id": "fb8f187e",
   "metadata": {},
   "outputs": [
    {
     "data": {
      "image/png": "[encoded data removed]",
      "text/plain": [
       "<Figure size 360x576 with 1 Axes>"
      ]
     },
     "metadata": {
      "needs_background": "light"
     },
     "output_type": "display_data"
    }
   ],
   "source": [
    "import matplotlib.pyplot as plt\n",
    "import seaborn as sns\n",
    "%matplotlib inline\n",
    "\n",
    "#set font size of labels on matplotlib plots\n",
    "plt.rc('font', size=16)\n",
    "\n",
    "#initialize a plot\n",
    "ax = plt.figure(figsize=(5,8))\n",
    "#add start points\n",
    "ax = sns.stripplot(data=df, \n",
    "                   x='before', \n",
    "                   y='parameter', \n",
    "                   orient='h', \n",
    "                   order=df['parameter'], \n",
    "                   size=10, \n",
    "                   color='black')\n",
    "ax.grid(axis='y', color='0.9') \n",
    "#add arrows to plot only if the parameter changed by more than 1e-3 kcal/mol\n",
    "for i in range(len(df.index)):\n",
    "    term = df.iloc[i]\n",
    "    if abs(term[\"change\"]) > 1e-3:\n",
    "        if term[\"after\"] > term[\"before\"]:\n",
    "            arrow_color = '#347768'\n",
    "        elif term[\"after\"] < term[\"before\"]:\n",
    "            arrow_color = 'red'\n",
    "        else:\n",
    "            arrow_color = 'black'\n",
    "        ax.arrow(term[\"before\"],        #x start point\n",
    "                 i,                      #y start point\n",
    "                 term[\"change\"],       #change in x \n",
    "                 0,                      #change in y\n",
    "                 head_width=0.3,         #arrow head width\n",
    "                 head_length=0.2,        #arrow head length\n",
    "                 width=0.1,              #arrow stem width\n",
    "                 fc=arrow_color,             #arrow fill color\n",
    "                 ec=arrow_color)     \n",
    "ax.axvline(x=0, color='0.9', ls='--', lw=2, zorder=0)\n",
    "ax.set_xlabel('Force Constant (kcal/mol)')                               \n",
    "ax.set_ylabel('Torsion Parameter')                         \n",
    "sns.despine(left=True, bottom=True) "
   ]
  },
  {
   "cell_type": "code",
   "execution_count": null,
   "id": "9b18e4ff",
   "metadata": {},
   "outputs": [],
   "source": []
  }
 ],
 "metadata": {
  "kernelspec": {
   "display_name": "Python 3 (ipykernel)",
   "language": "python",
   "name": "python3"
  },
  "language_info": {
   "codemirror_mode": {
    "name": "ipython",
    "version": 3
   },
   "file_extension": ".py",
   "mimetype": "text/x-python",
   "name": "python",
   "nbconvert_exporter": "python",
   "pygments_lexer": "ipython3",
   "version": "3.9.6"
  }
 },
 "nbformat": 4,
 "nbformat_minor": 5
}
