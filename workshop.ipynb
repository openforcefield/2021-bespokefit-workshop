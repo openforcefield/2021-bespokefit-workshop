{
 "cells": [
  {
   "cell_type": "markdown",
   "id": "5bf89419",
   "metadata": {},
   "source": [
    "# Bespokefit workshop live session\n",
    "\n",
    "## Learning objectives\n",
    "\n",
    "By the end of this workshop you will be able to:\n",
    "\n",
    "- 1. Build, configure and save a general bespokefit optimisation workflow\n",
    "- 2. Build molecule specific optimizaion schemas from the general workflow\n",
    "- 3. Load QCArchive computed data using OpenFF-QCSubmit as a fitting reference\n",
    "- 4. Optimize some bespoke torsion parameters\n",
    "- 5. analysis the results from ForceBalance \n",
    "- 6. Generate refernce data locally using xtb on the fly"
   ]
  },
  {
   "cell_type": "code",
   "execution_count": 1,
   "id": "d1050ba7",
   "metadata": {},
   "outputs": [],
   "source": [
    "from openff.qcsubmit.results import TorsionDriveResultCollection\n",
    "from openff.bespokefit.workflows import BespokeWorkflowFactory\n",
    "from openff.bespokefit.schema.optimizers import ForceBalanceSchema\n",
    "from openff.bespokefit.schema.targets import TorsionProfileTargetSchema\n",
    "from openff.bespokefit.bespoke import Executor\n",
    "from openff.bespokefit.schema.data import BespokeQCData\n",
    "from openff.qcsubmit.common_structures import QCSpec\n",
    "from openff.toolkit.topology import Molecule\n",
    "from qcportal import FractalClient\n",
    "from pprint import pprint"
   ]
  },
  {
   "cell_type": "markdown",
   "id": "c7454634",
   "metadata": {},
   "source": [
    "## 1. Building the general workflow\n",
    "\n",
    "Bespokefit aims to provide a reproducable parameter optimization workflow for SMIRNOFF based force fields. As such normal bespokefit execution starts with a general fitting workflow. This captures every process in the workflow along with any ajustable settings such as how the reference data should be generated. Lets start with a basic workflow which should be ready to use for torsion fitting."
   ]
  },
  {
   "cell_type": "code",
   "execution_count": 2,
   "id": "761a93f7",
   "metadata": {},
   "outputs": [
    {
     "name": "stdout",
     "output_type": "stream",
     "text": [
      "{'expand_torsion_terms': True,\n",
      " 'fragmentation_engine': None,\n",
      " 'generate_bespoke_terms': True,\n",
      " 'initial_force_field': 'openff_unconstrained-1.3.0.offxml',\n",
      " 'optimizer': {'adaptive_damping': 1.0,\n",
      "               'adaptive_factor': 0.2,\n",
      "               'eigenvalue_lower_bound': 0.01,\n",
      "               'error_tolerance': 1.0,\n",
      "               'extras': {},\n",
      "               'finite_difference_h': 0.01,\n",
      "               'gradient_convergence_threshold': 0.01,\n",
      "               'initial_trust_radius': -0.25,\n",
      "               'job_type': 'optimize',\n",
      "               'max_iterations': 10,\n",
      "               'minimum_trust_radius': 0.05,\n",
      "               'n_criteria': 2,\n",
      "               'normalize_weights': False,\n",
      "               'objective_convergence_threshold': 0.01,\n",
      "               'penalty_additive': 1.0,\n",
      "               'penalty_type': 'L1',\n",
      "               'step_convergence_threshold': 0.01,\n",
      "               'type': 'ForceBalance'},\n",
      " 'parameter_settings': [],\n",
      " 'target_smirks': [],\n",
      " 'target_templates': []}\n"
     ]
    }
   ],
   "source": [
    "# start with an empty workflow \n",
    "workflow = BespokeWorkflowFactory(fragmentation_engine=None, parameter_settings=[], target_smirks=[], target_templates=[])\n",
    "pprint(workflow.dict())"
   ]
  },
  {
   "cell_type": "markdown",
   "id": "b4b690ff",
   "metadata": {},
   "source": [
    "## 2. Build molecule specific schema\n",
    "\n"
   ]
  },
  {
   "cell_type": "code",
   "execution_count": 3,
   "id": "32cd7eb3",
   "metadata": {},
   "outputs": [],
   "source": [
    "# load the molecules\n",
    "mol = Molecule.from_file(\"data/bace.sdf\")"
   ]
  },
  {
   "cell_type": "code",
   "execution_count": 4,
   "id": "5f489b4a",
   "metadata": {},
   "outputs": [
    {
     "data": {
      "application/vnd.jupyter.widget-view+json": {
       "model_id": "b219a64ce51340a5bec9a0a80d78a7ec",
       "version_major": 2,
       "version_minor": 0
      },
      "text/plain": []
     },
     "metadata": {},
     "output_type": "display_data"
    },
    {
     "data": {
      "application/vnd.jupyter.widget-view+json": {
       "model_id": "e4f4cadc01b447aa954bccdd21c0f778",
       "version_major": 2,
       "version_minor": 0
      },
      "text/plain": [
       "NGLWidget()"
      ]
     },
     "metadata": {},
     "output_type": "display_data"
    }
   ],
   "source": [
    "mol[5]"
   ]
  },
  {
   "cell_type": "code",
   "execution_count": 5,
   "id": "d85c5cec",
   "metadata": {},
   "outputs": [],
   "source": [
    "# load the default factory \n",
    "workflow = BespokeWorkflowFactory()"
   ]
  },
  {
   "cell_type": "code",
   "execution_count": 6,
   "id": "ccffffb8",
   "metadata": {},
   "outputs": [
    {
     "name": "stderr",
     "output_type": "stream",
     "text": [
      "Deduplication                 : 100%|████████████| 1/1 [00:00<00:00, 217.25it/s]\n",
      "Building Fitting Schema : 100%|███████████████████| 1/1 [00:04<00:00,  4.76s/it]\n"
     ]
    }
   ],
   "source": [
    "# process all molecules\n",
    "schema = workflow.optimization_schemas_from_molecules(mol[5])"
   ]
  },
  {
   "cell_type": "code",
   "execution_count": 7,
   "id": "39a5ef12",
   "metadata": {},
   "outputs": [],
   "source": [
    "# pull out the new smirks and show how they transfer between the parent and the fragment"
   ]
  },
  {
   "cell_type": "code",
   "execution_count": 8,
   "id": "39247bc1",
   "metadata": {},
   "outputs": [
    {
     "data": {
      "text/plain": [
       "{'type': 'bespoke',\n",
       " 'qc_spec': {'method': 'B3LYP-D3BJ',\n",
       "  'basis': 'DZVP',\n",
       "  'program': 'psi4',\n",
       "  'spec_name': 'default',\n",
       "  'spec_description': 'Standard OpenFF optimization quantum chemistry specification.',\n",
       "  'store_wavefunction': 'none',\n",
       "  'implicit_solvent': None,\n",
       "  'keywords': None},\n",
       " 'target_conformers': 4}"
      ]
     },
     "execution_count": 8,
     "metadata": {},
     "output_type": "execute_result"
    }
   ],
   "source": [
    "# look into the data in the fitting schema\n",
    "schema[0].targets[0].reference_data.dict(exclude={\"tasks\"})"
   ]
  },
  {
   "cell_type": "markdown",
   "id": "ff36e3b1",
   "metadata": {},
   "source": [
    "## 3. Loading data from QCArchive"
   ]
  },
  {
   "cell_type": "code",
   "execution_count": 9,
   "id": "f860b0fc",
   "metadata": {},
   "outputs": [],
   "source": [
    "client = FractalClient()"
   ]
  },
  {
   "cell_type": "code",
   "execution_count": 10,
   "id": "ff24db1b",
   "metadata": {},
   "outputs": [
    {
     "data": {
      "text/html": [
       "<div>\n",
       "<style scoped>\n",
       "    .dataframe tbody tr th:only-of-type {\n",
       "        vertical-align: middle;\n",
       "    }\n",
       "\n",
       "    .dataframe tbody tr th {\n",
       "        vertical-align: top;\n",
       "    }\n",
       "\n",
       "    .dataframe thead th {\n",
       "        text-align: right;\n",
       "    }\n",
       "</style>\n",
       "<table border=\"1\" class=\"dataframe\">\n",
       "  <thead>\n",
       "    <tr style=\"text-align: right;\">\n",
       "      <th></th>\n",
       "      <th></th>\n",
       "      <th>tagline</th>\n",
       "    </tr>\n",
       "    <tr>\n",
       "      <th>collection</th>\n",
       "      <th>name</th>\n",
       "      <th></th>\n",
       "    </tr>\n",
       "  </thead>\n",
       "  <tbody>\n",
       "    <tr>\n",
       "      <th rowspan=\"43\" valign=\"top\">TorsionDriveDataset</th>\n",
       "      <th>Fragment Stability Benchmark</th>\n",
       "      <td>None</td>\n",
       "    </tr>\n",
       "    <tr>\n",
       "      <th>Fragmenter paper</th>\n",
       "      <td>None</td>\n",
       "    </tr>\n",
       "    <tr>\n",
       "      <th>OpenFF Amide Torsion Set v1.0</th>\n",
       "      <td>Amides, thioamides and amidines diversely func...</td>\n",
       "    </tr>\n",
       "    <tr>\n",
       "      <th>OpenFF Aniline 2D Impropers v1.0</th>\n",
       "      <td>Substituted aniline derivatives with various e...</td>\n",
       "    </tr>\n",
       "    <tr>\n",
       "      <th>OpenFF DANCE 1 eMolecules t142 v1.0</th>\n",
       "      <td>None</td>\n",
       "    </tr>\n",
       "    <tr>\n",
       "      <th>OpenFF Fragmenter Validation 1.0</th>\n",
       "      <td>None</td>\n",
       "    </tr>\n",
       "    <tr>\n",
       "      <th>OpenFF Full TorsionDrive Benchmark 1</th>\n",
       "      <td>None</td>\n",
       "    </tr>\n",
       "    <tr>\n",
       "      <th>OpenFF Gen 2 Torsion Set 1 Roche</th>\n",
       "      <td>None</td>\n",
       "    </tr>\n",
       "    <tr>\n",
       "      <th>OpenFF Gen 2 Torsion Set 1 Roche 2</th>\n",
       "      <td>None</td>\n",
       "    </tr>\n",
       "    <tr>\n",
       "      <th>OpenFF Gen 2 Torsion Set 2 Coverage</th>\n",
       "      <td>None</td>\n",
       "    </tr>\n",
       "    <tr>\n",
       "      <th>OpenFF Gen 2 Torsion Set 2 Coverage 2</th>\n",
       "      <td>None</td>\n",
       "    </tr>\n",
       "    <tr>\n",
       "      <th>OpenFF Gen 2 Torsion Set 3 Pfizer Discrepancy</th>\n",
       "      <td>None</td>\n",
       "    </tr>\n",
       "    <tr>\n",
       "      <th>OpenFF Gen 2 Torsion Set 3 Pfizer Discrepancy 2</th>\n",
       "      <td>None</td>\n",
       "    </tr>\n",
       "    <tr>\n",
       "      <th>OpenFF Gen 2 Torsion Set 4 eMolecules Discrepancy</th>\n",
       "      <td>None</td>\n",
       "    </tr>\n",
       "    <tr>\n",
       "      <th>OpenFF Gen 2 Torsion Set 4 eMolecules Discrepancy 2</th>\n",
       "      <td>None</td>\n",
       "    </tr>\n",
       "    <tr>\n",
       "      <th>OpenFF Gen 2 Torsion Set 5 Bayer</th>\n",
       "      <td>None</td>\n",
       "    </tr>\n",
       "    <tr>\n",
       "      <th>OpenFF Gen 2 Torsion Set 5 Bayer 2</th>\n",
       "      <td>None</td>\n",
       "    </tr>\n",
       "    <tr>\n",
       "      <th>OpenFF Gen 2 Torsion Set 6 Supplemental</th>\n",
       "      <td>None</td>\n",
       "    </tr>\n",
       "    <tr>\n",
       "      <th>OpenFF Gen 2 Torsion Set 6 Supplemental 2</th>\n",
       "      <td>None</td>\n",
       "    </tr>\n",
       "    <tr>\n",
       "      <th>OpenFF Gen3 Torsion Set v1.0</th>\n",
       "      <td>OpenFF Gen3 Torsion Set v1.0</td>\n",
       "    </tr>\n",
       "    <tr>\n",
       "      <th>OpenFF Group1 Torsions</th>\n",
       "      <td>None</td>\n",
       "    </tr>\n",
       "    <tr>\n",
       "      <th>OpenFF Group1 Torsions 2</th>\n",
       "      <td>None</td>\n",
       "    </tr>\n",
       "    <tr>\n",
       "      <th>OpenFF Group1 Torsions 3</th>\n",
       "      <td>None</td>\n",
       "    </tr>\n",
       "    <tr>\n",
       "      <th>OpenFF Primary Benchmark 1 Torsion Set</th>\n",
       "      <td>None</td>\n",
       "    </tr>\n",
       "    <tr>\n",
       "      <th>OpenFF Primary Benchmark 2 Torsion Set</th>\n",
       "      <td>None</td>\n",
       "    </tr>\n",
       "    <tr>\n",
       "      <th>OpenFF Primary TorsionDrive Benchmark 1</th>\n",
       "      <td>None</td>\n",
       "    </tr>\n",
       "    <tr>\n",
       "      <th>OpenFF Protein Fragments TorsionDrives v1.0</th>\n",
       "      <td>Torsiondrives for selected dihedrals of variou...</td>\n",
       "    </tr>\n",
       "    <tr>\n",
       "      <th>OpenFF Rowley Biaryl v1.0</th>\n",
       "      <td>Torsiondrives of biaryl molecules.</td>\n",
       "    </tr>\n",
       "    <tr>\n",
       "      <th>OpenFF Substituted Phenyl Set 1</th>\n",
       "      <td>None</td>\n",
       "    </tr>\n",
       "    <tr>\n",
       "      <th>OpenFF Substituted Phenyl Set 1 v2.0</th>\n",
       "      <td>Torsiondrives for selected dihedrals of variou...</td>\n",
       "    </tr>\n",
       "    <tr>\n",
       "      <th>OpenFF Theory Benchmarking Set B3LYP-D3BJ 6-31+Gss</th>\n",
       "      <td>Torsiondrives for benchmarking B3LYP-D3BJ/6-31...</td>\n",
       "    </tr>\n",
       "    <tr>\n",
       "      <th>OpenFF Theory Benchmarking Set B3LYP-D3BJ DZVP v1.0</th>\n",
       "      <td>Torsiondrives for benchmarking B3LYP-D3BJ/DZVP</td>\n",
       "    </tr>\n",
       "    <tr>\n",
       "      <th>OpenFF Theory Benchmarking Set B3LYP-D3BJ def2-TZVP v1.0</th>\n",
       "      <td>Torsiondrives for benchmarking B3LYP-D3BJ/def2...</td>\n",
       "    </tr>\n",
       "    <tr>\n",
       "      <th>OpenFF Theory Benchmarking Set B3LYP-D3BJ def2-TZVPD v1.0</th>\n",
       "      <td>Torsiondrives for benchmarking B3LYP-D3BJ/def2...</td>\n",
       "    </tr>\n",
       "    <tr>\n",
       "      <th>OpenFF Theory Benchmarking Set B3LYP-D3BJ def2-TZVPP v1.0</th>\n",
       "      <td>Torsiondrives for benchmarking B3LYP-D3BJ/def2...</td>\n",
       "    </tr>\n",
       "    <tr>\n",
       "      <th>OpenFF Theory Benchmarking Set B3LYP-D3BJ def2-TZVPPD</th>\n",
       "      <td>Torsiondrives for benchmarking B3LYP-D3BJ/def2...</td>\n",
       "    </tr>\n",
       "    <tr>\n",
       "      <th>OpenFF Theory Benchmarking Set v1.0</th>\n",
       "      <td>Torsiondrives for theory benchmarking</td>\n",
       "    </tr>\n",
       "    <tr>\n",
       "      <th>OpenFF WBO Conjugated Series v1.0</th>\n",
       "      <td>A functional series of molecules with varying ...</td>\n",
       "    </tr>\n",
       "    <tr>\n",
       "      <th>OpenFF-benchmark-ligand-fragments-v1.0</th>\n",
       "      <td>Fragmented torsiondrives of JACS benchmark inh...</td>\n",
       "    </tr>\n",
       "    <tr>\n",
       "      <th>Pfizer Discrepancy Torsion Dataset 1</th>\n",
       "      <td>None</td>\n",
       "    </tr>\n",
       "    <tr>\n",
       "      <th>SMIRNOFF Coverage Torsion Set 1</th>\n",
       "      <td>None</td>\n",
       "    </tr>\n",
       "    <tr>\n",
       "      <th>SiliconTX Torsion Benchmark Set 1</th>\n",
       "      <td>None</td>\n",
       "    </tr>\n",
       "    <tr>\n",
       "      <th>TorsionDrive Paper</th>\n",
       "      <td>None</td>\n",
       "    </tr>\n",
       "  </tbody>\n",
       "</table>\n",
       "</div>"
      ],
      "text/plain": [
       "                                                                                                                  tagline\n",
       "collection          name                                                                                                 \n",
       "TorsionDriveDataset Fragment Stability Benchmark                                                                     None\n",
       "                    Fragmenter paper                                                                                 None\n",
       "                    OpenFF Amide Torsion Set v1.0                       Amides, thioamides and amidines diversely func...\n",
       "                    OpenFF Aniline 2D Impropers v1.0                    Substituted aniline derivatives with various e...\n",
       "                    OpenFF DANCE 1 eMolecules t142 v1.0                                                              None\n",
       "                    OpenFF Fragmenter Validation 1.0                                                                 None\n",
       "                    OpenFF Full TorsionDrive Benchmark 1                                                             None\n",
       "                    OpenFF Gen 2 Torsion Set 1 Roche                                                                 None\n",
       "                    OpenFF Gen 2 Torsion Set 1 Roche 2                                                               None\n",
       "                    OpenFF Gen 2 Torsion Set 2 Coverage                                                              None\n",
       "                    OpenFF Gen 2 Torsion Set 2 Coverage 2                                                            None\n",
       "                    OpenFF Gen 2 Torsion Set 3 Pfizer Discrepancy                                                    None\n",
       "                    OpenFF Gen 2 Torsion Set 3 Pfizer Discrepancy 2                                                  None\n",
       "                    OpenFF Gen 2 Torsion Set 4 eMolecules Discrepancy                                                None\n",
       "                    OpenFF Gen 2 Torsion Set 4 eMolecules Discrepan...                                               None\n",
       "                    OpenFF Gen 2 Torsion Set 5 Bayer                                                                 None\n",
       "                    OpenFF Gen 2 Torsion Set 5 Bayer 2                                                               None\n",
       "                    OpenFF Gen 2 Torsion Set 6 Supplemental                                                          None\n",
       "                    OpenFF Gen 2 Torsion Set 6 Supplemental 2                                                        None\n",
       "                    OpenFF Gen3 Torsion Set v1.0                                             OpenFF Gen3 Torsion Set v1.0\n",
       "                    OpenFF Group1 Torsions                                                                           None\n",
       "                    OpenFF Group1 Torsions 2                                                                         None\n",
       "                    OpenFF Group1 Torsions 3                                                                         None\n",
       "                    OpenFF Primary Benchmark 1 Torsion Set                                                           None\n",
       "                    OpenFF Primary Benchmark 2 Torsion Set                                                           None\n",
       "                    OpenFF Primary TorsionDrive Benchmark 1                                                          None\n",
       "                    OpenFF Protein Fragments TorsionDrives v1.0         Torsiondrives for selected dihedrals of variou...\n",
       "                    OpenFF Rowley Biaryl v1.0                                          Torsiondrives of biaryl molecules.\n",
       "                    OpenFF Substituted Phenyl Set 1                                                                  None\n",
       "                    OpenFF Substituted Phenyl Set 1 v2.0                Torsiondrives for selected dihedrals of variou...\n",
       "                    OpenFF Theory Benchmarking Set B3LYP-D3BJ 6-31+Gss  Torsiondrives for benchmarking B3LYP-D3BJ/6-31...\n",
       "                    OpenFF Theory Benchmarking Set B3LYP-D3BJ DZVP ...     Torsiondrives for benchmarking B3LYP-D3BJ/DZVP\n",
       "                    OpenFF Theory Benchmarking Set B3LYP-D3BJ def2-...  Torsiondrives for benchmarking B3LYP-D3BJ/def2...\n",
       "                    OpenFF Theory Benchmarking Set B3LYP-D3BJ def2-...  Torsiondrives for benchmarking B3LYP-D3BJ/def2...\n",
       "                    OpenFF Theory Benchmarking Set B3LYP-D3BJ def2-...  Torsiondrives for benchmarking B3LYP-D3BJ/def2...\n",
       "                    OpenFF Theory Benchmarking Set B3LYP-D3BJ def2-...  Torsiondrives for benchmarking B3LYP-D3BJ/def2...\n",
       "                    OpenFF Theory Benchmarking Set v1.0                             Torsiondrives for theory benchmarking\n",
       "                    OpenFF WBO Conjugated Series v1.0                   A functional series of molecules with varying ...\n",
       "                    OpenFF-benchmark-ligand-fragments-v1.0              Fragmented torsiondrives of JACS benchmark inh...\n",
       "                    Pfizer Discrepancy Torsion Dataset 1                                                             None\n",
       "                    SMIRNOFF Coverage Torsion Set 1                                                                  None\n",
       "                    SiliconTX Torsion Benchmark Set 1                                                                None\n",
       "                    TorsionDrive Paper                                                                               None"
      ]
     },
     "execution_count": 10,
     "metadata": {},
     "output_type": "execute_result"
    }
   ],
   "source": [
    "client.list_collections(\"torsiondrivedataset\")"
   ]
  },
  {
   "cell_type": "code",
   "execution_count": 11,
   "id": "9accd47e",
   "metadata": {},
   "outputs": [],
   "source": [
    "# create a result from the dataset we know our molecule is in\n",
    "result = TorsionDriveResultCollection.from_server(client, \"OpenFF-benchmark-ligand-fragments-v1.0\", \"default\")"
   ]
  },
  {
   "cell_type": "code",
   "execution_count": 12,
   "id": "68560766",
   "metadata": {},
   "outputs": [
    {
     "data": {
      "text/plain": [
       "368"
      ]
     },
     "execution_count": 12,
     "metadata": {},
     "output_type": "execute_result"
    }
   ],
   "source": [
    "# check how many results we have\n",
    "result.n_molecules"
   ]
  },
  {
   "cell_type": "code",
   "execution_count": 13,
   "id": "d231c7e6",
   "metadata": {},
   "outputs": [
    {
     "data": {
      "text/plain": [
       "481"
      ]
     },
     "execution_count": 13,
     "metadata": {},
     "output_type": "execute_result"
    }
   ],
   "source": [
    "result.n_results"
   ]
  },
  {
   "cell_type": "markdown",
   "id": "84f5ca52",
   "metadata": {},
   "source": [
    "So we have 368 unique molecules and 481 torsiondrives, with some molecules have multipule torsion driven. All scans are 1D however."
   ]
  },
  {
   "cell_type": "code",
   "execution_count": 14,
   "id": "245a7592",
   "metadata": {},
   "outputs": [],
   "source": [
    "records_and_molecules = result.to_records()"
   ]
  },
  {
   "cell_type": "code",
   "execution_count": 15,
   "id": "b72c34d9",
   "metadata": {},
   "outputs": [],
   "source": [
    "# show what we have pulled down\n",
    "record, torsion_molecule = records_and_molecules[0]"
   ]
  },
  {
   "cell_type": "code",
   "execution_count": 16,
   "id": "d6fd661f",
   "metadata": {},
   "outputs": [
    {
     "name": "stdout",
     "output_type": "stream",
     "text": [
      "{'created_on': datetime.datetime(2020, 8, 11, 8, 41, 29, 18631),\n",
      " 'error': None,\n",
      " 'extras': {},\n",
      " 'final_energy_dict': {'[-105]': -3640.4638158997955,\n",
      "                       '[-120]': -3640.4647679341156,\n",
      "                       '[-135]': -3640.465163735234,\n",
      "                       '[-150]': -3640.4642715928676,\n",
      "                       '[-15]': -3640.4636147417914,\n",
      "                       '[-165]': -3640.4624015613344,\n",
      "                       '[-30]': -3640.4652715028706,\n",
      "                       '[-45]': -3640.465825944451,\n",
      "                       '[-60]': -3640.4651696332535,\n",
      "                       '[-75]': -3640.464054289657,\n",
      "                       '[-90]': -3640.4633727497303,\n",
      "                       '[0]': -3640.462376071303,\n",
      "                       '[105]': -3640.463816209257,\n",
      "                       '[120]': -3640.4647678395318,\n",
      "                       '[135]': -3640.4651635049663,\n",
      "                       '[150]': -3640.464272242762,\n",
      "                       '[15]': -3640.4636146794787,\n",
      "                       '[165]': -3640.4624028572016,\n",
      "                       '[180]': -3640.461258366971,\n",
      "                       '[30]': -3640.465272003303,\n",
      "                       '[45]': -3640.46582617854,\n",
      "                       '[60]': -3640.465168726225,\n",
      "                       '[75]': -3640.4640544792005,\n",
      "                       '[90]': -3640.4633727360174},\n",
      " 'hash_index': 'a6e900a05c49928512be7c3bc2add6c887ebfae4',\n",
      " 'id': '21540278',\n",
      " 'initial_molecule': ['15026098',\n",
      "                      '15026099',\n",
      "                      '15026100',\n",
      "                      '15026101',\n",
      "                      '15026102',\n",
      "                      '15026103'],\n",
      " 'keywords': {'dihedral_ranges': None,\n",
      "              'dihedrals': [(1, 5, 9, 15)],\n",
      "              'energy_decrease_thresh': None,\n",
      "              'energy_upper_limit': 0.05,\n",
      "              'grid_spacing': [15]},\n",
      " 'manager_name': None,\n",
      " 'minimum_positions': {'[-105]': 1,\n",
      "                       '[-120]': 0,\n",
      "                       '[-135]': 2,\n",
      "                       '[-150]': 3,\n",
      "                       '[-15]': 1,\n",
      "                       '[-165]': 2,\n",
      "                       '[-30]': 2,\n",
      "                       '[-45]': 0,\n",
      "                       '[-60]': 1,\n",
      "                       '[-75]': 0,\n",
      "                       '[-90]': 1,\n",
      "                       '[0]': 3,\n",
      "                       '[105]': 1,\n",
      "                       '[120]': 0,\n",
      "                       '[135]': 1,\n",
      "                       '[150]': 2,\n",
      "                       '[15]': 4,\n",
      "                       '[165]': 1,\n",
      "                       '[180]': 3,\n",
      "                       '[30]': 4,\n",
      "                       '[45]': 1,\n",
      "                       '[60]': 2,\n",
      "                       '[75]': 0,\n",
      "                       '[90]': 1},\n",
      " 'modified_on': datetime.datetime(2020, 8, 11, 8, 41, 29, 18629),\n",
      " 'optimization_history': {'[-105]': ['22869594', '22891514'],\n",
      "                          '[-120]': ['22871761', '22871762', '22920765'],\n",
      "                          '[-135]': ['22869593', '22891513', '23659981'],\n",
      "                          '[-150]': ['21540650',\n",
      "                                     '22871759',\n",
      "                                     '22871760',\n",
      "                                     '22920747',\n",
      "                                     '23694082'],\n",
      "                          '[-15]': ['22891517', '23659983', '23816554'],\n",
      "                          '[-165]': ['22869592',\n",
      "                                     '22891512',\n",
      "                                     '23659980',\n",
      "                                     '23816553'],\n",
      "                          '[-30]': ['22920767', '22920768', '23694083'],\n",
      "                          '[-45]': ['22891516', '23659982'],\n",
      "                          '[-60]': ['22871765', '22920766'],\n",
      "                          '[-75]': ['22869595', '22891515'],\n",
      "                          '[-90]': ['21540656',\n",
      "                                    '21540663',\n",
      "                                    '22871763',\n",
      "                                    '22871764'],\n",
      "                          '[0]': ['22871766',\n",
      "                                  '22920769',\n",
      "                                  '23694084',\n",
      "                                  '23694085'],\n",
      "                          '[105]': ['22869599', '22891521'],\n",
      "                          '[120]': ['22871773', '22920772'],\n",
      "                          '[135]': ['22891522', '23659986'],\n",
      "                          '[150]': ['22920773', '22920774', '23694087'],\n",
      "                          '[15]': ['22869596',\n",
      "                                   '22891518',\n",
      "                                   '23659984',\n",
      "                                   '23816555',\n",
      "                                   '23816556'],\n",
      "                          '[165]': ['22891523', '23659987', '23816558'],\n",
      "                          '[180]': ['22871774',\n",
      "                                    '22920775',\n",
      "                                    '23694088',\n",
      "                                    '23694089'],\n",
      "                          '[30]': ['21540669',\n",
      "                                   '22871767',\n",
      "                                   '22871768',\n",
      "                                   '22920770',\n",
      "                                   '23694086'],\n",
      "                          '[45]': ['22869597',\n",
      "                                   '22891519',\n",
      "                                   '23659985',\n",
      "                                   '23816557'],\n",
      "                          '[60]': ['22871769', '22871770', '22920771'],\n",
      "                          '[75]': ['22869598', '22891520'],\n",
      "                          '[90]': ['21540675',\n",
      "                                   '21540681',\n",
      "                                   '22871771',\n",
      "                                   '22871772']},\n",
      " 'optimization_spec': {'keywords': {'check': 0,\n",
      "                                    'convergence_set': 'gau',\n",
      "                                    'coordsys': 'tric',\n",
      "                                    'enforce': 0.1,\n",
      "                                    'epsilon': 0,\n",
      "                                    'maxiter': 300,\n",
      "                                    'molcnv': False,\n",
      "                                    'qccnv': True,\n",
      "                                    'reset': True,\n",
      "                                    'tmax': 0.3,\n",
      "                                    'trust': 0.1},\n",
      "                       'program': 'geometric'},\n",
      " 'procedure': 'torsiondrive',\n",
      " 'program': 'torsiondrive',\n",
      " 'protocols': None,\n",
      " 'provenance': {'creator': 'torsiondrive',\n",
      "                'routine': 'torsiondrive.td_api',\n",
      "                'version': 'v0.9.8.1'},\n",
      " 'qc_spec': {'basis': 'dzvp',\n",
      "             'driver': <DriverEnum.gradient: 'gradient'>,\n",
      "             'keywords': '2',\n",
      "             'method': 'b3lyp-d3bj',\n",
      "             'program': 'psi4',\n",
      "             'protocols': {'wavefunction': <WavefunctionProtocolEnum.none: 'none'>}},\n",
      " 'status': <RecordStatusEnum.complete: 'COMPLETE'>,\n",
      " 'stderr': None,\n",
      " 'stdout': None,\n",
      " 'version': 1}\n"
     ]
    }
   ],
   "source": [
    "pprint(record.dict())"
   ]
  },
  {
   "cell_type": "code",
   "execution_count": 17,
   "id": "abe49c22",
   "metadata": {},
   "outputs": [
    {
     "data": {
      "application/vnd.jupyter.widget-view+json": {
       "model_id": "d4afad6db0f9453bb2963eaa85a436b6",
       "version_major": 2,
       "version_minor": 0
      },
      "text/plain": [
       "NGLWidget(max_frame=23)"
      ]
     },
     "metadata": {},
     "output_type": "display_data"
    }
   ],
   "source": [
    "torsion_molecule"
   ]
  },
  {
   "cell_type": "code",
   "execution_count": 18,
   "id": "6ca5f051",
   "metadata": {},
   "outputs": [],
   "source": [
    "for molecule in schema:\n",
    "    molecule.update_with_results(records_and_molecules)"
   ]
  },
  {
   "cell_type": "code",
   "execution_count": 19,
   "id": "706480f5",
   "metadata": {},
   "outputs": [
    {
     "name": "stdout",
     "output_type": "stream",
     "text": [
      "True\n"
     ]
    }
   ],
   "source": [
    "for molecule in schema:\n",
    "    print(molecule.ready_for_fitting)"
   ]
  },
  {
   "cell_type": "markdown",
   "id": "fa559297",
   "metadata": {},
   "source": [
    "## 4. Optimize a bespoke torsion parameter"
   ]
  },
  {
   "cell_type": "code",
   "execution_count": 21,
   "id": "45129089",
   "metadata": {},
   "outputs": [],
   "source": [
    "executor = Executor()"
   ]
  },
  {
   "cell_type": "code",
   "execution_count": null,
   "id": "e81eb136",
   "metadata": {},
   "outputs": [
    {
     "name": "stderr",
     "output_type": "stream",
     "text": [
      "\r",
      "  0%|          | 0/3 [00:00<?, ?it/s]\r",
      "                                     \r",
      "\r",
      "  0%|          | 0/3 [00:00<?, ?it/s]"
     ]
    },
    {
     "name": "stdout",
     "output_type": "stream",
     "text": [
      "making new fb folders in bespoke_task_0\n",
      "making forcebalance file system in  bespoke_task_0\n",
      "generating target directory for torsion-21540558\n",
      "Note: Failed to import the optional openff.evaluator package. \n",
      "Note: Failed to import the optional openff.recharge package.\n"
     ]
    },
    {
     "name": "stderr",
     "output_type": "stream",
     "text": [
      "\r",
      " 33%|███▎      | 1/3 [00:00<00:01,  1.52it/s]\r",
      "                                             \r",
      "\r",
      " 33%|███▎      | 1/3 [00:00<00:01,  1.52it/s]\r",
      "                                             \r",
      "\r",
      " 33%|███▎      | 1/3 [00:00<00:01,  1.52it/s]\r",
      "100%|██████████| 3/3 [00:00<00:00,  4.41it/s]\n"
     ]
    }
   ],
   "source": [
    "executor.execute(schema[0])"
   ]
  },
  {
   "cell_type": "code",
   "execution_count": null,
   "id": "96995315",
   "metadata": {},
   "outputs": [],
   "source": []
  }
 ],
 "metadata": {
  "kernelspec": {
   "display_name": "Python 3 (ipykernel)",
   "language": "python",
   "name": "python3"
  },
  "language_info": {
   "codemirror_mode": {
    "name": "ipython",
    "version": 3
   },
   "file_extension": ".py",
   "mimetype": "text/x-python",
   "name": "python",
   "nbconvert_exporter": "python",
   "pygments_lexer": "ipython3",
   "version": "3.9.6"
  }
 },
 "nbformat": 4,
 "nbformat_minor": 5
}
