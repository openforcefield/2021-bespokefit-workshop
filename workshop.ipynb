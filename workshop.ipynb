{
 "cells": [
  {
   "cell_type": "markdown",
   "id": "5bf89419",
   "metadata": {},
   "source": [
    "# Bespokefit workshop live session\n",
    "\n",
    "## Learning objectives\n",
    "\n",
    "By the end of this workshop you will be able to:\n",
    "\n",
    "- 1. Build, configure and save a general bespokefit optimisation workflow\n",
    "- 2. Build molecule specific optimizaion schemas from the general workflow\n",
    "- 3. Load QCArchive computed data using OpenFF-QCSubmit as a fitting reference\n",
    "- 4. Optimize some bespoke torsion parameters\n",
    "- 5. analysis the results from ForceBalance \n",
    "- 6. Generate refernce data locally using xtb on the fly"
   ]
  },
  {
   "cell_type": "code",
   "execution_count": 1,
   "id": "d1050ba7",
   "metadata": {},
   "outputs": [
    {
     "name": "stderr",
     "output_type": "stream",
     "text": [
      "Warning: Unable to load toolkit 'OpenEye Toolkit'. The Open Force Field Toolkit does not require the OpenEye Toolkits, and can use RDKit/AmberTools instead. However, if you have a valid license for the OpenEye Toolkits, consider installing them for faster performance and additional file format support: https://docs.eyesopen.com/toolkits/python/quickstart-python/linuxosx.html OpenEye offers free Toolkit licenses for academics: https://www.eyesopen.com/academic-licensing\n"
     ]
    }
   ],
   "source": [
    "from openff.qcsubmit.results import TorsionDriveResultCollection\n",
    "from openff.bespokefit.workflows import BespokeWorkflowFactory\n",
    "from openff.bespokefit.schema.optimizers import ForceBalanceSchema\n",
    "from openff.bespokefit.schema.targets import TorsionProfileTargetSchema\n",
    "from openff.bespokefit.bespoke import Executor\n",
    "from openff.bespokefit.schema.data import BespokeQCData\n",
    "from openff.qcsubmit.common_structures import QCSpec\n",
    "from openff.toolkit.topology import Molecule\n",
    "from qcportal import FractalClient\n",
    "from pprint import pprint"
   ]
  },
  {
   "cell_type": "markdown",
   "id": "c7454634",
   "metadata": {},
   "source": [
    "## 1. Building the general workflow\n",
    "\n",
    "Bespokefit aims to provide a reproducable parameter optimization workflow for SMIRNOFF based force fields. As such normal bespokefit execution starts with a general fitting workflow. This captures every process in the workflow along with any ajustable settings such as how the reference data should be generated. Lets start with a basic workflow which should be ready to use for torsion fitting."
   ]
  },
  {
   "cell_type": "code",
   "execution_count": 2,
   "id": "761a93f7",
   "metadata": {},
   "outputs": [
    {
     "name": "stdout",
     "output_type": "stream",
     "text": [
      "{'expand_torsion_terms': True,\n",
      " 'fragmentation_engine': None,\n",
      " 'generate_bespoke_terms': True,\n",
      " 'initial_force_field': 'openff_unconstrained-1.3.0.offxml',\n",
      " 'optimizer': {'adaptive_damping': 1.0,\n",
      "               'adaptive_factor': 0.2,\n",
      "               'eigenvalue_lower_bound': 0.01,\n",
      "               'error_tolerance': 1.0,\n",
      "               'extras': {},\n",
      "               'finite_difference_h': 0.01,\n",
      "               'gradient_convergence_threshold': 0.01,\n",
      "               'initial_trust_radius': -0.25,\n",
      "               'job_type': 'optimize',\n",
      "               'max_iterations': 10,\n",
      "               'minimum_trust_radius': 0.05,\n",
      "               'n_criteria': 2,\n",
      "               'normalize_weights': False,\n",
      "               'objective_convergence_threshold': 0.01,\n",
      "               'penalty_additive': 1.0,\n",
      "               'penalty_type': 'L1',\n",
      "               'step_convergence_threshold': 0.01,\n",
      "               'type': 'ForceBalance'},\n",
      " 'parameter_settings': [],\n",
      " 'target_smirks': [],\n",
      " 'target_templates': []}\n"
     ]
    }
   ],
   "source": [
    "# start with an empty workflow \n",
    "workflow = BespokeWorkflowFactory(fragmentation_engine=None, parameter_settings=[], target_smirks=[], target_templates=[])\n",
    "pprint(workflow.dict())"
   ]
  },
  {
   "cell_type": "markdown",
   "id": "b4b690ff",
   "metadata": {},
   "source": [
    "## 2. Build molecule specific schema\n",
    "\n"
   ]
  },
  {
   "cell_type": "code",
   "execution_count": 3,
   "id": "32cd7eb3",
   "metadata": {},
   "outputs": [],
   "source": [
    "# load the molecules\n",
    "mol = Molecule.from_file(\"data/input.sdf\")"
   ]
  },
  {
   "cell_type": "code",
   "execution_count": 4,
   "id": "5f489b4a",
   "metadata": {},
   "outputs": [
    {
     "data": {
      "application/vnd.jupyter.widget-view+json": {
       "model_id": "18325b07c75949cbbc0e8fc3cfc309d0",
       "version_major": 2,
       "version_minor": 0
      },
      "text/plain": []
     },
     "metadata": {},
     "output_type": "display_data"
    },
    {
     "data": {
      "application/vnd.jupyter.widget-view+json": {
       "model_id": "d44678ccf4b2440c9fcb4ad123220b29",
       "version_major": 2,
       "version_minor": 0
      },
      "text/plain": [
       "NGLWidget()"
      ]
     },
     "metadata": {},
     "output_type": "display_data"
    }
   ],
   "source": [
    "#mol[5]\n",
    "mol"
   ]
  },
  {
   "cell_type": "code",
   "execution_count": 5,
   "id": "d85c5cec",
   "metadata": {},
   "outputs": [],
   "source": [
    "# load the default factory \n",
    "workflow = BespokeWorkflowFactory()"
   ]
  },
  {
   "cell_type": "code",
   "execution_count": 6,
   "id": "ccffffb8",
   "metadata": {},
   "outputs": [
    {
     "name": "stderr",
     "output_type": "stream",
     "text": [
      "Deduplication                 : 100%|████████████| 1/1 [00:00<00:00, 182.48it/s]\n",
      "Building Fitting Schema :   0%|                           | 0/1 [00:00<?, ?it/s]Warning: Unable to load toolkit 'OpenEye Toolkit'. The Open Force Field Toolkit does not require the OpenEye Toolkits, and can use RDKit/AmberTools instead. However, if you have a valid license for the OpenEye Toolkits, consider installing them for faster performance and additional file format support: https://docs.eyesopen.com/toolkits/python/quickstart-python/linuxosx.html OpenEye offers free Toolkit licenses for academics: https://www.eyesopen.com/academic-licensing\n",
      "[14:40:00] WARNING: Proton(s) added/removed\n",
      "[14:40:00] WARNING: Proton(s) added/removed\n",
      "[14:40:00] WARNING: Proton(s) added/removed\n",
      "[14:40:00] WARNING: Proton(s) added/removed\n",
      "[14:40:00] WARNING: Proton(s) added/removed\n",
      "[14:40:00] WARNING: Proton(s) added/removed\n",
      "Building Fitting Schema : 100%|███████████████████| 1/1 [00:30<00:00, 30.49s/it]\n",
      "/Users/jeffreywagner/miniconda3/envs/2021-bespokefit-workshop/lib/python3.8/site-packages/openff/toolkit/utils/toolkits.py:3713: RuntimeWarning: invalid value encountered in sqrt\n",
      "  distances = np.sqrt(\n",
      "/Users/jeffreywagner/miniconda3/envs/2021-bespokefit-workshop/lib/python3.8/site-packages/openff/toolkit/utils/toolkits.py:3713: RuntimeWarning: invalid value encountered in sqrt\n",
      "  distances = np.sqrt(\n",
      "/Users/jeffreywagner/miniconda3/envs/2021-bespokefit-workshop/lib/python3.8/site-packages/openff/toolkit/utils/toolkits.py:3713: RuntimeWarning: invalid value encountered in sqrt\n",
      "  distances = np.sqrt(\n"
     ]
    }
   ],
   "source": [
    "# process all molecules\n",
    "#schema = workflow.optimization_schemas_from_molecules(mol[5])\n",
    "schema = workflow.optimization_schemas_from_molecules(mol)"
   ]
  },
  {
   "cell_type": "code",
   "execution_count": 7,
   "id": "39a5ef12",
   "metadata": {},
   "outputs": [],
   "source": [
    "# pull out the new smirks and show how they transfer between the parent and the fragment"
   ]
  },
  {
   "cell_type": "code",
   "execution_count": 8,
   "id": "39247bc1",
   "metadata": {},
   "outputs": [
    {
     "data": {
      "text/plain": [
       "{'type': 'bespoke',\n",
       " 'qc_spec': {'method': 'B3LYP-D3BJ',\n",
       "  'basis': 'DZVP',\n",
       "  'program': 'psi4',\n",
       "  'spec_name': 'default',\n",
       "  'spec_description': 'Standard OpenFF optimization quantum chemistry specification.',\n",
       "  'store_wavefunction': 'none',\n",
       "  'implicit_solvent': None,\n",
       "  'keywords': None},\n",
       " 'target_conformers': 4}"
      ]
     },
     "execution_count": 8,
     "metadata": {},
     "output_type": "execute_result"
    }
   ],
   "source": [
    "# look into the data in the fitting schema\n",
    "schema[0].targets[0].reference_data.dict(exclude={\"tasks\"})"
   ]
  },
  {
   "cell_type": "markdown",
   "id": "ff36e3b1",
   "metadata": {},
   "source": [
    "## 3. Loading data from QCArchive"
   ]
  },
  {
   "cell_type": "code",
   "execution_count": 9,
   "id": "f860b0fc",
   "metadata": {},
   "outputs": [],
   "source": [
    "client = FractalClient()"
   ]
  },
  {
   "cell_type": "code",
   "execution_count": 10,
   "id": "ff24db1b",
   "metadata": {},
   "outputs": [
    {
     "data": {
      "text/html": [
       "<div>\n",
       "<style scoped>\n",
       "    .dataframe tbody tr th:only-of-type {\n",
       "        vertical-align: middle;\n",
       "    }\n",
       "\n",
       "    .dataframe tbody tr th {\n",
       "        vertical-align: top;\n",
       "    }\n",
       "\n",
       "    .dataframe thead th {\n",
       "        text-align: right;\n",
       "    }\n",
       "</style>\n",
       "<table border=\"1\" class=\"dataframe\">\n",
       "  <thead>\n",
       "    <tr style=\"text-align: right;\">\n",
       "      <th></th>\n",
       "      <th></th>\n",
       "      <th>tagline</th>\n",
       "    </tr>\n",
       "    <tr>\n",
       "      <th>collection</th>\n",
       "      <th>name</th>\n",
       "      <th></th>\n",
       "    </tr>\n",
       "  </thead>\n",
       "  <tbody>\n",
       "    <tr>\n",
       "      <th rowspan=\"43\" valign=\"top\">TorsionDriveDataset</th>\n",
       "      <th>Fragment Stability Benchmark</th>\n",
       "      <td>None</td>\n",
       "    </tr>\n",
       "    <tr>\n",
       "      <th>Fragmenter paper</th>\n",
       "      <td>None</td>\n",
       "    </tr>\n",
       "    <tr>\n",
       "      <th>OpenFF Amide Torsion Set v1.0</th>\n",
       "      <td>Amides, thioamides and amidines diversely func...</td>\n",
       "    </tr>\n",
       "    <tr>\n",
       "      <th>OpenFF Aniline 2D Impropers v1.0</th>\n",
       "      <td>Substituted aniline derivatives with various e...</td>\n",
       "    </tr>\n",
       "    <tr>\n",
       "      <th>OpenFF DANCE 1 eMolecules t142 v1.0</th>\n",
       "      <td>None</td>\n",
       "    </tr>\n",
       "    <tr>\n",
       "      <th>OpenFF Fragmenter Validation 1.0</th>\n",
       "      <td>None</td>\n",
       "    </tr>\n",
       "    <tr>\n",
       "      <th>OpenFF Full TorsionDrive Benchmark 1</th>\n",
       "      <td>None</td>\n",
       "    </tr>\n",
       "    <tr>\n",
       "      <th>OpenFF Gen 2 Torsion Set 1 Roche</th>\n",
       "      <td>None</td>\n",
       "    </tr>\n",
       "    <tr>\n",
       "      <th>OpenFF Gen 2 Torsion Set 1 Roche 2</th>\n",
       "      <td>None</td>\n",
       "    </tr>\n",
       "    <tr>\n",
       "      <th>OpenFF Gen 2 Torsion Set 2 Coverage</th>\n",
       "      <td>None</td>\n",
       "    </tr>\n",
       "    <tr>\n",
       "      <th>OpenFF Gen 2 Torsion Set 2 Coverage 2</th>\n",
       "      <td>None</td>\n",
       "    </tr>\n",
       "    <tr>\n",
       "      <th>OpenFF Gen 2 Torsion Set 3 Pfizer Discrepancy</th>\n",
       "      <td>None</td>\n",
       "    </tr>\n",
       "    <tr>\n",
       "      <th>OpenFF Gen 2 Torsion Set 3 Pfizer Discrepancy 2</th>\n",
       "      <td>None</td>\n",
       "    </tr>\n",
       "    <tr>\n",
       "      <th>OpenFF Gen 2 Torsion Set 4 eMolecules Discrepancy</th>\n",
       "      <td>None</td>\n",
       "    </tr>\n",
       "    <tr>\n",
       "      <th>OpenFF Gen 2 Torsion Set 4 eMolecules Discrepancy 2</th>\n",
       "      <td>None</td>\n",
       "    </tr>\n",
       "    <tr>\n",
       "      <th>OpenFF Gen 2 Torsion Set 5 Bayer</th>\n",
       "      <td>None</td>\n",
       "    </tr>\n",
       "    <tr>\n",
       "      <th>OpenFF Gen 2 Torsion Set 5 Bayer 2</th>\n",
       "      <td>None</td>\n",
       "    </tr>\n",
       "    <tr>\n",
       "      <th>OpenFF Gen 2 Torsion Set 6 Supplemental</th>\n",
       "      <td>None</td>\n",
       "    </tr>\n",
       "    <tr>\n",
       "      <th>OpenFF Gen 2 Torsion Set 6 Supplemental 2</th>\n",
       "      <td>None</td>\n",
       "    </tr>\n",
       "    <tr>\n",
       "      <th>OpenFF Gen3 Torsion Set v1.0</th>\n",
       "      <td>OpenFF Gen3 Torsion Set v1.0</td>\n",
       "    </tr>\n",
       "    <tr>\n",
       "      <th>OpenFF Group1 Torsions</th>\n",
       "      <td>None</td>\n",
       "    </tr>\n",
       "    <tr>\n",
       "      <th>OpenFF Group1 Torsions 2</th>\n",
       "      <td>None</td>\n",
       "    </tr>\n",
       "    <tr>\n",
       "      <th>OpenFF Group1 Torsions 3</th>\n",
       "      <td>None</td>\n",
       "    </tr>\n",
       "    <tr>\n",
       "      <th>OpenFF Primary Benchmark 1 Torsion Set</th>\n",
       "      <td>None</td>\n",
       "    </tr>\n",
       "    <tr>\n",
       "      <th>OpenFF Primary Benchmark 2 Torsion Set</th>\n",
       "      <td>None</td>\n",
       "    </tr>\n",
       "    <tr>\n",
       "      <th>OpenFF Primary TorsionDrive Benchmark 1</th>\n",
       "      <td>None</td>\n",
       "    </tr>\n",
       "    <tr>\n",
       "      <th>OpenFF Protein Fragments TorsionDrives v1.0</th>\n",
       "      <td>Torsiondrives for selected dihedrals of variou...</td>\n",
       "    </tr>\n",
       "    <tr>\n",
       "      <th>OpenFF Rowley Biaryl v1.0</th>\n",
       "      <td>Torsiondrives of biaryl molecules.</td>\n",
       "    </tr>\n",
       "    <tr>\n",
       "      <th>OpenFF Substituted Phenyl Set 1</th>\n",
       "      <td>None</td>\n",
       "    </tr>\n",
       "    <tr>\n",
       "      <th>OpenFF Substituted Phenyl Set 1 v2.0</th>\n",
       "      <td>Torsiondrives for selected dihedrals of variou...</td>\n",
       "    </tr>\n",
       "    <tr>\n",
       "      <th>OpenFF Theory Benchmarking Set B3LYP-D3BJ 6-31+Gss</th>\n",
       "      <td>Torsiondrives for benchmarking B3LYP-D3BJ/6-31...</td>\n",
       "    </tr>\n",
       "    <tr>\n",
       "      <th>OpenFF Theory Benchmarking Set B3LYP-D3BJ DZVP v1.0</th>\n",
       "      <td>Torsiondrives for benchmarking B3LYP-D3BJ/DZVP</td>\n",
       "    </tr>\n",
       "    <tr>\n",
       "      <th>OpenFF Theory Benchmarking Set B3LYP-D3BJ def2-TZVP v1.0</th>\n",
       "      <td>Torsiondrives for benchmarking B3LYP-D3BJ/def2...</td>\n",
       "    </tr>\n",
       "    <tr>\n",
       "      <th>OpenFF Theory Benchmarking Set B3LYP-D3BJ def2-TZVPD v1.0</th>\n",
       "      <td>Torsiondrives for benchmarking B3LYP-D3BJ/def2...</td>\n",
       "    </tr>\n",
       "    <tr>\n",
       "      <th>OpenFF Theory Benchmarking Set B3LYP-D3BJ def2-TZVPP v1.0</th>\n",
       "      <td>Torsiondrives for benchmarking B3LYP-D3BJ/def2...</td>\n",
       "    </tr>\n",
       "    <tr>\n",
       "      <th>OpenFF Theory Benchmarking Set B3LYP-D3BJ def2-TZVPPD</th>\n",
       "      <td>Torsiondrives for benchmarking B3LYP-D3BJ/def2...</td>\n",
       "    </tr>\n",
       "    <tr>\n",
       "      <th>OpenFF Theory Benchmarking Set v1.0</th>\n",
       "      <td>Torsiondrives for theory benchmarking</td>\n",
       "    </tr>\n",
       "    <tr>\n",
       "      <th>OpenFF WBO Conjugated Series v1.0</th>\n",
       "      <td>A functional series of molecules with varying ...</td>\n",
       "    </tr>\n",
       "    <tr>\n",
       "      <th>OpenFF-benchmark-ligand-fragments-v1.0</th>\n",
       "      <td>Fragmented torsiondrives of JACS benchmark inh...</td>\n",
       "    </tr>\n",
       "    <tr>\n",
       "      <th>Pfizer Discrepancy Torsion Dataset 1</th>\n",
       "      <td>None</td>\n",
       "    </tr>\n",
       "    <tr>\n",
       "      <th>SMIRNOFF Coverage Torsion Set 1</th>\n",
       "      <td>None</td>\n",
       "    </tr>\n",
       "    <tr>\n",
       "      <th>SiliconTX Torsion Benchmark Set 1</th>\n",
       "      <td>None</td>\n",
       "    </tr>\n",
       "    <tr>\n",
       "      <th>TorsionDrive Paper</th>\n",
       "      <td>None</td>\n",
       "    </tr>\n",
       "  </tbody>\n",
       "</table>\n",
       "</div>"
      ],
      "text/plain": [
       "                                                                                                                  tagline\n",
       "collection          name                                                                                                 \n",
       "TorsionDriveDataset Fragment Stability Benchmark                                                                     None\n",
       "                    Fragmenter paper                                                                                 None\n",
       "                    OpenFF Amide Torsion Set v1.0                       Amides, thioamides and amidines diversely func...\n",
       "                    OpenFF Aniline 2D Impropers v1.0                    Substituted aniline derivatives with various e...\n",
       "                    OpenFF DANCE 1 eMolecules t142 v1.0                                                              None\n",
       "                    OpenFF Fragmenter Validation 1.0                                                                 None\n",
       "                    OpenFF Full TorsionDrive Benchmark 1                                                             None\n",
       "                    OpenFF Gen 2 Torsion Set 1 Roche                                                                 None\n",
       "                    OpenFF Gen 2 Torsion Set 1 Roche 2                                                               None\n",
       "                    OpenFF Gen 2 Torsion Set 2 Coverage                                                              None\n",
       "                    OpenFF Gen 2 Torsion Set 2 Coverage 2                                                            None\n",
       "                    OpenFF Gen 2 Torsion Set 3 Pfizer Discrepancy                                                    None\n",
       "                    OpenFF Gen 2 Torsion Set 3 Pfizer Discrepancy 2                                                  None\n",
       "                    OpenFF Gen 2 Torsion Set 4 eMolecules Discrepancy                                                None\n",
       "                    OpenFF Gen 2 Torsion Set 4 eMolecules Discrepan...                                               None\n",
       "                    OpenFF Gen 2 Torsion Set 5 Bayer                                                                 None\n",
       "                    OpenFF Gen 2 Torsion Set 5 Bayer 2                                                               None\n",
       "                    OpenFF Gen 2 Torsion Set 6 Supplemental                                                          None\n",
       "                    OpenFF Gen 2 Torsion Set 6 Supplemental 2                                                        None\n",
       "                    OpenFF Gen3 Torsion Set v1.0                                             OpenFF Gen3 Torsion Set v1.0\n",
       "                    OpenFF Group1 Torsions                                                                           None\n",
       "                    OpenFF Group1 Torsions 2                                                                         None\n",
       "                    OpenFF Group1 Torsions 3                                                                         None\n",
       "                    OpenFF Primary Benchmark 1 Torsion Set                                                           None\n",
       "                    OpenFF Primary Benchmark 2 Torsion Set                                                           None\n",
       "                    OpenFF Primary TorsionDrive Benchmark 1                                                          None\n",
       "                    OpenFF Protein Fragments TorsionDrives v1.0         Torsiondrives for selected dihedrals of variou...\n",
       "                    OpenFF Rowley Biaryl v1.0                                          Torsiondrives of biaryl molecules.\n",
       "                    OpenFF Substituted Phenyl Set 1                                                                  None\n",
       "                    OpenFF Substituted Phenyl Set 1 v2.0                Torsiondrives for selected dihedrals of variou...\n",
       "                    OpenFF Theory Benchmarking Set B3LYP-D3BJ 6-31+Gss  Torsiondrives for benchmarking B3LYP-D3BJ/6-31...\n",
       "                    OpenFF Theory Benchmarking Set B3LYP-D3BJ DZVP ...     Torsiondrives for benchmarking B3LYP-D3BJ/DZVP\n",
       "                    OpenFF Theory Benchmarking Set B3LYP-D3BJ def2-...  Torsiondrives for benchmarking B3LYP-D3BJ/def2...\n",
       "                    OpenFF Theory Benchmarking Set B3LYP-D3BJ def2-...  Torsiondrives for benchmarking B3LYP-D3BJ/def2...\n",
       "                    OpenFF Theory Benchmarking Set B3LYP-D3BJ def2-...  Torsiondrives for benchmarking B3LYP-D3BJ/def2...\n",
       "                    OpenFF Theory Benchmarking Set B3LYP-D3BJ def2-...  Torsiondrives for benchmarking B3LYP-D3BJ/def2...\n",
       "                    OpenFF Theory Benchmarking Set v1.0                             Torsiondrives for theory benchmarking\n",
       "                    OpenFF WBO Conjugated Series v1.0                   A functional series of molecules with varying ...\n",
       "                    OpenFF-benchmark-ligand-fragments-v1.0              Fragmented torsiondrives of JACS benchmark inh...\n",
       "                    Pfizer Discrepancy Torsion Dataset 1                                                             None\n",
       "                    SMIRNOFF Coverage Torsion Set 1                                                                  None\n",
       "                    SiliconTX Torsion Benchmark Set 1                                                                None\n",
       "                    TorsionDrive Paper                                                                               None"
      ]
     },
     "execution_count": 10,
     "metadata": {},
     "output_type": "execute_result"
    }
   ],
   "source": [
    "client.list_collections(\"torsiondrivedataset\")"
   ]
  },
  {
   "cell_type": "code",
   "execution_count": 11,
   "id": "9accd47e",
   "metadata": {},
   "outputs": [],
   "source": [
    "# create a result from the dataset we know our molecule is in\n",
    "result = TorsionDriveResultCollection.from_server(client, \"OpenFF-benchmark-ligand-fragments-v1.0\", \"default\")"
   ]
  },
  {
   "cell_type": "code",
   "execution_count": 12,
   "id": "68560766",
   "metadata": {},
   "outputs": [
    {
     "data": {
      "text/plain": [
       "368"
      ]
     },
     "execution_count": 12,
     "metadata": {},
     "output_type": "execute_result"
    }
   ],
   "source": [
    "# check how many results we have\n",
    "result.n_molecules"
   ]
  },
  {
   "cell_type": "code",
   "execution_count": 13,
   "id": "d231c7e6",
   "metadata": {},
   "outputs": [
    {
     "data": {
      "text/plain": [
       "481"
      ]
     },
     "execution_count": 13,
     "metadata": {},
     "output_type": "execute_result"
    }
   ],
   "source": [
    "result.n_results"
   ]
  },
  {
   "cell_type": "markdown",
   "id": "84f5ca52",
   "metadata": {},
   "source": [
    "So we have 368 unique molecules and 481 torsiondrives, with some molecules have multipule torsion driven. All scans are 1D however."
   ]
  },
  {
   "cell_type": "code",
   "execution_count": 14,
   "id": "245a7592",
   "metadata": {},
   "outputs": [],
   "source": [
    "records_and_molecules = result.to_records()"
   ]
  },
  {
   "cell_type": "code",
   "execution_count": 15,
   "id": "b72c34d9",
   "metadata": {},
   "outputs": [],
   "source": [
    "# show what we have pulled down\n",
    "record, torsion_molecule = records_and_molecules[1]"
   ]
  },
  {
   "cell_type": "code",
   "execution_count": 16,
   "id": "d6fd661f",
   "metadata": {},
   "outputs": [
    {
     "name": "stdout",
     "output_type": "stream",
     "text": [
      "{'created_on': datetime.datetime(2020, 8, 11, 8, 41, 29, 323584),\n",
      " 'error': None,\n",
      " 'extras': {},\n",
      " 'final_energy_dict': {'[-105]': -632.1082407250015,\n",
      "                       '[-120]': -632.1100436475298,\n",
      "                       '[-135]': -632.1116905968972,\n",
      "                       '[-150]': -632.1124503467556,\n",
      "                       '[-15]': -632.1122764941144,\n",
      "                       '[-165]': -632.1122360012745,\n",
      "                       '[-30]': -632.1124124915791,\n",
      "                       '[-45]': -632.1114883980323,\n",
      "                       '[-60]': -632.1097698299328,\n",
      "                       '[-75]': -632.1080652765091,\n",
      "                       '[-90]': -632.1073734464316,\n",
      "                       '[0]': -632.1118147038835,\n",
      "                       '[105]': -632.1082410704761,\n",
      "                       '[120]': -632.1100441611275,\n",
      "                       '[135]': -632.111691344029,\n",
      "                       '[150]': -632.112451407927,\n",
      "                       '[15]': -632.112275166978,\n",
      "                       '[165]': -632.1122362989995,\n",
      "                       '[180]': -632.1118157399363,\n",
      "                       '[30]': -632.1124123810938,\n",
      "                       '[45]': -632.1114874589284,\n",
      "                       '[60]': -632.109769864283,\n",
      "                       '[75]': -632.1080668202721,\n",
      "                       '[90]': -632.1073733058034},\n",
      " 'hash_index': 'dbf6f64c0e7f338f567391dc206ceea13b2ab7ac',\n",
      " 'id': '21540279',\n",
      " 'initial_molecule': ['15026104'],\n",
      " 'keywords': {'dihedral_ranges': None,\n",
      "              'dihedrals': [(6, 10, 12, 14)],\n",
      "              'energy_decrease_thresh': None,\n",
      "              'energy_upper_limit': 0.05,\n",
      "              'grid_spacing': [15]},\n",
      " 'manager_name': None,\n",
      " 'minimum_positions': {'[-105]': 0,\n",
      "                       '[-120]': 0,\n",
      "                       '[-135]': 1,\n",
      "                       '[-150]': 0,\n",
      "                       '[-15]': 1,\n",
      "                       '[-165]': 0,\n",
      "                       '[-30]': 1,\n",
      "                       '[-45]': 0,\n",
      "                       '[-60]': 1,\n",
      "                       '[-75]': 1,\n",
      "                       '[-90]': 1,\n",
      "                       '[0]': 0,\n",
      "                       '[105]': 0,\n",
      "                       '[120]': 1,\n",
      "                       '[135]': 1,\n",
      "                       '[150]': 1,\n",
      "                       '[15]': 0,\n",
      "                       '[165]': 0,\n",
      "                       '[180]': 0,\n",
      "                       '[30]': 2,\n",
      "                       '[45]': 0,\n",
      "                       '[60]': 1,\n",
      "                       '[75]': 1,\n",
      "                       '[90]': 1},\n",
      " 'modified_on': datetime.datetime(2020, 8, 11, 8, 41, 29, 323581),\n",
      " 'optimization_history': {'[-105]': ['23700225', '23860143'],\n",
      "                          '[-120]': ['23705901', '23890885'],\n",
      "                          '[-135]': ['23860142', '23892313'],\n",
      "                          '[-150]': ['23890883', '23890884'],\n",
      "                          '[-15]': ['22891113', '23662930'],\n",
      "                          '[-165]': ['23860141', '23892312'],\n",
      "                          '[-30]': ['22919888', '23677356'],\n",
      "                          '[-45]': ['23662929', '23682180'],\n",
      "                          '[-60]': ['23677355', '23698626'],\n",
      "                          '[-75]': ['23682179', '23700226'],\n",
      "                          '[-90]': ['23698625', '23706038'],\n",
      "                          '[0]': ['22871775', '22919889'],\n",
      "                          '[105]': ['23662932', '23682181'],\n",
      "                          '[120]': ['23677358', '23698627'],\n",
      "                          '[135]': ['23682196', '23700227'],\n",
      "                          '[150]': ['23698628', '23706141'],\n",
      "                          '[15]': ['22869600', '22891114'],\n",
      "                          '[165]': ['23700228', '23860144'],\n",
      "                          '[180]': ['23706211', '23890886'],\n",
      "                          '[30]': ['21540687', '22871776', '22871777'],\n",
      "                          '[45]': ['22869601', '22891115'],\n",
      "                          '[60]': ['22871778', '22919890'],\n",
      "                          '[75]': ['22891116', '23662931'],\n",
      "                          '[90]': ['22919891', '23677357']},\n",
      " 'optimization_spec': {'keywords': {'check': 0,\n",
      "                                    'convergence_set': 'gau',\n",
      "                                    'coordsys': 'tric',\n",
      "                                    'enforce': 0.1,\n",
      "                                    'epsilon': 0,\n",
      "                                    'maxiter': 300,\n",
      "                                    'molcnv': False,\n",
      "                                    'qccnv': True,\n",
      "                                    'reset': True,\n",
      "                                    'tmax': 0.3,\n",
      "                                    'trust': 0.1},\n",
      "                       'program': 'geometric'},\n",
      " 'procedure': 'torsiondrive',\n",
      " 'program': 'torsiondrive',\n",
      " 'protocols': None,\n",
      " 'provenance': {'creator': 'torsiondrive',\n",
      "                'routine': 'torsiondrive.td_api',\n",
      "                'version': 'v0.9.8.1'},\n",
      " 'qc_spec': {'basis': 'dzvp',\n",
      "             'driver': <DriverEnum.gradient: 'gradient'>,\n",
      "             'keywords': '2',\n",
      "             'method': 'b3lyp-d3bj',\n",
      "             'program': 'psi4',\n",
      "             'protocols': {'wavefunction': <WavefunctionProtocolEnum.none: 'none'>}},\n",
      " 'status': <RecordStatusEnum.complete: 'COMPLETE'>,\n",
      " 'stderr': None,\n",
      " 'stdout': None,\n",
      " 'version': 1}\n"
     ]
    }
   ],
   "source": [
    "pprint(record.dict())"
   ]
  },
  {
   "cell_type": "code",
   "execution_count": 17,
   "id": "5f9f9458",
   "metadata": {},
   "outputs": [],
   "source": [
    "records_and_molecules[4][1].to_file('data/input.sdf', file_format='sdf')"
   ]
  },
  {
   "cell_type": "code",
   "execution_count": 18,
   "id": "abe49c22",
   "metadata": {},
   "outputs": [
    {
     "data": {
      "application/vnd.jupyter.widget-view+json": {
       "model_id": "eda35cfccc2943d282e8b36041dab1f4",
       "version_major": 2,
       "version_minor": 0
      },
      "text/plain": [
       "NGLWidget(max_frame=23)"
      ]
     },
     "metadata": {},
     "output_type": "display_data"
    }
   ],
   "source": [
    "#torsion_molecule.to_file('data/input.sdf', file_format='sdf')\n",
    "torsion_molecule"
   ]
  },
  {
   "cell_type": "code",
   "execution_count": 19,
   "id": "6ca5f051",
   "metadata": {},
   "outputs": [],
   "source": [
    "for molecule in schema:\n",
    "    molecule.update_with_results(records_and_molecules)"
   ]
  },
  {
   "cell_type": "code",
   "execution_count": 20,
   "id": "706480f5",
   "metadata": {},
   "outputs": [
    {
     "name": "stdout",
     "output_type": "stream",
     "text": [
      "False\n"
     ]
    }
   ],
   "source": [
    "for molecule in schema:\n",
    "    print(molecule.ready_for_fitting)"
   ]
  },
  {
   "cell_type": "markdown",
   "id": "fa559297",
   "metadata": {},
   "source": [
    "## 4. Optimize a bespoke torsion parameter"
   ]
  },
  {
   "cell_type": "code",
   "execution_count": 21,
   "id": "45129089",
   "metadata": {},
   "outputs": [],
   "source": [
    "executor = Executor()"
   ]
  },
  {
   "cell_type": "code",
   "execution_count": null,
   "id": "e81eb136",
   "metadata": {},
   "outputs": [
    {
     "name": "stdout",
     "output_type": "stream",
     "text": [
      "Searching for reference tasks\n",
      "Reference tasks found generating input datasets\n",
      "generating task map\n",
      "connecting to qcfractal\n"
     ]
    },
    {
     "name": "stderr",
     "output_type": "stream",
     "text": [
      "/Users/jeffreywagner/miniconda3/envs/2021-bespokefit-workshop/lib/python3.8/site-packages/openff/qcsubmit/validators.py:255: UserWarning: The molecule BrC6H4O3S has a net charge of -1.0.\n",
      "  warnings.warn(\n",
      "INFO:tornado.application:FractalServer:\n",
      "INFO:tornado.application:    Name:          QCFractal Snowflake Instance\n",
      "INFO:tornado.application:    Version:       v0.15.6\n",
      "INFO:tornado.application:    Address:       http://localhost:50230/\n",
      "INFO:tornado.application:    Database URI:  postgresql://localhost:50222/\n",
      "INFO:tornado.application:    Database Name: temporary_snowflake\n",
      "INFO:tornado.application:    Query Limit:   1000000\n",
      "\n",
      "WARNING:tornado.application:Warning! This is a temporary instance, data will be lost upon shutdown. For information about how to set up a permanent QCFractal instance, see http://docs.qcarchive.molssi.org/projects/qcfractal/en/latest/setup_quickstart.html\n",
      "INFO:tornado.application:Waiting on queue_manager to build.\n",
      "INFO:tornado.application:FractalServer successfully started.\n",
      "\n"
     ]
    },
    {
     "name": "stdout",
     "output_type": "stream",
     "text": [
      "FractalServer(name='QCFractal Snowflake Instance' uri='http://localhost:50230/')\n"
     ]
    }
   ],
   "source": [
    "executor.execute(schema[0])"
   ]
  },
  {
   "cell_type": "code",
   "execution_count": null,
   "id": "96995315",
   "metadata": {},
   "outputs": [],
   "source": []
  }
 ],
 "metadata": {
  "kernelspec": {
   "display_name": "Python 3 (ipykernel)",
   "language": "python",
   "name": "python3"
  },
  "language_info": {
   "codemirror_mode": {
    "name": "ipython",
    "version": 3
   },
   "file_extension": ".py",
   "mimetype": "text/x-python",
   "name": "python",
   "nbconvert_exporter": "python",
   "pygments_lexer": "ipython3",
   "version": "3.8.10"
  }
 },
 "nbformat": 4,
 "nbformat_minor": 5
}
