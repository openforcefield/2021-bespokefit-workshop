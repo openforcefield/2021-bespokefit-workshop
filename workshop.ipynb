{
 "cells": [
  {
   "cell_type": "markdown",
   "id": "5bf89419",
   "metadata": {},
   "source": [
    "# Bespokefit workshop live session\n",
    "\n",
    "## Learning objectives\n",
    "\n",
    "By the end of this workshop you will be able to:\n",
    "\n",
    "- 1. Build, configure and save a general bespokefit optimisation workflow\n",
    "- 2. Build molecule specific optimizaion schemas from the general workflow\n",
    "- 3. Load QCArchive computed data using OpenFF-QCSubmit as a fitting reference\n",
    "- 4. Optimize some bespoke torsion parameters\n",
    "- 5. analysis the results from ForceBalance \n",
    "- 6. Generate refernce data locally using xtb on the fly"
   ]
  },
  {
   "cell_type": "code",
   "execution_count": 1,
   "id": "d1050ba7",
   "metadata": {},
   "outputs": [
    {
     "name": "stderr",
     "output_type": "stream",
     "text": [
      "Warning: Unable to load toolkit 'OpenEye Toolkit'. The Open Force Field Toolkit does not require the OpenEye Toolkits, and can use RDKit/AmberTools instead. However, if you have a valid license for the OpenEye Toolkits, consider installing them for faster performance and additional file format support: https://docs.eyesopen.com/toolkits/python/quickstart-python/linuxosx.html OpenEye offers free Toolkit licenses for academics: https://www.eyesopen.com/academic-licensing\n"
     ]
    }
   ],
   "source": [
    "from openff.qcsubmit.results import TorsionDriveResultCollection\n",
    "from openff.bespokefit.workflows import BespokeWorkflowFactory\n",
    "from openff.bespokefit.schema.optimizers import ForceBalanceSchema\n",
    "from openff.bespokefit.schema.targets import TorsionProfileTargetSchema\n",
    "from openff.bespokefit.bespoke import Executor\n",
    "from openff.bespokefit.schema.data import BespokeQCData\n",
    "from openff.qcsubmit.common_structures import QCSpec\n",
    "from openff.toolkit.topology import Molecule\n",
    "from qcportal import FractalClient\n",
    "from pprint import pprint"
   ]
  },
  {
   "cell_type": "markdown",
   "id": "c7454634",
   "metadata": {},
   "source": [
    "## 1. Building the general workflow\n",
    "\n",
    "Bespokefit aims to provide a reproducable parameter optimization workflow for SMIRNOFF based force fields. As such normal bespokefit execution starts with a general fitting workflow. This captures every process in the workflow along with any ajustable settings such as how the reference data should be generated. Lets start with a basic workflow which should be ready to use for torsion fitting."
   ]
  },
  {
   "cell_type": "code",
   "execution_count": 2,
   "id": "761a93f7",
   "metadata": {},
   "outputs": [
    {
     "name": "stdout",
     "output_type": "stream",
     "text": [
      "{'expand_torsion_terms': True,\n",
      " 'fragmentation_engine': None,\n",
      " 'generate_bespoke_terms': True,\n",
      " 'initial_force_field': 'openff_unconstrained-1.3.0.offxml',\n",
      " 'optimizer': {'adaptive_damping': 1.0,\n",
      "               'adaptive_factor': 0.2,\n",
      "               'eigenvalue_lower_bound': 0.01,\n",
      "               'error_tolerance': 1.0,\n",
      "               'extras': {},\n",
      "               'finite_difference_h': 0.01,\n",
      "               'gradient_convergence_threshold': 0.01,\n",
      "               'initial_trust_radius': -0.25,\n",
      "               'job_type': 'optimize',\n",
      "               'max_iterations': 10,\n",
      "               'minimum_trust_radius': 0.05,\n",
      "               'n_criteria': 2,\n",
      "               'normalize_weights': False,\n",
      "               'objective_convergence_threshold': 0.01,\n",
      "               'penalty_additive': 1.0,\n",
      "               'penalty_type': 'L1',\n",
      "               'step_convergence_threshold': 0.01,\n",
      "               'type': 'ForceBalance'},\n",
      " 'parameter_settings': [],\n",
      " 'target_smirks': [],\n",
      " 'target_templates': []}\n"
     ]
    }
   ],
   "source": [
    "# start with an empty workflow \n",
    "workflow = BespokeWorkflowFactory(fragmentation_engine=None, parameter_settings=[], target_smirks=[], target_templates=[])\n",
    "pprint(workflow.dict())"
   ]
  },
  {
   "cell_type": "markdown",
   "id": "b4b690ff",
   "metadata": {},
   "source": [
    "## 2. Build molecule specific schema\n",
    "\n"
   ]
  },
  {
   "cell_type": "code",
   "execution_count": 3,
   "id": "32cd7eb3",
   "metadata": {},
   "outputs": [
    {
     "ename": "OSError",
     "evalue": "File error: Bad input file data/bace.sdf",
     "output_type": "error",
     "traceback": [
      "\u001b[0;31m---------------------------------------------------------------------------\u001b[0m",
      "\u001b[0;31mOSError\u001b[0m                                   Traceback (most recent call last)",
      "\u001b[0;32m/var/folders/kc/z88p9wb140727hwlvbzybd2r0000gn/T/ipykernel_64399/1605101199.py\u001b[0m in \u001b[0;36m<module>\u001b[0;34m\u001b[0m\n\u001b[1;32m      1\u001b[0m \u001b[0;31m# load the molecules\u001b[0m\u001b[0;34m\u001b[0m\u001b[0;34m\u001b[0m\u001b[0;34m\u001b[0m\u001b[0m\n\u001b[0;32m----> 2\u001b[0;31m \u001b[0mmol\u001b[0m \u001b[0;34m=\u001b[0m \u001b[0mMolecule\u001b[0m\u001b[0;34m.\u001b[0m\u001b[0mfrom_file\u001b[0m\u001b[0;34m(\u001b[0m\u001b[0;34m\"data/bace.sdf\"\u001b[0m\u001b[0;34m)\u001b[0m\u001b[0;34m\u001b[0m\u001b[0;34m\u001b[0m\u001b[0m\n\u001b[0m",
      "\u001b[0;32m~/miniconda3/envs/2021-bespokefit-workshop/lib/python3.8/site-packages/openff/toolkit/topology/molecule.py\u001b[0m in \u001b[0;36mfrom_file\u001b[0;34m(cls, file_path, file_format, toolkit_registry, allow_undefined_stereo)\u001b[0m\n\u001b[1;32m   4233\u001b[0m \u001b[0;34m\u001b[0m\u001b[0m\n\u001b[1;32m   4234\u001b[0m         \u001b[0;32mif\u001b[0m \u001b[0misinstance\u001b[0m\u001b[0;34m(\u001b[0m\u001b[0mfile_path\u001b[0m\u001b[0;34m,\u001b[0m \u001b[0mstr\u001b[0m\u001b[0;34m)\u001b[0m\u001b[0;34m:\u001b[0m\u001b[0;34m\u001b[0m\u001b[0;34m\u001b[0m\u001b[0m\n\u001b[0;32m-> 4235\u001b[0;31m             mols = toolkit.from_file(\n\u001b[0m\u001b[1;32m   4236\u001b[0m                 \u001b[0mfile_path\u001b[0m\u001b[0;34m,\u001b[0m\u001b[0;34m\u001b[0m\u001b[0;34m\u001b[0m\u001b[0m\n\u001b[1;32m   4237\u001b[0m                 \u001b[0mfile_format\u001b[0m\u001b[0;34m=\u001b[0m\u001b[0mfile_format\u001b[0m\u001b[0;34m,\u001b[0m\u001b[0;34m\u001b[0m\u001b[0;34m\u001b[0m\u001b[0m\n",
      "\u001b[0;32m~/miniconda3/envs/2021-bespokefit-workshop/lib/python3.8/site-packages/openff/toolkit/utils/toolkits.py\u001b[0m in \u001b[0;36mfrom_file\u001b[0;34m(self, file_path, file_format, allow_undefined_stereo, _cls)\u001b[0m\n\u001b[1;32m   2945\u001b[0m         \u001b[0mmols\u001b[0m \u001b[0;34m=\u001b[0m \u001b[0mlist\u001b[0m\u001b[0;34m(\u001b[0m\u001b[0;34m)\u001b[0m\u001b[0;34m\u001b[0m\u001b[0;34m\u001b[0m\u001b[0m\n\u001b[1;32m   2946\u001b[0m         \u001b[0;32mif\u001b[0m \u001b[0;34m(\u001b[0m\u001b[0mfile_format\u001b[0m \u001b[0;34m==\u001b[0m \u001b[0;34m\"MOL\"\u001b[0m\u001b[0;34m)\u001b[0m \u001b[0;32mor\u001b[0m \u001b[0;34m(\u001b[0m\u001b[0mfile_format\u001b[0m \u001b[0;34m==\u001b[0m \u001b[0;34m\"SDF\"\u001b[0m\u001b[0;34m)\u001b[0m\u001b[0;34m:\u001b[0m\u001b[0;34m\u001b[0m\u001b[0;34m\u001b[0m\u001b[0m\n\u001b[0;32m-> 2947\u001b[0;31m             for rdmol in Chem.SupplierFromFilename(\n\u001b[0m\u001b[1;32m   2948\u001b[0m                 \u001b[0mfile_path\u001b[0m\u001b[0;34m,\u001b[0m \u001b[0mremoveHs\u001b[0m\u001b[0;34m=\u001b[0m\u001b[0;32mFalse\u001b[0m\u001b[0;34m,\u001b[0m \u001b[0msanitize\u001b[0m\u001b[0;34m=\u001b[0m\u001b[0;32mFalse\u001b[0m\u001b[0;34m,\u001b[0m \u001b[0mstrictParsing\u001b[0m\u001b[0;34m=\u001b[0m\u001b[0;32mTrue\u001b[0m\u001b[0;34m\u001b[0m\u001b[0;34m\u001b[0m\u001b[0m\n\u001b[1;32m   2949\u001b[0m             ):\n",
      "\u001b[0;32m~/miniconda3/envs/2021-bespokefit-workshop/lib/python3.8/site-packages/rdkit/Chem/__init__.py\u001b[0m in \u001b[0;36mSupplierFromFilename\u001b[0;34m(fileN, delim, **kwargs)\u001b[0m\n\u001b[1;32m     61\u001b[0m   \u001b[0mext\u001b[0m \u001b[0;34m=\u001b[0m \u001b[0mfileN\u001b[0m\u001b[0;34m.\u001b[0m\u001b[0msplit\u001b[0m\u001b[0;34m(\u001b[0m\u001b[0;34m'.'\u001b[0m\u001b[0;34m)\u001b[0m\u001b[0;34m[\u001b[0m\u001b[0;34m-\u001b[0m\u001b[0;36m1\u001b[0m\u001b[0;34m]\u001b[0m\u001b[0;34m.\u001b[0m\u001b[0mlower\u001b[0m\u001b[0;34m(\u001b[0m\u001b[0;34m)\u001b[0m\u001b[0;34m\u001b[0m\u001b[0;34m\u001b[0m\u001b[0m\n\u001b[1;32m     62\u001b[0m   \u001b[0;32mif\u001b[0m \u001b[0mext\u001b[0m \u001b[0;34m==\u001b[0m \u001b[0;34m'sdf'\u001b[0m\u001b[0;34m:\u001b[0m\u001b[0;34m\u001b[0m\u001b[0;34m\u001b[0m\u001b[0m\n\u001b[0;32m---> 63\u001b[0;31m     \u001b[0msuppl\u001b[0m \u001b[0;34m=\u001b[0m \u001b[0mSDMolSupplier\u001b[0m\u001b[0;34m(\u001b[0m\u001b[0mfileN\u001b[0m\u001b[0;34m,\u001b[0m \u001b[0;34m**\u001b[0m\u001b[0mkwargs\u001b[0m\u001b[0;34m)\u001b[0m\u001b[0;34m\u001b[0m\u001b[0;34m\u001b[0m\u001b[0m\n\u001b[0m\u001b[1;32m     64\u001b[0m   \u001b[0;32melif\u001b[0m \u001b[0mext\u001b[0m \u001b[0;34m==\u001b[0m \u001b[0;34m'csv'\u001b[0m\u001b[0;34m:\u001b[0m\u001b[0;34m\u001b[0m\u001b[0;34m\u001b[0m\u001b[0m\n\u001b[1;32m     65\u001b[0m     \u001b[0;32mif\u001b[0m \u001b[0;32mnot\u001b[0m \u001b[0mdelim\u001b[0m\u001b[0;34m:\u001b[0m\u001b[0;34m\u001b[0m\u001b[0;34m\u001b[0m\u001b[0m\n",
      "\u001b[0;31mOSError\u001b[0m: File error: Bad input file data/bace.sdf"
     ]
    }
   ],
   "source": [
    "# load the molecules\n",
    "mol = Molecule.from_file(\"data/bace.sdf\")"
   ]
  },
  {
   "cell_type": "code",
   "execution_count": null,
   "id": "5f489b4a",
   "metadata": {},
   "outputs": [],
   "source": [
    "mol[5]"
   ]
  },
  {
   "cell_type": "code",
   "execution_count": null,
   "id": "d85c5cec",
   "metadata": {},
   "outputs": [],
   "source": [
    "# load the default factory \n",
    "workflow = BespokeWorkflowFactory()"
   ]
  },
  {
   "cell_type": "code",
   "execution_count": null,
   "id": "ccffffb8",
   "metadata": {},
   "outputs": [],
   "source": [
    "# process all molecules\n",
    "schema = workflow.optimization_schemas_from_molecules(mol[5])"
   ]
  },
  {
   "cell_type": "code",
   "execution_count": null,
   "id": "39a5ef12",
   "metadata": {},
   "outputs": [],
   "source": [
    "# pull out the new smirks and show how they transfer between the parent and the fragment"
   ]
  },
  {
   "cell_type": "code",
   "execution_count": null,
   "id": "39247bc1",
   "metadata": {},
   "outputs": [],
   "source": [
    "# look into the data in the fitting schema\n",
    "schema[0].targets[0].reference_data.dict(exclude={\"tasks\"})"
   ]
  },
  {
   "cell_type": "markdown",
   "id": "ff36e3b1",
   "metadata": {},
   "source": [
    "## 3. Loading data from QCArchive"
   ]
  },
  {
   "cell_type": "code",
   "execution_count": null,
   "id": "f860b0fc",
   "metadata": {},
   "outputs": [],
   "source": [
    "client = FractalClient()"
   ]
  },
  {
   "cell_type": "code",
   "execution_count": null,
   "id": "ff24db1b",
   "metadata": {},
   "outputs": [],
   "source": [
    "client.list_collections(\"torsiondrivedataset\")"
   ]
  },
  {
   "cell_type": "code",
   "execution_count": null,
   "id": "9accd47e",
   "metadata": {},
   "outputs": [],
   "source": [
    "# create a result from the dataset we know our molecule is in\n",
    "result = TorsionDriveResultCollection.from_server(client, \"OpenFF-benchmark-ligand-fragments-v1.0\", \"default\")"
   ]
  },
  {
   "cell_type": "code",
   "execution_count": null,
   "id": "68560766",
   "metadata": {},
   "outputs": [],
   "source": [
    "# check how many results we have\n",
    "result.n_molecules"
   ]
  },
  {
   "cell_type": "code",
   "execution_count": null,
   "id": "d231c7e6",
   "metadata": {},
   "outputs": [],
   "source": [
    "result.n_results"
   ]
  },
  {
   "cell_type": "markdown",
   "id": "84f5ca52",
   "metadata": {},
   "source": [
    "So we have 368 unique molecules and 481 torsiondrives, with some molecules have multipule torsion driven. All scans are 1D however."
   ]
  },
  {
   "cell_type": "code",
   "execution_count": null,
   "id": "245a7592",
   "metadata": {},
   "outputs": [],
   "source": [
    "records_and_molecules = result.to_records()"
   ]
  },
  {
   "cell_type": "code",
   "execution_count": null,
   "id": "b72c34d9",
   "metadata": {},
   "outputs": [],
   "source": [
    "# show what we have pulled down\n",
    "record, torsion_molecule = records_and_molecules[0]"
   ]
  },
  {
   "cell_type": "code",
   "execution_count": null,
   "id": "d6fd661f",
   "metadata": {},
   "outputs": [],
   "source": [
    "pprint(record.dict())"
   ]
  },
  {
   "cell_type": "code",
   "execution_count": null,
   "id": "abe49c22",
   "metadata": {},
   "outputs": [],
   "source": [
    "torsion_molecule"
   ]
  },
  {
   "cell_type": "code",
   "execution_count": null,
   "id": "6ca5f051",
   "metadata": {},
   "outputs": [],
   "source": [
    "for molecule in schema:\n",
    "    molecule.update_with_results(records_and_molecules)"
   ]
  },
  {
   "cell_type": "code",
   "execution_count": null,
   "id": "706480f5",
   "metadata": {},
   "outputs": [],
   "source": [
    "for molecule in schema:\n",
    "    print(molecule.ready_for_fitting)"
   ]
  },
  {
   "cell_type": "markdown",
   "id": "fa559297",
   "metadata": {},
   "source": [
    "## 4. Optimize a bespoke torsion parameter"
   ]
  },
  {
   "cell_type": "code",
   "execution_count": null,
   "id": "45129089",
   "metadata": {},
   "outputs": [],
   "source": [
    "executor = Executor()"
   ]
  },
  {
   "cell_type": "code",
   "execution_count": null,
   "id": "e81eb136",
   "metadata": {},
   "outputs": [],
   "source": [
    "executor.execute(schema[0])"
   ]
  },
  {
   "cell_type": "code",
   "execution_count": null,
   "id": "96995315",
   "metadata": {},
   "outputs": [],
   "source": []
  }
 ],
 "metadata": {
  "kernelspec": {
   "display_name": "Python 3 (ipykernel)",
   "language": "python",
   "name": "python3"
  },
  "language_info": {
   "codemirror_mode": {
    "name": "ipython",
    "version": 3
   },
   "file_extension": ".py",
   "mimetype": "text/x-python",
   "name": "python",
   "nbconvert_exporter": "python",
   "pygments_lexer": "ipython3",
   "version": "3.8.10"
  }
 },
 "nbformat": 4,
 "nbformat_minor": 5
}
